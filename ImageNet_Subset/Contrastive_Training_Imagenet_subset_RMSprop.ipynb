{
  "nbformat": 4,
  "nbformat_minor": 0,
  "metadata": {
    "colab": {
      "name": "Contrastive_Training_Imagenet_subset_RMSprop.ipynb",
      "provenance": []
    },
    "kernelspec": {
      "name": "python3",
      "display_name": "Python 3"
    },
    "accelerator": "GPU",
    "widgets": {
      "application/vnd.jupyter.widget-state+json": {
        "2bf134dc349c4f57935d49f2f269ccfd": {
          "model_module": "@jupyter-widgets/controls",
          "model_name": "HBoxModel",
          "state": {
            "_view_name": "HBoxView",
            "_dom_classes": [],
            "_model_name": "HBoxModel",
            "_view_module": "@jupyter-widgets/controls",
            "_model_module_version": "1.5.0",
            "_view_count": null,
            "_view_module_version": "1.5.0",
            "box_style": "",
            "layout": "IPY_MODEL_a9ecb438e13d42938e0d76e5c09bb070",
            "_model_module": "@jupyter-widgets/controls",
            "children": [
              "IPY_MODEL_9085a85f3427487f8a96bc1c3d8e77f3",
              "IPY_MODEL_c4fb72c4b2274068b39a24a8458d9658"
            ]
          }
        },
        "a9ecb438e13d42938e0d76e5c09bb070": {
          "model_module": "@jupyter-widgets/base",
          "model_name": "LayoutModel",
          "state": {
            "_view_name": "LayoutView",
            "grid_template_rows": null,
            "right": null,
            "justify_content": null,
            "_view_module": "@jupyter-widgets/base",
            "overflow": null,
            "_model_module_version": "1.2.0",
            "_view_count": null,
            "flex_flow": null,
            "width": null,
            "min_width": null,
            "border": null,
            "align_items": null,
            "bottom": null,
            "_model_module": "@jupyter-widgets/base",
            "top": null,
            "grid_column": null,
            "overflow_y": null,
            "overflow_x": null,
            "grid_auto_flow": null,
            "grid_area": null,
            "grid_template_columns": null,
            "flex": null,
            "_model_name": "LayoutModel",
            "justify_items": null,
            "grid_row": null,
            "max_height": null,
            "align_content": null,
            "visibility": null,
            "align_self": null,
            "height": null,
            "min_height": null,
            "padding": null,
            "grid_auto_rows": null,
            "grid_gap": null,
            "max_width": null,
            "order": null,
            "_view_module_version": "1.2.0",
            "grid_template_areas": null,
            "object_position": null,
            "object_fit": null,
            "grid_auto_columns": null,
            "margin": null,
            "display": null,
            "left": null
          }
        },
        "9085a85f3427487f8a96bc1c3d8e77f3": {
          "model_module": "@jupyter-widgets/controls",
          "model_name": "FloatProgressModel",
          "state": {
            "_view_name": "ProgressView",
            "style": "IPY_MODEL_2d484473652b475e9a2e151cda9710e7",
            "_dom_classes": [],
            "description": "100%",
            "_model_name": "FloatProgressModel",
            "bar_style": "success",
            "max": 1250,
            "_view_module": "@jupyter-widgets/controls",
            "_model_module_version": "1.5.0",
            "value": 1250,
            "_view_count": null,
            "_view_module_version": "1.5.0",
            "orientation": "horizontal",
            "min": 0,
            "description_tooltip": null,
            "_model_module": "@jupyter-widgets/controls",
            "layout": "IPY_MODEL_1bddbfdf1869464ca7d5ea8585b01063"
          }
        },
        "c4fb72c4b2274068b39a24a8458d9658": {
          "model_module": "@jupyter-widgets/controls",
          "model_name": "HTMLModel",
          "state": {
            "_view_name": "HTMLView",
            "style": "IPY_MODEL_0ff3d551ce8f4ba4af5074516897d799",
            "_dom_classes": [],
            "description": "",
            "_model_name": "HTMLModel",
            "placeholder": "​",
            "_view_module": "@jupyter-widgets/controls",
            "_model_module_version": "1.5.0",
            "value": " 1250/1250 [00:48&lt;00:00, 25.98it/s]",
            "_view_count": null,
            "_view_module_version": "1.5.0",
            "description_tooltip": null,
            "_model_module": "@jupyter-widgets/controls",
            "layout": "IPY_MODEL_08a16708d52046dba48c86ef96303235"
          }
        },
        "2d484473652b475e9a2e151cda9710e7": {
          "model_module": "@jupyter-widgets/controls",
          "model_name": "ProgressStyleModel",
          "state": {
            "_view_name": "StyleView",
            "_model_name": "ProgressStyleModel",
            "description_width": "initial",
            "_view_module": "@jupyter-widgets/base",
            "_model_module_version": "1.5.0",
            "_view_count": null,
            "_view_module_version": "1.2.0",
            "bar_color": null,
            "_model_module": "@jupyter-widgets/controls"
          }
        },
        "1bddbfdf1869464ca7d5ea8585b01063": {
          "model_module": "@jupyter-widgets/base",
          "model_name": "LayoutModel",
          "state": {
            "_view_name": "LayoutView",
            "grid_template_rows": null,
            "right": null,
            "justify_content": null,
            "_view_module": "@jupyter-widgets/base",
            "overflow": null,
            "_model_module_version": "1.2.0",
            "_view_count": null,
            "flex_flow": null,
            "width": null,
            "min_width": null,
            "border": null,
            "align_items": null,
            "bottom": null,
            "_model_module": "@jupyter-widgets/base",
            "top": null,
            "grid_column": null,
            "overflow_y": null,
            "overflow_x": null,
            "grid_auto_flow": null,
            "grid_area": null,
            "grid_template_columns": null,
            "flex": null,
            "_model_name": "LayoutModel",
            "justify_items": null,
            "grid_row": null,
            "max_height": null,
            "align_content": null,
            "visibility": null,
            "align_self": null,
            "height": null,
            "min_height": null,
            "padding": null,
            "grid_auto_rows": null,
            "grid_gap": null,
            "max_width": null,
            "order": null,
            "_view_module_version": "1.2.0",
            "grid_template_areas": null,
            "object_position": null,
            "object_fit": null,
            "grid_auto_columns": null,
            "margin": null,
            "display": null,
            "left": null
          }
        },
        "0ff3d551ce8f4ba4af5074516897d799": {
          "model_module": "@jupyter-widgets/controls",
          "model_name": "DescriptionStyleModel",
          "state": {
            "_view_name": "StyleView",
            "_model_name": "DescriptionStyleModel",
            "description_width": "",
            "_view_module": "@jupyter-widgets/base",
            "_model_module_version": "1.5.0",
            "_view_count": null,
            "_view_module_version": "1.2.0",
            "_model_module": "@jupyter-widgets/controls"
          }
        },
        "08a16708d52046dba48c86ef96303235": {
          "model_module": "@jupyter-widgets/base",
          "model_name": "LayoutModel",
          "state": {
            "_view_name": "LayoutView",
            "grid_template_rows": null,
            "right": null,
            "justify_content": null,
            "_view_module": "@jupyter-widgets/base",
            "overflow": null,
            "_model_module_version": "1.2.0",
            "_view_count": null,
            "flex_flow": null,
            "width": null,
            "min_width": null,
            "border": null,
            "align_items": null,
            "bottom": null,
            "_model_module": "@jupyter-widgets/base",
            "top": null,
            "grid_column": null,
            "overflow_y": null,
            "overflow_x": null,
            "grid_auto_flow": null,
            "grid_area": null,
            "grid_template_columns": null,
            "flex": null,
            "_model_name": "LayoutModel",
            "justify_items": null,
            "grid_row": null,
            "max_height": null,
            "align_content": null,
            "visibility": null,
            "align_self": null,
            "height": null,
            "min_height": null,
            "padding": null,
            "grid_auto_rows": null,
            "grid_gap": null,
            "max_width": null,
            "order": null,
            "_view_module_version": "1.2.0",
            "grid_template_areas": null,
            "object_position": null,
            "object_fit": null,
            "grid_auto_columns": null,
            "margin": null,
            "display": null,
            "left": null
          }
        },
        "a2b5816558f646c1b3d89ffd6e83239b": {
          "model_module": "@jupyter-widgets/controls",
          "model_name": "HBoxModel",
          "state": {
            "_view_name": "HBoxView",
            "_dom_classes": [],
            "_model_name": "HBoxModel",
            "_view_module": "@jupyter-widgets/controls",
            "_model_module_version": "1.5.0",
            "_view_count": null,
            "_view_module_version": "1.5.0",
            "box_style": "",
            "layout": "IPY_MODEL_492c5b977abc40f3b4fadebe295e3d3f",
            "_model_module": "@jupyter-widgets/controls",
            "children": [
              "IPY_MODEL_881605176d8640268c2bbd4d9973d85c",
              "IPY_MODEL_3d461647cf014196bca70726a00a7dc5"
            ]
          }
        },
        "492c5b977abc40f3b4fadebe295e3d3f": {
          "model_module": "@jupyter-widgets/base",
          "model_name": "LayoutModel",
          "state": {
            "_view_name": "LayoutView",
            "grid_template_rows": null,
            "right": null,
            "justify_content": null,
            "_view_module": "@jupyter-widgets/base",
            "overflow": null,
            "_model_module_version": "1.2.0",
            "_view_count": null,
            "flex_flow": null,
            "width": null,
            "min_width": null,
            "border": null,
            "align_items": null,
            "bottom": null,
            "_model_module": "@jupyter-widgets/base",
            "top": null,
            "grid_column": null,
            "overflow_y": null,
            "overflow_x": null,
            "grid_auto_flow": null,
            "grid_area": null,
            "grid_template_columns": null,
            "flex": null,
            "_model_name": "LayoutModel",
            "justify_items": null,
            "grid_row": null,
            "max_height": null,
            "align_content": null,
            "visibility": null,
            "align_self": null,
            "height": null,
            "min_height": null,
            "padding": null,
            "grid_auto_rows": null,
            "grid_gap": null,
            "max_width": null,
            "order": null,
            "_view_module_version": "1.2.0",
            "grid_template_areas": null,
            "object_position": null,
            "object_fit": null,
            "grid_auto_columns": null,
            "margin": null,
            "display": null,
            "left": null
          }
        },
        "881605176d8640268c2bbd4d9973d85c": {
          "model_module": "@jupyter-widgets/controls",
          "model_name": "FloatProgressModel",
          "state": {
            "_view_name": "ProgressView",
            "style": "IPY_MODEL_a6efe9d715d546d39f5da299d954388a",
            "_dom_classes": [],
            "description": "100%",
            "_model_name": "FloatProgressModel",
            "bar_style": "success",
            "max": 250,
            "_view_module": "@jupyter-widgets/controls",
            "_model_module_version": "1.5.0",
            "value": 250,
            "_view_count": null,
            "_view_module_version": "1.5.0",
            "orientation": "horizontal",
            "min": 0,
            "description_tooltip": null,
            "_model_module": "@jupyter-widgets/controls",
            "layout": "IPY_MODEL_f6cddbbf25bf4c0d86d6bb9a7ade280e"
          }
        },
        "3d461647cf014196bca70726a00a7dc5": {
          "model_module": "@jupyter-widgets/controls",
          "model_name": "HTMLModel",
          "state": {
            "_view_name": "HTMLView",
            "style": "IPY_MODEL_c586467890644e35bc61ad133a8e085f",
            "_dom_classes": [],
            "description": "",
            "_model_name": "HTMLModel",
            "placeholder": "​",
            "_view_module": "@jupyter-widgets/controls",
            "_model_module_version": "1.5.0",
            "value": " 250/250 [00:25&lt;00:00,  9.84it/s]",
            "_view_count": null,
            "_view_module_version": "1.5.0",
            "description_tooltip": null,
            "_model_module": "@jupyter-widgets/controls",
            "layout": "IPY_MODEL_2935563f1fb44363ae5088cf2af0f150"
          }
        },
        "a6efe9d715d546d39f5da299d954388a": {
          "model_module": "@jupyter-widgets/controls",
          "model_name": "ProgressStyleModel",
          "state": {
            "_view_name": "StyleView",
            "_model_name": "ProgressStyleModel",
            "description_width": "initial",
            "_view_module": "@jupyter-widgets/base",
            "_model_module_version": "1.5.0",
            "_view_count": null,
            "_view_module_version": "1.2.0",
            "bar_color": null,
            "_model_module": "@jupyter-widgets/controls"
          }
        },
        "f6cddbbf25bf4c0d86d6bb9a7ade280e": {
          "model_module": "@jupyter-widgets/base",
          "model_name": "LayoutModel",
          "state": {
            "_view_name": "LayoutView",
            "grid_template_rows": null,
            "right": null,
            "justify_content": null,
            "_view_module": "@jupyter-widgets/base",
            "overflow": null,
            "_model_module_version": "1.2.0",
            "_view_count": null,
            "flex_flow": null,
            "width": null,
            "min_width": null,
            "border": null,
            "align_items": null,
            "bottom": null,
            "_model_module": "@jupyter-widgets/base",
            "top": null,
            "grid_column": null,
            "overflow_y": null,
            "overflow_x": null,
            "grid_auto_flow": null,
            "grid_area": null,
            "grid_template_columns": null,
            "flex": null,
            "_model_name": "LayoutModel",
            "justify_items": null,
            "grid_row": null,
            "max_height": null,
            "align_content": null,
            "visibility": null,
            "align_self": null,
            "height": null,
            "min_height": null,
            "padding": null,
            "grid_auto_rows": null,
            "grid_gap": null,
            "max_width": null,
            "order": null,
            "_view_module_version": "1.2.0",
            "grid_template_areas": null,
            "object_position": null,
            "object_fit": null,
            "grid_auto_columns": null,
            "margin": null,
            "display": null,
            "left": null
          }
        },
        "c586467890644e35bc61ad133a8e085f": {
          "model_module": "@jupyter-widgets/controls",
          "model_name": "DescriptionStyleModel",
          "state": {
            "_view_name": "StyleView",
            "_model_name": "DescriptionStyleModel",
            "description_width": "",
            "_view_module": "@jupyter-widgets/base",
            "_model_module_version": "1.5.0",
            "_view_count": null,
            "_view_module_version": "1.2.0",
            "_model_module": "@jupyter-widgets/controls"
          }
        },
        "2935563f1fb44363ae5088cf2af0f150": {
          "model_module": "@jupyter-widgets/base",
          "model_name": "LayoutModel",
          "state": {
            "_view_name": "LayoutView",
            "grid_template_rows": null,
            "right": null,
            "justify_content": null,
            "_view_module": "@jupyter-widgets/base",
            "overflow": null,
            "_model_module_version": "1.2.0",
            "_view_count": null,
            "flex_flow": null,
            "width": null,
            "min_width": null,
            "border": null,
            "align_items": null,
            "bottom": null,
            "_model_module": "@jupyter-widgets/base",
            "top": null,
            "grid_column": null,
            "overflow_y": null,
            "overflow_x": null,
            "grid_auto_flow": null,
            "grid_area": null,
            "grid_template_columns": null,
            "flex": null,
            "_model_name": "LayoutModel",
            "justify_items": null,
            "grid_row": null,
            "max_height": null,
            "align_content": null,
            "visibility": null,
            "align_self": null,
            "height": null,
            "min_height": null,
            "padding": null,
            "grid_auto_rows": null,
            "grid_gap": null,
            "max_width": null,
            "order": null,
            "_view_module_version": "1.2.0",
            "grid_template_areas": null,
            "object_position": null,
            "object_fit": null,
            "grid_auto_columns": null,
            "margin": null,
            "display": null,
            "left": null
          }
        },
        "016cbaf5e49e4d00ba019282da1f2d72": {
          "model_module": "@jupyter-widgets/controls",
          "model_name": "HBoxModel",
          "state": {
            "_view_name": "HBoxView",
            "_dom_classes": [],
            "_model_name": "HBoxModel",
            "_view_module": "@jupyter-widgets/controls",
            "_model_module_version": "1.5.0",
            "_view_count": null,
            "_view_module_version": "1.5.0",
            "box_style": "",
            "layout": "IPY_MODEL_8d8023f9480b4bdf9c4a4e327c27b3e6",
            "_model_module": "@jupyter-widgets/controls",
            "children": [
              "IPY_MODEL_fcf021a1101f40079a2f865531b829c1",
              "IPY_MODEL_351d163091fb44d4ad686119934c7523"
            ]
          }
        },
        "8d8023f9480b4bdf9c4a4e327c27b3e6": {
          "model_module": "@jupyter-widgets/base",
          "model_name": "LayoutModel",
          "state": {
            "_view_name": "LayoutView",
            "grid_template_rows": null,
            "right": null,
            "justify_content": null,
            "_view_module": "@jupyter-widgets/base",
            "overflow": null,
            "_model_module_version": "1.2.0",
            "_view_count": null,
            "flex_flow": null,
            "width": null,
            "min_width": null,
            "border": null,
            "align_items": null,
            "bottom": null,
            "_model_module": "@jupyter-widgets/base",
            "top": null,
            "grid_column": null,
            "overflow_y": null,
            "overflow_x": null,
            "grid_auto_flow": null,
            "grid_area": null,
            "grid_template_columns": null,
            "flex": null,
            "_model_name": "LayoutModel",
            "justify_items": null,
            "grid_row": null,
            "max_height": null,
            "align_content": null,
            "visibility": null,
            "align_self": null,
            "height": null,
            "min_height": null,
            "padding": null,
            "grid_auto_rows": null,
            "grid_gap": null,
            "max_width": null,
            "order": null,
            "_view_module_version": "1.2.0",
            "grid_template_areas": null,
            "object_position": null,
            "object_fit": null,
            "grid_auto_columns": null,
            "margin": null,
            "display": null,
            "left": null
          }
        },
        "fcf021a1101f40079a2f865531b829c1": {
          "model_module": "@jupyter-widgets/controls",
          "model_name": "FloatProgressModel",
          "state": {
            "_view_name": "ProgressView",
            "style": "IPY_MODEL_2c346bdef77a4c61b8a6974be18d780a",
            "_dom_classes": [],
            "description": "100%",
            "_model_name": "FloatProgressModel",
            "bar_style": "success",
            "max": 60,
            "_view_module": "@jupyter-widgets/controls",
            "_model_module_version": "1.5.0",
            "value": 60,
            "_view_count": null,
            "_view_module_version": "1.5.0",
            "orientation": "horizontal",
            "min": 0,
            "description_tooltip": null,
            "_model_module": "@jupyter-widgets/controls",
            "layout": "IPY_MODEL_1d4e12466b4b4267b0abfd10431a9a2b"
          }
        },
        "351d163091fb44d4ad686119934c7523": {
          "model_module": "@jupyter-widgets/controls",
          "model_name": "HTMLModel",
          "state": {
            "_view_name": "HTMLView",
            "style": "IPY_MODEL_5e55b470bcb94f95a66169e9d0f62350",
            "_dom_classes": [],
            "description": "",
            "_model_name": "HTMLModel",
            "placeholder": "​",
            "_view_module": "@jupyter-widgets/controls",
            "_model_module_version": "1.5.0",
            "value": " 60/60 [08:41&lt;00:00,  8.70s/it]",
            "_view_count": null,
            "_view_module_version": "1.5.0",
            "description_tooltip": null,
            "_model_module": "@jupyter-widgets/controls",
            "layout": "IPY_MODEL_940ca50235d242fcac6f74ff8c199a74"
          }
        },
        "2c346bdef77a4c61b8a6974be18d780a": {
          "model_module": "@jupyter-widgets/controls",
          "model_name": "ProgressStyleModel",
          "state": {
            "_view_name": "StyleView",
            "_model_name": "ProgressStyleModel",
            "description_width": "initial",
            "_view_module": "@jupyter-widgets/base",
            "_model_module_version": "1.5.0",
            "_view_count": null,
            "_view_module_version": "1.2.0",
            "bar_color": null,
            "_model_module": "@jupyter-widgets/controls"
          }
        },
        "1d4e12466b4b4267b0abfd10431a9a2b": {
          "model_module": "@jupyter-widgets/base",
          "model_name": "LayoutModel",
          "state": {
            "_view_name": "LayoutView",
            "grid_template_rows": null,
            "right": null,
            "justify_content": null,
            "_view_module": "@jupyter-widgets/base",
            "overflow": null,
            "_model_module_version": "1.2.0",
            "_view_count": null,
            "flex_flow": null,
            "width": null,
            "min_width": null,
            "border": null,
            "align_items": null,
            "bottom": null,
            "_model_module": "@jupyter-widgets/base",
            "top": null,
            "grid_column": null,
            "overflow_y": null,
            "overflow_x": null,
            "grid_auto_flow": null,
            "grid_area": null,
            "grid_template_columns": null,
            "flex": null,
            "_model_name": "LayoutModel",
            "justify_items": null,
            "grid_row": null,
            "max_height": null,
            "align_content": null,
            "visibility": null,
            "align_self": null,
            "height": null,
            "min_height": null,
            "padding": null,
            "grid_auto_rows": null,
            "grid_gap": null,
            "max_width": null,
            "order": null,
            "_view_module_version": "1.2.0",
            "grid_template_areas": null,
            "object_position": null,
            "object_fit": null,
            "grid_auto_columns": null,
            "margin": null,
            "display": null,
            "left": null
          }
        },
        "5e55b470bcb94f95a66169e9d0f62350": {
          "model_module": "@jupyter-widgets/controls",
          "model_name": "DescriptionStyleModel",
          "state": {
            "_view_name": "StyleView",
            "_model_name": "DescriptionStyleModel",
            "description_width": "",
            "_view_module": "@jupyter-widgets/base",
            "_model_module_version": "1.5.0",
            "_view_count": null,
            "_view_module_version": "1.2.0",
            "_model_module": "@jupyter-widgets/controls"
          }
        },
        "940ca50235d242fcac6f74ff8c199a74": {
          "model_module": "@jupyter-widgets/base",
          "model_name": "LayoutModel",
          "state": {
            "_view_name": "LayoutView",
            "grid_template_rows": null,
            "right": null,
            "justify_content": null,
            "_view_module": "@jupyter-widgets/base",
            "overflow": null,
            "_model_module_version": "1.2.0",
            "_view_count": null,
            "flex_flow": null,
            "width": null,
            "min_width": null,
            "border": null,
            "align_items": null,
            "bottom": null,
            "_model_module": "@jupyter-widgets/base",
            "top": null,
            "grid_column": null,
            "overflow_y": null,
            "overflow_x": null,
            "grid_auto_flow": null,
            "grid_area": null,
            "grid_template_columns": null,
            "flex": null,
            "_model_name": "LayoutModel",
            "justify_items": null,
            "grid_row": null,
            "max_height": null,
            "align_content": null,
            "visibility": null,
            "align_self": null,
            "height": null,
            "min_height": null,
            "padding": null,
            "grid_auto_rows": null,
            "grid_gap": null,
            "max_width": null,
            "order": null,
            "_view_module_version": "1.2.0",
            "grid_template_areas": null,
            "object_position": null,
            "object_fit": null,
            "grid_auto_columns": null,
            "margin": null,
            "display": null,
            "left": null
          }
        },
        "069962721f4940f9898faf9466cb05fb": {
          "model_module": "@jupyter-widgets/controls",
          "model_name": "HBoxModel",
          "state": {
            "_view_name": "HBoxView",
            "_dom_classes": [],
            "_model_name": "HBoxModel",
            "_view_module": "@jupyter-widgets/controls",
            "_model_module_version": "1.5.0",
            "_view_count": null,
            "_view_module_version": "1.5.0",
            "box_style": "",
            "layout": "IPY_MODEL_cfd538ff53f84a4e8e152d934204aef4",
            "_model_module": "@jupyter-widgets/controls",
            "children": [
              "IPY_MODEL_21a9b3429da5427381304882ce6d5beb",
              "IPY_MODEL_7bd7b742a963423c9a56df33fc3b8de4"
            ]
          }
        },
        "cfd538ff53f84a4e8e152d934204aef4": {
          "model_module": "@jupyter-widgets/base",
          "model_name": "LayoutModel",
          "state": {
            "_view_name": "LayoutView",
            "grid_template_rows": null,
            "right": null,
            "justify_content": null,
            "_view_module": "@jupyter-widgets/base",
            "overflow": null,
            "_model_module_version": "1.2.0",
            "_view_count": null,
            "flex_flow": null,
            "width": null,
            "min_width": null,
            "border": null,
            "align_items": null,
            "bottom": null,
            "_model_module": "@jupyter-widgets/base",
            "top": null,
            "grid_column": null,
            "overflow_y": null,
            "overflow_x": null,
            "grid_auto_flow": null,
            "grid_area": null,
            "grid_template_columns": null,
            "flex": null,
            "_model_name": "LayoutModel",
            "justify_items": null,
            "grid_row": null,
            "max_height": null,
            "align_content": null,
            "visibility": null,
            "align_self": null,
            "height": null,
            "min_height": null,
            "padding": null,
            "grid_auto_rows": null,
            "grid_gap": null,
            "max_width": null,
            "order": null,
            "_view_module_version": "1.2.0",
            "grid_template_areas": null,
            "object_position": null,
            "object_fit": null,
            "grid_auto_columns": null,
            "margin": null,
            "display": null,
            "left": null
          }
        },
        "21a9b3429da5427381304882ce6d5beb": {
          "model_module": "@jupyter-widgets/controls",
          "model_name": "FloatProgressModel",
          "state": {
            "_view_name": "ProgressView",
            "style": "IPY_MODEL_e78fa17ed2b94ca389507326b5ed3853",
            "_dom_classes": [],
            "description": "100%",
            "_model_name": "FloatProgressModel",
            "bar_style": "success",
            "max": 100,
            "_view_module": "@jupyter-widgets/controls",
            "_model_module_version": "1.5.0",
            "value": 100,
            "_view_count": null,
            "_view_module_version": "1.5.0",
            "orientation": "horizontal",
            "min": 0,
            "description_tooltip": null,
            "_model_module": "@jupyter-widgets/controls",
            "layout": "IPY_MODEL_34264e26f8aa40d88b5f3ded9e266acf"
          }
        },
        "7bd7b742a963423c9a56df33fc3b8de4": {
          "model_module": "@jupyter-widgets/controls",
          "model_name": "HTMLModel",
          "state": {
            "_view_name": "HTMLView",
            "style": "IPY_MODEL_ca5629826a434d8791c4b8db28539e8a",
            "_dom_classes": [],
            "description": "",
            "_model_name": "HTMLModel",
            "placeholder": "​",
            "_view_module": "@jupyter-widgets/controls",
            "_model_module_version": "1.5.0",
            "value": " 100/100 [09:11&lt;00:00,  5.51s/it]",
            "_view_count": null,
            "_view_module_version": "1.5.0",
            "description_tooltip": null,
            "_model_module": "@jupyter-widgets/controls",
            "layout": "IPY_MODEL_3e823784f1d64b3fba2013e02edf9db0"
          }
        },
        "e78fa17ed2b94ca389507326b5ed3853": {
          "model_module": "@jupyter-widgets/controls",
          "model_name": "ProgressStyleModel",
          "state": {
            "_view_name": "StyleView",
            "_model_name": "ProgressStyleModel",
            "description_width": "initial",
            "_view_module": "@jupyter-widgets/base",
            "_model_module_version": "1.5.0",
            "_view_count": null,
            "_view_module_version": "1.2.0",
            "bar_color": null,
            "_model_module": "@jupyter-widgets/controls"
          }
        },
        "34264e26f8aa40d88b5f3ded9e266acf": {
          "model_module": "@jupyter-widgets/base",
          "model_name": "LayoutModel",
          "state": {
            "_view_name": "LayoutView",
            "grid_template_rows": null,
            "right": null,
            "justify_content": null,
            "_view_module": "@jupyter-widgets/base",
            "overflow": null,
            "_model_module_version": "1.2.0",
            "_view_count": null,
            "flex_flow": null,
            "width": null,
            "min_width": null,
            "border": null,
            "align_items": null,
            "bottom": null,
            "_model_module": "@jupyter-widgets/base",
            "top": null,
            "grid_column": null,
            "overflow_y": null,
            "overflow_x": null,
            "grid_auto_flow": null,
            "grid_area": null,
            "grid_template_columns": null,
            "flex": null,
            "_model_name": "LayoutModel",
            "justify_items": null,
            "grid_row": null,
            "max_height": null,
            "align_content": null,
            "visibility": null,
            "align_self": null,
            "height": null,
            "min_height": null,
            "padding": null,
            "grid_auto_rows": null,
            "grid_gap": null,
            "max_width": null,
            "order": null,
            "_view_module_version": "1.2.0",
            "grid_template_areas": null,
            "object_position": null,
            "object_fit": null,
            "grid_auto_columns": null,
            "margin": null,
            "display": null,
            "left": null
          }
        },
        "ca5629826a434d8791c4b8db28539e8a": {
          "model_module": "@jupyter-widgets/controls",
          "model_name": "DescriptionStyleModel",
          "state": {
            "_view_name": "StyleView",
            "_model_name": "DescriptionStyleModel",
            "description_width": "",
            "_view_module": "@jupyter-widgets/base",
            "_model_module_version": "1.5.0",
            "_view_count": null,
            "_view_module_version": "1.2.0",
            "_model_module": "@jupyter-widgets/controls"
          }
        },
        "3e823784f1d64b3fba2013e02edf9db0": {
          "model_module": "@jupyter-widgets/base",
          "model_name": "LayoutModel",
          "state": {
            "_view_name": "LayoutView",
            "grid_template_rows": null,
            "right": null,
            "justify_content": null,
            "_view_module": "@jupyter-widgets/base",
            "overflow": null,
            "_model_module_version": "1.2.0",
            "_view_count": null,
            "flex_flow": null,
            "width": null,
            "min_width": null,
            "border": null,
            "align_items": null,
            "bottom": null,
            "_model_module": "@jupyter-widgets/base",
            "top": null,
            "grid_column": null,
            "overflow_y": null,
            "overflow_x": null,
            "grid_auto_flow": null,
            "grid_area": null,
            "grid_template_columns": null,
            "flex": null,
            "_model_name": "LayoutModel",
            "justify_items": null,
            "grid_row": null,
            "max_height": null,
            "align_content": null,
            "visibility": null,
            "align_self": null,
            "height": null,
            "min_height": null,
            "padding": null,
            "grid_auto_rows": null,
            "grid_gap": null,
            "max_width": null,
            "order": null,
            "_view_module_version": "1.2.0",
            "grid_template_areas": null,
            "object_position": null,
            "object_fit": null,
            "grid_auto_columns": null,
            "margin": null,
            "display": null,
            "left": null
          }
        },
        "f3281847169742b89e09c5869ec66381": {
          "model_module": "@jupyter-widgets/controls",
          "model_name": "HBoxModel",
          "state": {
            "_view_name": "HBoxView",
            "_dom_classes": [],
            "_model_name": "HBoxModel",
            "_view_module": "@jupyter-widgets/controls",
            "_model_module_version": "1.5.0",
            "_view_count": null,
            "_view_module_version": "1.5.0",
            "box_style": "",
            "layout": "IPY_MODEL_86dff3edcd6b446bbd0a6b296cf3f345",
            "_model_module": "@jupyter-widgets/controls",
            "children": [
              "IPY_MODEL_dc3ff471a69245638406b813828f5c0d",
              "IPY_MODEL_b8b1011df1384c489f8d84e27720eee6"
            ]
          }
        },
        "86dff3edcd6b446bbd0a6b296cf3f345": {
          "model_module": "@jupyter-widgets/base",
          "model_name": "LayoutModel",
          "state": {
            "_view_name": "LayoutView",
            "grid_template_rows": null,
            "right": null,
            "justify_content": null,
            "_view_module": "@jupyter-widgets/base",
            "overflow": null,
            "_model_module_version": "1.2.0",
            "_view_count": null,
            "flex_flow": null,
            "width": null,
            "min_width": null,
            "border": null,
            "align_items": null,
            "bottom": null,
            "_model_module": "@jupyter-widgets/base",
            "top": null,
            "grid_column": null,
            "overflow_y": null,
            "overflow_x": null,
            "grid_auto_flow": null,
            "grid_area": null,
            "grid_template_columns": null,
            "flex": null,
            "_model_name": "LayoutModel",
            "justify_items": null,
            "grid_row": null,
            "max_height": null,
            "align_content": null,
            "visibility": null,
            "align_self": null,
            "height": null,
            "min_height": null,
            "padding": null,
            "grid_auto_rows": null,
            "grid_gap": null,
            "max_width": null,
            "order": null,
            "_view_module_version": "1.2.0",
            "grid_template_areas": null,
            "object_position": null,
            "object_fit": null,
            "grid_auto_columns": null,
            "margin": null,
            "display": null,
            "left": null
          }
        },
        "dc3ff471a69245638406b813828f5c0d": {
          "model_module": "@jupyter-widgets/controls",
          "model_name": "FloatProgressModel",
          "state": {
            "_view_name": "ProgressView",
            "style": "IPY_MODEL_35808cdaa2e04b05b594e3be2940522e",
            "_dom_classes": [],
            "description": "100%",
            "_model_name": "FloatProgressModel",
            "bar_style": "success",
            "max": 150,
            "_view_module": "@jupyter-widgets/controls",
            "_model_module_version": "1.5.0",
            "value": 150,
            "_view_count": null,
            "_view_module_version": "1.5.0",
            "orientation": "horizontal",
            "min": 0,
            "description_tooltip": null,
            "_model_module": "@jupyter-widgets/controls",
            "layout": "IPY_MODEL_d0aa999906134e6da9ab1df08819e41f"
          }
        },
        "b8b1011df1384c489f8d84e27720eee6": {
          "model_module": "@jupyter-widgets/controls",
          "model_name": "HTMLModel",
          "state": {
            "_view_name": "HTMLView",
            "style": "IPY_MODEL_b2e64cb8f3b34921ab27d82fe8f2436c",
            "_dom_classes": [],
            "description": "",
            "_model_name": "HTMLModel",
            "placeholder": "​",
            "_view_module": "@jupyter-widgets/controls",
            "_model_module_version": "1.5.0",
            "value": " 150/150 [12:46&lt;00:00,  5.11s/it]",
            "_view_count": null,
            "_view_module_version": "1.5.0",
            "description_tooltip": null,
            "_model_module": "@jupyter-widgets/controls",
            "layout": "IPY_MODEL_d01ab11323c94ca59e064d62a29de1ee"
          }
        },
        "35808cdaa2e04b05b594e3be2940522e": {
          "model_module": "@jupyter-widgets/controls",
          "model_name": "ProgressStyleModel",
          "state": {
            "_view_name": "StyleView",
            "_model_name": "ProgressStyleModel",
            "description_width": "initial",
            "_view_module": "@jupyter-widgets/base",
            "_model_module_version": "1.5.0",
            "_view_count": null,
            "_view_module_version": "1.2.0",
            "bar_color": null,
            "_model_module": "@jupyter-widgets/controls"
          }
        },
        "d0aa999906134e6da9ab1df08819e41f": {
          "model_module": "@jupyter-widgets/base",
          "model_name": "LayoutModel",
          "state": {
            "_view_name": "LayoutView",
            "grid_template_rows": null,
            "right": null,
            "justify_content": null,
            "_view_module": "@jupyter-widgets/base",
            "overflow": null,
            "_model_module_version": "1.2.0",
            "_view_count": null,
            "flex_flow": null,
            "width": null,
            "min_width": null,
            "border": null,
            "align_items": null,
            "bottom": null,
            "_model_module": "@jupyter-widgets/base",
            "top": null,
            "grid_column": null,
            "overflow_y": null,
            "overflow_x": null,
            "grid_auto_flow": null,
            "grid_area": null,
            "grid_template_columns": null,
            "flex": null,
            "_model_name": "LayoutModel",
            "justify_items": null,
            "grid_row": null,
            "max_height": null,
            "align_content": null,
            "visibility": null,
            "align_self": null,
            "height": null,
            "min_height": null,
            "padding": null,
            "grid_auto_rows": null,
            "grid_gap": null,
            "max_width": null,
            "order": null,
            "_view_module_version": "1.2.0",
            "grid_template_areas": null,
            "object_position": null,
            "object_fit": null,
            "grid_auto_columns": null,
            "margin": null,
            "display": null,
            "left": null
          }
        },
        "b2e64cb8f3b34921ab27d82fe8f2436c": {
          "model_module": "@jupyter-widgets/controls",
          "model_name": "DescriptionStyleModel",
          "state": {
            "_view_name": "StyleView",
            "_model_name": "DescriptionStyleModel",
            "description_width": "",
            "_view_module": "@jupyter-widgets/base",
            "_model_module_version": "1.5.0",
            "_view_count": null,
            "_view_module_version": "1.2.0",
            "_model_module": "@jupyter-widgets/controls"
          }
        },
        "d01ab11323c94ca59e064d62a29de1ee": {
          "model_module": "@jupyter-widgets/base",
          "model_name": "LayoutModel",
          "state": {
            "_view_name": "LayoutView",
            "grid_template_rows": null,
            "right": null,
            "justify_content": null,
            "_view_module": "@jupyter-widgets/base",
            "overflow": null,
            "_model_module_version": "1.2.0",
            "_view_count": null,
            "flex_flow": null,
            "width": null,
            "min_width": null,
            "border": null,
            "align_items": null,
            "bottom": null,
            "_model_module": "@jupyter-widgets/base",
            "top": null,
            "grid_column": null,
            "overflow_y": null,
            "overflow_x": null,
            "grid_auto_flow": null,
            "grid_area": null,
            "grid_template_columns": null,
            "flex": null,
            "_model_name": "LayoutModel",
            "justify_items": null,
            "grid_row": null,
            "max_height": null,
            "align_content": null,
            "visibility": null,
            "align_self": null,
            "height": null,
            "min_height": null,
            "padding": null,
            "grid_auto_rows": null,
            "grid_gap": null,
            "max_width": null,
            "order": null,
            "_view_module_version": "1.2.0",
            "grid_template_areas": null,
            "object_position": null,
            "object_fit": null,
            "grid_auto_columns": null,
            "margin": null,
            "display": null,
            "left": null
          }
        }
      }
    }
  },
  "cells": [
    {
      "cell_type": "markdown",
      "metadata": {
        "id": "0DBJgaXq_y89",
        "colab_type": "text"
      },
      "source": [
        "## References:\n",
        "- https://arxiv.org/pdf/2004.11362.pdf\n",
        "- https://towardsdatascience.com/contrastive-loss-for-supervised-classification-224ae35692e7"
      ]
    },
    {
      "cell_type": "markdown",
      "metadata": {
        "id": "qraO0CLY__Ji",
        "colab_type": "text"
      },
      "source": [
        "## Initial setup"
      ]
    },
    {
      "cell_type": "code",
      "metadata": {
        "id": "yknUs_MC_qjW",
        "colab_type": "code",
        "outputId": "c8986488-16d2-4b17-faad-8b9bba1a1ead",
        "colab": {
          "base_uri": "https://localhost:8080/",
          "height": 34
        }
      },
      "source": [
        "import tensorflow as tf\n",
        "print(tf.__version__)"
      ],
      "execution_count": 26,
      "outputs": [
        {
          "output_type": "stream",
          "text": [
            "2.2.0\n"
          ],
          "name": "stdout"
        }
      ]
    },
    {
      "cell_type": "code",
      "metadata": {
        "id": "uoT3XqqDABVG",
        "colab_type": "code",
        "colab": {}
      },
      "source": [
        "!pip install wandb\n",
        "import wandb\n",
        "wandb.login()"
      ],
      "execution_count": 0,
      "outputs": []
    },
    {
      "cell_type": "code",
      "metadata": {
        "id": "GLajcDGDBXbJ",
        "colab_type": "code",
        "colab": {}
      },
      "source": [
        "import os\n",
        "os.environ['WANDB_DISABLE_CODE'] = 'True'\n"
      ],
      "execution_count": 0,
      "outputs": []
    },
    {
      "cell_type": "code",
      "metadata": {
        "id": "DXJYNTkXADKX",
        "colab_type": "code",
        "colab": {}
      },
      "source": [
        "!wget https://raw.githubusercontent.com/wangz10/contrastive_loss/master/losses.py"
      ],
      "execution_count": 0,
      "outputs": []
    },
    {
      "cell_type": "code",
      "metadata": {
        "id": "vM4xEYhxAMc9",
        "colab_type": "code",
        "colab": {}
      },
      "source": [
        "from tensorflow.keras.layers import *\n",
        "from tensorflow.keras.models import *\n",
        "from tqdm.notebook import tqdm\n",
        "import tensorflow_datasets as tfds\n",
        "import matplotlib.pyplot as plt\n",
        "import numpy as np\n",
        "import losses\n",
        "import cv2\n",
        "from imutils import paths\n",
        "tf.random.set_seed(666)\n",
        "np.random.seed(666)\n",
        "\n"
      ],
      "execution_count": 0,
      "outputs": []
    },
    {
      "cell_type": "markdown",
      "metadata": {
        "id": "tEj-87mnAVr6",
        "colab_type": "text"
      },
      "source": [
        "# ImageNet Subset\n"
      ]
    },
    {
      "cell_type": "code",
      "metadata": {
        "id": "mccvzp8gAOj-",
        "colab_type": "code",
        "colab": {}
      },
      "source": [
        "!git clone https://github.com/thunderInfy/imagenet-5-categories\n"
      ],
      "execution_count": 0,
      "outputs": []
    },
    {
      "cell_type": "code",
      "metadata": {
        "id": "4nbTUUw8AYDZ",
        "colab_type": "code",
        "colab": {}
      },
      "source": [
        "# Train and test image paths\n",
        "train_images = list(paths.list_images(\"imagenet-5-categories/train\"))\n",
        "test_images = list(paths.list_images(\"imagenet-5-categories/test\"))\n"
      ],
      "execution_count": 0,
      "outputs": []
    },
    {
      "cell_type": "code",
      "metadata": {
        "id": "p-RhnY8BAdao",
        "colab_type": "code",
        "colab": {}
      },
      "source": [
        "def prepare_images(image_paths):\n",
        "    images = []\n",
        "    labels = []\n",
        "\n",
        "    for image in tqdm(image_paths):\n",
        "        image_pixels = plt.imread(image)\n",
        "        image_pixels = cv2.resize(image_pixels, (128,128))\n",
        "        image_pixels = image_pixels/255.\n",
        "\n",
        "        label = image.split(\"/\")[2].split(\"_\")[0]\n",
        "\n",
        "        images.append(image_pixels)\n",
        "        labels.append(label)\n",
        "\n",
        "    images = np.array(images)\n",
        "    labels = np.array(labels)\n",
        "\n",
        "    print(images.shape, labels.shape)\n",
        "\n",
        "    return images, labels"
      ],
      "execution_count": 0,
      "outputs": []
    },
    {
      "cell_type": "code",
      "metadata": {
        "id": "BNlw6--SAfra",
        "colab_type": "code",
        "outputId": "b258413d-3408-4213-e0e0-1ac46ea4b651",
        "colab": {
          "base_uri": "https://localhost:8080/",
          "height": 148,
          "referenced_widgets": [
            "2bf134dc349c4f57935d49f2f269ccfd",
            "a9ecb438e13d42938e0d76e5c09bb070",
            "9085a85f3427487f8a96bc1c3d8e77f3",
            "c4fb72c4b2274068b39a24a8458d9658",
            "2d484473652b475e9a2e151cda9710e7",
            "1bddbfdf1869464ca7d5ea8585b01063",
            "0ff3d551ce8f4ba4af5074516897d799",
            "08a16708d52046dba48c86ef96303235",
            "a2b5816558f646c1b3d89ffd6e83239b",
            "492c5b977abc40f3b4fadebe295e3d3f",
            "881605176d8640268c2bbd4d9973d85c",
            "3d461647cf014196bca70726a00a7dc5",
            "a6efe9d715d546d39f5da299d954388a",
            "f6cddbbf25bf4c0d86d6bb9a7ade280e",
            "c586467890644e35bc61ad133a8e085f",
            "2935563f1fb44363ae5088cf2af0f150"
          ]
        }
      },
      "source": [
        "\n",
        "X_train, y_train = prepare_images(train_images)\n",
        "X_test, y_test = prepare_images(test_images)"
      ],
      "execution_count": 29,
      "outputs": [
        {
          "output_type": "display_data",
          "data": {
            "application/vnd.jupyter.widget-view+json": {
              "model_id": "2bf134dc349c4f57935d49f2f269ccfd",
              "version_minor": 0,
              "version_major": 2
            },
            "text/plain": [
              "HBox(children=(FloatProgress(value=0.0, max=1250.0), HTML(value='')))"
            ]
          },
          "metadata": {
            "tags": []
          }
        },
        {
          "output_type": "stream",
          "text": [
            "\n",
            "(1250, 128, 128, 3) (1250,)\n"
          ],
          "name": "stdout"
        },
        {
          "output_type": "display_data",
          "data": {
            "application/vnd.jupyter.widget-view+json": {
              "model_id": "a2b5816558f646c1b3d89ffd6e83239b",
              "version_minor": 0,
              "version_major": 2
            },
            "text/plain": [
              "HBox(children=(FloatProgress(value=0.0, max=250.0), HTML(value='')))"
            ]
          },
          "metadata": {
            "tags": []
          }
        },
        {
          "output_type": "stream",
          "text": [
            "\n",
            "(250, 128, 128, 3) (250,)\n"
          ],
          "name": "stdout"
        }
      ]
    },
    {
      "cell_type": "code",
      "metadata": {
        "id": "ic7W94pHAiFe",
        "colab_type": "code",
        "colab": {}
      },
      "source": [
        "from sklearn import preprocessing\n",
        "le = preprocessing.LabelEncoder()\n",
        "y_train_enc = le.fit_transform(y_train)\n",
        "y_test_enc = le.transform(y_test)\n"
      ],
      "execution_count": 0,
      "outputs": []
    },
    {
      "cell_type": "code",
      "metadata": {
        "id": "TFrfLRBfAlcJ",
        "colab_type": "code",
        "colab": {}
      },
      "source": [
        "train_ds=tf.data.Dataset.from_tensor_slices((X_train,y_train_enc))\n",
        "validation_ds=tf.data.Dataset.from_tensor_slices((X_test,y_test_enc))"
      ],
      "execution_count": 0,
      "outputs": []
    },
    {
      "cell_type": "code",
      "metadata": {
        "id": "d0KiyOlvAqiH",
        "colab_type": "code",
        "colab": {}
      },
      "source": [
        "IMG_SHAPE = 128\n",
        "BS = 64\n",
        "AUTO = tf.data.experimental.AUTOTUNE\n",
        "train_ds = (\n",
        "    train_ds\n",
        "    .shuffle(100)\n",
        "    .batch(BS)\n",
        "    .prefetch(AUTO)\n",
        ")\n",
        "validation_ds = (\n",
        "    validation_ds\n",
        "    .shuffle(100)\n",
        "    .batch(BS)\n",
        "    .prefetch(AUTO)\n",
        ")"
      ],
      "execution_count": 0,
      "outputs": []
    },
    {
      "cell_type": "markdown",
      "metadata": {
        "id": "uqs25vl9A0gy",
        "colab_type": "text"
      },
      "source": [
        "## Model building"
      ]
    },
    {
      "cell_type": "code",
      "metadata": {
        "id": "rMN6R61VAxVZ",
        "colab_type": "code",
        "colab": {}
      },
      "source": [
        "# Reference: https://github.com/wangz10/contrastive_loss/blob/master/model.py\n",
        "class UnitNormLayer(tf.keras.layers.Layer):\n",
        "    '''Normalize vectors (euclidean norm) in batch to unit hypersphere.\n",
        "    '''\n",
        "    def __init__(self):\n",
        "        super(UnitNormLayer, self).__init__()\n",
        "\n",
        "    def call(self, input_tensor):\n",
        "        norm = tf.norm(input_tensor, axis=1)\n",
        "        return input_tensor / tf.reshape(norm, [-1, 1])"
      ],
      "execution_count": 0,
      "outputs": []
    },
    {
      "cell_type": "code",
      "metadata": {
        "id": "GyLzAbh0A23Z",
        "colab_type": "code",
        "colab": {}
      },
      "source": [
        "# Encoder Network\n",
        "def encoder_net():\n",
        "\tinputs = Input((IMG_SHAPE, IMG_SHAPE, 3))\n",
        "\tnormalization_layer = UnitNormLayer()\n",
        "\n",
        "\tencoder = tf.keras.applications.ResNet50(weights=None, include_top=False)\n",
        "\tencoder.trainable = True\n",
        "\n",
        "\tembeddings = encoder(inputs, training=True)\n",
        "\tembeddings = GlobalAveragePooling2D()(embeddings)\n",
        "\tnorm_embeddings = normalization_layer(embeddings)\n",
        "\n",
        "\tencoder_network = Model(inputs, norm_embeddings)\n",
        "\n",
        "\treturn encoder_network\n",
        "\n",
        "# Projector Network\n",
        "def projector_net():\n",
        "\tprojector = tf.keras.models.Sequential([\n",
        "\t\tDense(256, activation=\"relu\"),\n",
        "\t\tUnitNormLayer()\n",
        "\t])\n",
        "\n",
        "\treturn projector"
      ],
      "execution_count": 0,
      "outputs": []
    },
    {
      "cell_type": "markdown",
      "metadata": {
        "id": "6OV26XpaCqth",
        "colab_type": "text"
      },
      "source": [
        "## RMSprop with lr decay function"
      ]
    },
    {
      "cell_type": "markdown",
      "metadata": {
        "id": "WP16gtlRBItp",
        "colab_type": "text"
      },
      "source": [
        "### Training the encoder and the projector"
      ]
    },
    {
      "cell_type": "code",
      "metadata": {
        "id": "zkj8HhT-BBiq",
        "colab_type": "code",
        "colab": {}
      },
      "source": [
        "#SGD with lr decay function\n",
        "\n",
        "\n",
        "decay_steps = 1000\n",
        "lr_decayed_fn = tf.keras.experimental.CosineDecay(\n",
        "    initial_learning_rate=0.001, decay_steps=decay_steps)\n",
        "optimizer = tf.keras.optimizers.RMSprop(lr_decayed_fn)"
      ],
      "execution_count": 0,
      "outputs": []
    },
    {
      "cell_type": "code",
      "metadata": {
        "id": "bFzxZGgnBFDc",
        "colab_type": "code",
        "colab": {}
      },
      "source": [
        "encoder_r = encoder_net()\n",
        "projector_z = projector_net()\n",
        "\n",
        "@tf.function\n",
        "def train_step(images, labels):\n",
        "\twith tf.GradientTape() as tape:\n",
        "\t\tr = encoder_r(images, training=True)\n",
        "\t\tz = projector_z(r, training=True)\n",
        "\t\tloss = losses.max_margin_contrastive_loss(z, labels)\n",
        "\n",
        "\tgradients = tape.gradient(loss, \n",
        "\t\tencoder_r.trainable_variables + projector_z.trainable_variables)\n",
        "\toptimizer.apply_gradients(zip(gradients, \n",
        "\t\tencoder_r.trainable_variables + projector_z.trainable_variables))\n",
        "\n",
        "\treturn loss"
      ],
      "execution_count": 0,
      "outputs": []
    },
    {
      "cell_type": "code",
      "metadata": {
        "id": "sCHkj94fBbka",
        "colab_type": "code",
        "outputId": "4b4fc498-2f77-44c1-ba91-9a1f72e3b9ac",
        "colab": {
          "base_uri": "https://localhost:8080/",
          "height": 525,
          "referenced_widgets": [
            "016cbaf5e49e4d00ba019282da1f2d72",
            "8d8023f9480b4bdf9c4a4e327c27b3e6",
            "fcf021a1101f40079a2f865531b829c1",
            "351d163091fb44d4ad686119934c7523",
            "2c346bdef77a4c61b8a6974be18d780a",
            "1d4e12466b4b4267b0abfd10431a9a2b",
            "5e55b470bcb94f95a66169e9d0f62350",
            "940ca50235d242fcac6f74ff8c199a74"
          ]
        }
      },
      "source": [
        "import time\n",
        "\n",
        "wandb.init(project=\"scl\", entity=\"authors\",id='SCL_RMS_LRDECAY')\n",
        "EPOCHS = 60\n",
        "LOG_EVERY = 10\n",
        "train_loss_results = []\n",
        "\n",
        "start = time.time()\n",
        "for epoch in tqdm(range(EPOCHS)):\t\n",
        "\tepoch_loss_avg = tf.keras.metrics.Mean()\n",
        "\t\n",
        "\tfor (images, labels) in train_ds:\n",
        "\t\tloss = train_step(images, labels)\n",
        "\t\tepoch_loss_avg.update_state(loss) \n",
        "\n",
        "\ttrain_loss_results.append(epoch_loss_avg.result())\n",
        "\twandb.log({\"supervised_contrastive_loss\": epoch_loss_avg.result()})\n",
        "\n",
        "\tif epoch % LOG_EVERY == 0:\n",
        "\t\tprint(\"Epoch: {} Loss: {:.3f}\".format(epoch, epoch_loss_avg.result()))\n",
        "\n",
        "end = time.time()\n",
        "wandb.log({\"training_time\": end - start})\n",
        "\n",
        "with plt.xkcd():\n",
        "    plt.plot(train_loss_results)\n",
        "    plt.title(\"Supervised Contrastive Loss\")\n",
        "    plt.show()\n",
        "print(train_loss_results)"
      ],
      "execution_count": 37,
      "outputs": [
        {
          "output_type": "display_data",
          "data": {
            "text/html": [
              "\n",
              "                Logging results to <a href=\"https://wandb.com\" target=\"_blank\">Weights & Biases</a> <a href=\"https://docs.wandb.com/integrations/jupyter.html\" target=\"_blank\">(Documentation)</a>.<br/>\n",
              "                Project page: <a href=\"https://app.wandb.ai/authors/scl\" target=\"_blank\">https://app.wandb.ai/authors/scl</a><br/>\n",
              "                Run page: <a href=\"https://app.wandb.ai/authors/scl/runs/SCL_RMS_LRDECAY\" target=\"_blank\">https://app.wandb.ai/authors/scl/runs/SCL_RMS_LRDECAY</a><br/>\n",
              "            "
            ],
            "text/plain": [
              "<IPython.core.display.HTML object>"
            ]
          },
          "metadata": {
            "tags": []
          }
        },
        {
          "output_type": "display_data",
          "data": {
            "application/vnd.jupyter.widget-view+json": {
              "model_id": "016cbaf5e49e4d00ba019282da1f2d72",
              "version_minor": 0,
              "version_major": 2
            },
            "text/plain": [
              "HBox(children=(FloatProgress(value=0.0, max=60.0), HTML(value='')))"
            ]
          },
          "metadata": {
            "tags": []
          }
        },
        {
          "output_type": "stream",
          "text": [
            "Epoch: 0 Loss: 0.266\n",
            "Epoch: 10 Loss: 0.138\n",
            "Epoch: 20 Loss: 0.099\n",
            "Epoch: 30 Loss: 0.037\n",
            "Epoch: 40 Loss: 0.010\n",
            "Epoch: 50 Loss: 0.006\n",
            "\n"
          ],
          "name": "stdout"
        },
        {
          "output_type": "display_data",
          "data": {
            "image/png": "[encoded data removed]",
            "text/plain": [
              "<Figure size 432x288 with 1 Axes>"
            ]
          },
          "metadata": {
            "tags": []
          }
        },
        {
          "output_type": "stream",
          "text": [
            "[<tf.Tensor: shape=(), dtype=float32, numpy=0.26645738>, <tf.Tensor: shape=(), dtype=float32, numpy=0.18166605>, <tf.Tensor: shape=(), dtype=float32, numpy=0.16460243>, <tf.Tensor: shape=(), dtype=float32, numpy=0.15934364>, <tf.Tensor: shape=(), dtype=float32, numpy=0.17417517>, <tf.Tensor: shape=(), dtype=float32, numpy=0.15391713>, <tf.Tensor: shape=(), dtype=float32, numpy=0.14981294>, <tf.Tensor: shape=(), dtype=float32, numpy=0.13965729>, <tf.Tensor: shape=(), dtype=float32, numpy=0.13565046>, <tf.Tensor: shape=(), dtype=float32, numpy=0.13375065>, <tf.Tensor: shape=(), dtype=float32, numpy=0.13764498>, <tf.Tensor: shape=(), dtype=float32, numpy=0.12756565>, <tf.Tensor: shape=(), dtype=float32, numpy=0.122284696>, <tf.Tensor: shape=(), dtype=float32, numpy=0.12431593>, <tf.Tensor: shape=(), dtype=float32, numpy=0.118250646>, <tf.Tensor: shape=(), dtype=float32, numpy=0.116546735>, <tf.Tensor: shape=(), dtype=float32, numpy=0.114144444>, <tf.Tensor: shape=(), dtype=float32, numpy=0.10896941>, <tf.Tensor: shape=(), dtype=float32, numpy=0.10704763>, <tf.Tensor: shape=(), dtype=float32, numpy=0.09732484>, <tf.Tensor: shape=(), dtype=float32, numpy=0.09865941>, <tf.Tensor: shape=(), dtype=float32, numpy=0.093065955>, <tf.Tensor: shape=(), dtype=float32, numpy=0.08548515>, <tf.Tensor: shape=(), dtype=float32, numpy=0.079469636>, <tf.Tensor: shape=(), dtype=float32, numpy=0.07498454>, <tf.Tensor: shape=(), dtype=float32, numpy=0.06730889>, <tf.Tensor: shape=(), dtype=float32, numpy=0.058776088>, <tf.Tensor: shape=(), dtype=float32, numpy=0.056251127>, <tf.Tensor: shape=(), dtype=float32, numpy=0.042370006>, <tf.Tensor: shape=(), dtype=float32, numpy=0.04296283>, <tf.Tensor: shape=(), dtype=float32, numpy=0.03692475>, <tf.Tensor: shape=(), dtype=float32, numpy=0.028171644>, <tf.Tensor: shape=(), dtype=float32, numpy=0.026328942>, <tf.Tensor: shape=(), dtype=float32, numpy=0.021398667>, <tf.Tensor: shape=(), dtype=float32, numpy=0.019264387>, <tf.Tensor: shape=(), dtype=float32, numpy=0.013273494>, <tf.Tensor: shape=(), dtype=float32, numpy=0.013885789>, <tf.Tensor: shape=(), dtype=float32, numpy=0.010325189>, <tf.Tensor: shape=(), dtype=float32, numpy=0.008681651>, <tf.Tensor: shape=(), dtype=float32, numpy=0.008059761>, <tf.Tensor: shape=(), dtype=float32, numpy=0.009528274>, <tf.Tensor: shape=(), dtype=float32, numpy=0.0065723537>, <tf.Tensor: shape=(), dtype=float32, numpy=0.0068563307>, <tf.Tensor: shape=(), dtype=float32, numpy=0.006168899>, <tf.Tensor: shape=(), dtype=float32, numpy=0.0050749686>, <tf.Tensor: shape=(), dtype=float32, numpy=0.004704006>, <tf.Tensor: shape=(), dtype=float32, numpy=0.0050093103>, <tf.Tensor: shape=(), dtype=float32, numpy=0.0049077254>, <tf.Tensor: shape=(), dtype=float32, numpy=0.005025471>, <tf.Tensor: shape=(), dtype=float32, numpy=0.00490894>, <tf.Tensor: shape=(), dtype=float32, numpy=0.0056685647>, <tf.Tensor: shape=(), dtype=float32, numpy=0.004583823>, <tf.Tensor: shape=(), dtype=float32, numpy=0.004397637>, <tf.Tensor: shape=(), dtype=float32, numpy=0.0045755566>, <tf.Tensor: shape=(), dtype=float32, numpy=0.0047992994>, <tf.Tensor: shape=(), dtype=float32, numpy=0.004194455>, <tf.Tensor: shape=(), dtype=float32, numpy=0.004943213>, <tf.Tensor: shape=(), dtype=float32, numpy=0.0041333823>, <tf.Tensor: shape=(), dtype=float32, numpy=0.004872375>, <tf.Tensor: shape=(), dtype=float32, numpy=0.004470014>]\n"
          ],
          "name": "stdout"
        }
      ]
    },
    {
      "cell_type": "markdown",
      "metadata": {
        "id": "Cvy9nGmSBrPs",
        "colab_type": "text"
      },
      "source": [
        "### Training the Supervised Model\n",
        "\n",
        "\n",
        "\n"
      ]
    },
    {
      "cell_type": "code",
      "metadata": {
        "id": "U0wR25Q7BkKt",
        "colab_type": "code",
        "colab": {}
      },
      "source": [
        "def supervised_model():\n",
        "\tinputs = Input((IMG_SHAPE, IMG_SHAPE, 3))\n",
        "\tencoder_r.trainable = False\n",
        "\n",
        "\tr = encoder_r(inputs, training=False)\n",
        "\toutputs = Dense(5, activation='softmax')(r)\n",
        "\n",
        "\tsupervised_model = Model(inputs, outputs)\n",
        "  \n",
        "\treturn supervised_model\n"
      ],
      "execution_count": 0,
      "outputs": []
    },
    {
      "cell_type": "code",
      "metadata": {
        "id": "rYAOULHrBvNv",
        "colab_type": "code",
        "colab": {}
      },
      "source": [
        "from wandb.keras import WandbCallback\n"
      ],
      "execution_count": 0,
      "outputs": []
    },
    {
      "cell_type": "code",
      "metadata": {
        "id": "bu_ZGIx1BwGR",
        "colab_type": "code",
        "colab": {}
      },
      "source": [
        "optimizer2 = tf.keras.optimizers.RMSprop(learning_rate=1e-3)"
      ],
      "execution_count": 0,
      "outputs": []
    },
    {
      "cell_type": "code",
      "metadata": {
        "id": "oFdJJ9yZBzoI",
        "colab_type": "code",
        "outputId": "49adf8a9-98fa-454c-cf2c-4176a8370fa7",
        "colab": {
          "base_uri": "https://localhost:8080/",
          "height": 202
        }
      },
      "source": [
        "supervised_classifier = supervised_model()\n",
        "\n",
        "supervised_classifier.compile(optimizer=optimizer2,\n",
        "\tloss=tf.keras.losses.SparseCategoricalCrossentropy(),\n",
        "\tmetrics=[tf.keras.metrics.SparseCategoricalAccuracy()])\n",
        "\n",
        "es = tf.keras.callbacks.EarlyStopping(monitor=\"val_sparse_categorical_accuracy\", patience=2,\n",
        "\trestore_best_weights=True, verbose=2)\n",
        "\n",
        "wandb.init(project=\"scl\", entity=\"authors\", id='FSL_RMS_LRDECAY ')\n",
        "\n",
        "start = time.time()\n",
        "supervised_classifier.fit(train_ds,\n",
        "\tvalidation_data=validation_ds,\n",
        "\tepochs=100,\n",
        "\tcallbacks=[WandbCallback(),es])\n",
        "end = time.time()\n",
        "wandb.log({\"training_time\": end - start})"
      ],
      "execution_count": 41,
      "outputs": [
        {
          "output_type": "display_data",
          "data": {
            "text/html": [
              "\n",
              "                Logging results to <a href=\"https://wandb.com\" target=\"_blank\">Weights & Biases</a> <a href=\"https://docs.wandb.com/integrations/jupyter.html\" target=\"_blank\">(Documentation)</a>.<br/>\n",
              "                Project page: <a href=\"https://app.wandb.ai/authors/scl\" target=\"_blank\">https://app.wandb.ai/authors/scl</a><br/>\n",
              "                Run page: <a href=\"https://app.wandb.ai/authors/scl/runs/FSL_RMS_LRDECAY%20\" target=\"_blank\">https://app.wandb.ai/authors/scl/runs/FSL_RMS_LRDECAY%20</a><br/>\n",
              "            "
            ],
            "text/plain": [
              "<IPython.core.display.HTML object>"
            ]
          },
          "metadata": {
            "tags": []
          }
        },
        {
          "output_type": "stream",
          "text": [
            "Epoch 1/100\n",
            "20/20 [==============================] - 3s 148ms/step - loss: 1.2457 - sparse_categorical_accuracy: 0.9560 - val_loss: 1.2517 - val_sparse_categorical_accuracy: 0.6920\n",
            "Epoch 2/100\n",
            "20/20 [==============================] - 2s 101ms/step - loss: 0.8301 - sparse_categorical_accuracy: 0.9928 - val_loss: 1.0922 - val_sparse_categorical_accuracy: 0.6920\n",
            "Epoch 3/100\n",
            "19/20 [===========================>..] - ETA: 0s - loss: 0.5654 - sparse_categorical_accuracy: 0.9926Restoring model weights from the end of the best epoch.\n",
            "20/20 [==============================] - 3s 157ms/step - loss: 0.5622 - sparse_categorical_accuracy: 0.9928 - val_loss: 0.9991 - val_sparse_categorical_accuracy: 0.6920\n",
            "Epoch 00003: early stopping\n"
          ],
          "name": "stdout"
        }
      ]
    },
    {
      "cell_type": "markdown",
      "metadata": {
        "id": "e4sSP2OlEX1B",
        "colab_type": "text"
      },
      "source": [
        "## RMSprop with learning rate=1e-3"
      ]
    },
    {
      "cell_type": "markdown",
      "metadata": {
        "id": "oIaencIMEit0",
        "colab_type": "text"
      },
      "source": [
        "### Training the encoder and the projector"
      ]
    },
    {
      "cell_type": "code",
      "metadata": {
        "id": "rBxbk4RYE9wk",
        "colab_type": "code",
        "colab": {}
      },
      "source": [
        "optimizer3=tf.keras.optimizers.RMSprop(learning_rate=1e-3)"
      ],
      "execution_count": 0,
      "outputs": []
    },
    {
      "cell_type": "code",
      "metadata": {
        "id": "1E8SUWt9Dvng",
        "colab_type": "code",
        "colab": {}
      },
      "source": [
        "encoder_r = encoder_net()\n",
        "projector_z = projector_net()\n",
        "\n",
        "@tf.function\n",
        "def train_step(images, labels):\n",
        "\twith tf.GradientTape() as tape:\n",
        "\t\tr = encoder_r(images, training=True)\n",
        "\t\tz = projector_z(r, training=True)\n",
        "\t\tloss = losses.max_margin_contrastive_loss(z, labels)\n",
        "\n",
        "\tgradients = tape.gradient(loss, \n",
        "\t\tencoder_r.trainable_variables + projector_z.trainable_variables)\n",
        "\toptimizer2.apply_gradients(zip(gradients, \n",
        "\t\tencoder_r.trainable_variables + projector_z.trainable_variables))\n",
        "\n",
        "\treturn loss"
      ],
      "execution_count": 0,
      "outputs": []
    },
    {
      "cell_type": "code",
      "metadata": {
        "id": "vUzKj-H8Enc7",
        "colab_type": "code",
        "outputId": "4b184a87-3816-49ad-e502-a701ac85607b",
        "colab": {
          "base_uri": "https://localhost:8080/",
          "height": 609,
          "referenced_widgets": [
            "069962721f4940f9898faf9466cb05fb",
            "cfd538ff53f84a4e8e152d934204aef4",
            "21a9b3429da5427381304882ce6d5beb",
            "7bd7b742a963423c9a56df33fc3b8de4",
            "e78fa17ed2b94ca389507326b5ed3853",
            "34264e26f8aa40d88b5f3ded9e266acf",
            "ca5629826a434d8791c4b8db28539e8a",
            "3e823784f1d64b3fba2013e02edf9db0"
          ]
        }
      },
      "source": [
        "import time\n",
        "\n",
        "wandb.init(project=\"scl\", entity=\"authors\",id='SCL_RMS_LR_0.001_100')\n",
        "EPOCHS = 100\n",
        "LOG_EVERY = 10\n",
        "train_loss_results = []\n",
        "\n",
        "start = time.time()\n",
        "for epoch in tqdm(range(EPOCHS)):\t\n",
        "\tepoch_loss_avg = tf.keras.metrics.Mean()\n",
        "\t\n",
        "\tfor (images, labels) in train_ds:\n",
        "\t\tloss = train_step(images, labels)\n",
        "\t\tepoch_loss_avg.update_state(loss) \n",
        "\n",
        "\ttrain_loss_results.append(epoch_loss_avg.result())\n",
        "\twandb.log({\"supervised_contrastive_loss\": epoch_loss_avg.result()})\n",
        "\n",
        "\tif epoch % LOG_EVERY == 0:\n",
        "\t\tprint(\"Epoch: {} Loss: {:.3f}\".format(epoch, epoch_loss_avg.result()))\n",
        "\n",
        "end = time.time()\n",
        "wandb.log({\"training_time\": end - start})\n",
        "\n",
        "with plt.xkcd():\n",
        "    plt.plot(train_loss_results)\n",
        "    plt.title(\"Supervised Contrastive Loss\")\n",
        "    plt.show()\n",
        "print(train_loss_results)"
      ],
      "execution_count": 45,
      "outputs": [
        {
          "output_type": "display_data",
          "data": {
            "text/html": [
              "\n",
              "                Logging results to <a href=\"https://wandb.com\" target=\"_blank\">Weights & Biases</a> <a href=\"https://docs.wandb.com/integrations/jupyter.html\" target=\"_blank\">(Documentation)</a>.<br/>\n",
              "                Project page: <a href=\"https://app.wandb.ai/authors/scl\" target=\"_blank\">https://app.wandb.ai/authors/scl</a><br/>\n",
              "                Run page: <a href=\"https://app.wandb.ai/authors/scl/runs/SCL_RMS_LR_0.001_100\" target=\"_blank\">https://app.wandb.ai/authors/scl/runs/SCL_RMS_LR_0.001_100</a><br/>\n",
              "            "
            ],
            "text/plain": [
              "<IPython.core.display.HTML object>"
            ]
          },
          "metadata": {
            "tags": []
          }
        },
        {
          "output_type": "display_data",
          "data": {
            "application/vnd.jupyter.widget-view+json": {
              "model_id": "069962721f4940f9898faf9466cb05fb",
              "version_minor": 0,
              "version_major": 2
            },
            "text/plain": [
              "HBox(children=(FloatProgress(value=0.0), HTML(value='')))"
            ]
          },
          "metadata": {
            "tags": []
          }
        },
        {
          "output_type": "stream",
          "text": [
            "Streaming file created twice in same run: /content/wandb/run-20200528_221455-SCL_RMS_LR_0.001_100/wandb-events.jsonl\n"
          ],
          "name": "stderr"
        },
        {
          "output_type": "stream",
          "text": [
            "Epoch: 0 Loss: 0.255\n",
            "Epoch: 10 Loss: 0.133\n",
            "Epoch: 20 Loss: 0.108\n",
            "Epoch: 30 Loss: 0.078\n",
            "Epoch: 40 Loss: 0.044\n",
            "Epoch: 50 Loss: 0.022\n",
            "Epoch: 60 Loss: 0.020\n",
            "Epoch: 70 Loss: 0.012\n",
            "Epoch: 80 Loss: 0.012\n",
            "Epoch: 90 Loss: 0.012\n",
            "\n"
          ],
          "name": "stdout"
        },
        {
          "output_type": "display_data",
          "data": {
            "image/png": "[encoded data removed]",
            "text/plain": [
              "<Figure size 432x288 with 1 Axes>"
            ]
          },
          "metadata": {
            "tags": []
          }
        },
        {
          "output_type": "stream",
          "text": [
            "[<tf.Tensor: shape=(), dtype=float32, numpy=0.25452107>, <tf.Tensor: shape=(), dtype=float32, numpy=0.1779188>, <tf.Tensor: shape=(), dtype=float32, numpy=0.16188096>, <tf.Tensor: shape=(), dtype=float32, numpy=0.16017233>, <tf.Tensor: shape=(), dtype=float32, numpy=0.16267899>, <tf.Tensor: shape=(), dtype=float32, numpy=0.14782912>, <tf.Tensor: shape=(), dtype=float32, numpy=0.14493169>, <tf.Tensor: shape=(), dtype=float32, numpy=0.14243504>, <tf.Tensor: shape=(), dtype=float32, numpy=0.13780095>, <tf.Tensor: shape=(), dtype=float32, numpy=0.13459048>, <tf.Tensor: shape=(), dtype=float32, numpy=0.13345584>, <tf.Tensor: shape=(), dtype=float32, numpy=0.13200854>, <tf.Tensor: shape=(), dtype=float32, numpy=0.12577881>, <tf.Tensor: shape=(), dtype=float32, numpy=0.12598015>, <tf.Tensor: shape=(), dtype=float32, numpy=0.12573843>, <tf.Tensor: shape=(), dtype=float32, numpy=0.11596416>, <tf.Tensor: shape=(), dtype=float32, numpy=0.11192013>, <tf.Tensor: shape=(), dtype=float32, numpy=0.111375615>, <tf.Tensor: shape=(), dtype=float32, numpy=0.108091675>, <tf.Tensor: shape=(), dtype=float32, numpy=0.11155993>, <tf.Tensor: shape=(), dtype=float32, numpy=0.10774577>, <tf.Tensor: shape=(), dtype=float32, numpy=0.10394468>, <tf.Tensor: shape=(), dtype=float32, numpy=0.10034567>, <tf.Tensor: shape=(), dtype=float32, numpy=0.09508546>, <tf.Tensor: shape=(), dtype=float32, numpy=0.09338577>, <tf.Tensor: shape=(), dtype=float32, numpy=0.09246724>, <tf.Tensor: shape=(), dtype=float32, numpy=0.087026596>, <tf.Tensor: shape=(), dtype=float32, numpy=0.088281296>, <tf.Tensor: shape=(), dtype=float32, numpy=0.08324129>, <tf.Tensor: shape=(), dtype=float32, numpy=0.0827861>, <tf.Tensor: shape=(), dtype=float32, numpy=0.07777739>, <tf.Tensor: shape=(), dtype=float32, numpy=0.07226545>, <tf.Tensor: shape=(), dtype=float32, numpy=0.06997687>, <tf.Tensor: shape=(), dtype=float32, numpy=0.06736715>, <tf.Tensor: shape=(), dtype=float32, numpy=0.070323706>, <tf.Tensor: shape=(), dtype=float32, numpy=0.06855034>, <tf.Tensor: shape=(), dtype=float32, numpy=0.06439969>, <tf.Tensor: shape=(), dtype=float32, numpy=0.055053793>, <tf.Tensor: shape=(), dtype=float32, numpy=0.047979616>, <tf.Tensor: shape=(), dtype=float32, numpy=0.056351643>, <tf.Tensor: shape=(), dtype=float32, numpy=0.044215184>, <tf.Tensor: shape=(), dtype=float32, numpy=0.04176156>, <tf.Tensor: shape=(), dtype=float32, numpy=0.039259546>, <tf.Tensor: shape=(), dtype=float32, numpy=0.034150116>, <tf.Tensor: shape=(), dtype=float32, numpy=0.038151868>, <tf.Tensor: shape=(), dtype=float32, numpy=0.029050281>, <tf.Tensor: shape=(), dtype=float32, numpy=0.028662378>, <tf.Tensor: shape=(), dtype=float32, numpy=0.03320699>, <tf.Tensor: shape=(), dtype=float32, numpy=0.029205522>, <tf.Tensor: shape=(), dtype=float32, numpy=0.02622453>, <tf.Tensor: shape=(), dtype=float32, numpy=0.021738311>, <tf.Tensor: shape=(), dtype=float32, numpy=0.024897963>, <tf.Tensor: shape=(), dtype=float32, numpy=0.022842309>, <tf.Tensor: shape=(), dtype=float32, numpy=0.022802906>, <tf.Tensor: shape=(), dtype=float32, numpy=0.01885837>, <tf.Tensor: shape=(), dtype=float32, numpy=0.022255037>, <tf.Tensor: shape=(), dtype=float32, numpy=0.028517585>, <tf.Tensor: shape=(), dtype=float32, numpy=0.023642894>, <tf.Tensor: shape=(), dtype=float32, numpy=0.023566876>, <tf.Tensor: shape=(), dtype=float32, numpy=0.022305038>, <tf.Tensor: shape=(), dtype=float32, numpy=0.020073604>, <tf.Tensor: shape=(), dtype=float32, numpy=0.014451383>, <tf.Tensor: shape=(), dtype=float32, numpy=0.020495597>, <tf.Tensor: shape=(), dtype=float32, numpy=0.020023875>, <tf.Tensor: shape=(), dtype=float32, numpy=0.01450829>, <tf.Tensor: shape=(), dtype=float32, numpy=0.016477294>, <tf.Tensor: shape=(), dtype=float32, numpy=0.019900072>, <tf.Tensor: shape=(), dtype=float32, numpy=0.012334574>, <tf.Tensor: shape=(), dtype=float32, numpy=0.014325795>, <tf.Tensor: shape=(), dtype=float32, numpy=0.018330794>, <tf.Tensor: shape=(), dtype=float32, numpy=0.011851799>, <tf.Tensor: shape=(), dtype=float32, numpy=0.012837818>, <tf.Tensor: shape=(), dtype=float32, numpy=0.01488128>, <tf.Tensor: shape=(), dtype=float32, numpy=0.015742397>, <tf.Tensor: shape=(), dtype=float32, numpy=0.011528131>, <tf.Tensor: shape=(), dtype=float32, numpy=0.009669798>, <tf.Tensor: shape=(), dtype=float32, numpy=0.01516453>, <tf.Tensor: shape=(), dtype=float32, numpy=0.013550319>, <tf.Tensor: shape=(), dtype=float32, numpy=0.01864672>, <tf.Tensor: shape=(), dtype=float32, numpy=0.008629837>, <tf.Tensor: shape=(), dtype=float32, numpy=0.012323635>, <tf.Tensor: shape=(), dtype=float32, numpy=0.012816183>, <tf.Tensor: shape=(), dtype=float32, numpy=0.01569799>, <tf.Tensor: shape=(), dtype=float32, numpy=0.009828343>, <tf.Tensor: shape=(), dtype=float32, numpy=0.008969178>, <tf.Tensor: shape=(), dtype=float32, numpy=0.014126144>, <tf.Tensor: shape=(), dtype=float32, numpy=0.0074629495>, <tf.Tensor: shape=(), dtype=float32, numpy=0.016727619>, <tf.Tensor: shape=(), dtype=float32, numpy=0.012700255>, <tf.Tensor: shape=(), dtype=float32, numpy=0.009213091>, <tf.Tensor: shape=(), dtype=float32, numpy=0.01152613>, <tf.Tensor: shape=(), dtype=float32, numpy=0.009015923>, <tf.Tensor: shape=(), dtype=float32, numpy=0.010599588>, <tf.Tensor: shape=(), dtype=float32, numpy=0.013336131>, <tf.Tensor: shape=(), dtype=float32, numpy=0.0077944496>, <tf.Tensor: shape=(), dtype=float32, numpy=0.0082352655>, <tf.Tensor: shape=(), dtype=float32, numpy=0.006516178>, <tf.Tensor: shape=(), dtype=float32, numpy=0.007132406>, <tf.Tensor: shape=(), dtype=float32, numpy=0.013265861>, <tf.Tensor: shape=(), dtype=float32, numpy=0.01000434>]\n"
          ],
          "name": "stdout"
        }
      ]
    },
    {
      "cell_type": "markdown",
      "metadata": {
        "id": "ZKYh5WXpFY02",
        "colab_type": "text"
      },
      "source": [
        "### Training the Supervised Model\n"
      ]
    },
    {
      "cell_type": "code",
      "metadata": {
        "id": "mUV1mJQxFs5g",
        "colab_type": "code",
        "colab": {}
      },
      "source": [
        "def supervised_model():\n",
        "\tinputs = Input((IMG_SHAPE, IMG_SHAPE, 3))\n",
        "\tencoder_r.trainable = False\n",
        "\n",
        "\tr = encoder_r(inputs, training=False)\n",
        "\toutputs = Dense(5, activation='softmax')(r)\n",
        "\n",
        "\tsupervised_model = Model(inputs, outputs)\n",
        "  \n",
        "\treturn supervised_model\n"
      ],
      "execution_count": 0,
      "outputs": []
    },
    {
      "cell_type": "code",
      "metadata": {
        "id": "DNOeI-ErFMAx",
        "colab_type": "code",
        "outputId": "23b6317d-b9d9-4b78-9d68-a78345edf12d",
        "colab": {
          "base_uri": "https://localhost:8080/",
          "height": 202
        }
      },
      "source": [
        "supervised_classifier = supervised_model()\n",
        "\n",
        "supervised_classifier.compile(optimizer=optimizer2,\n",
        "\tloss=tf.keras.losses.SparseCategoricalCrossentropy(),\n",
        "\tmetrics=[tf.keras.metrics.SparseCategoricalAccuracy()])\n",
        "\n",
        "es = tf.keras.callbacks.EarlyStopping(monitor=\"val_sparse_categorical_accuracy\", patience=2,\n",
        "\trestore_best_weights=True, verbose=2)\n",
        "\n",
        "wandb.init(project=\"scl\", entity=\"authors\", id='FSL_RMS_LR_0.001')\n",
        "\n",
        "start = time.time()\n",
        "supervised_classifier.fit(train_ds,\n",
        "\tvalidation_data=validation_ds,\n",
        "\tepochs=100,\n",
        "\tcallbacks=[WandbCallback(),es])\n",
        "end = time.time()\n",
        "wandb.log({\"training_time\": end - start})"
      ],
      "execution_count": 48,
      "outputs": [
        {
          "output_type": "display_data",
          "data": {
            "text/html": [
              "\n",
              "                Logging results to <a href=\"https://wandb.com\" target=\"_blank\">Weights & Biases</a> <a href=\"https://docs.wandb.com/integrations/jupyter.html\" target=\"_blank\">(Documentation)</a>.<br/>\n",
              "                Project page: <a href=\"https://app.wandb.ai/authors/scl\" target=\"_blank\">https://app.wandb.ai/authors/scl</a><br/>\n",
              "                Run page: <a href=\"https://app.wandb.ai/authors/scl/runs/FSL_RMS_LR_0.001%20\" target=\"_blank\">https://app.wandb.ai/authors/scl/runs/FSL_RMS_LR_0.001%20</a><br/>\n",
              "            "
            ],
            "text/plain": [
              "<IPython.core.display.HTML object>"
            ]
          },
          "metadata": {
            "tags": []
          }
        },
        {
          "output_type": "stream",
          "text": [
            "Epoch 1/100\n",
            "20/20 [==============================] - 3s 167ms/step - loss: 1.2750 - sparse_categorical_accuracy: 0.9144 - val_loss: 1.2720 - val_sparse_categorical_accuracy: 0.6360\n",
            "Epoch 2/100\n",
            "20/20 [==============================] - 3s 127ms/step - loss: 0.8770 - sparse_categorical_accuracy: 0.9648 - val_loss: 1.1220 - val_sparse_categorical_accuracy: 0.6360\n",
            "Epoch 3/100\n",
            "19/20 [===========================>..] - ETA: 0s - loss: 0.6231 - sparse_categorical_accuracy: 0.9663Restoring model weights from the end of the best epoch.\n",
            "20/20 [==============================] - 3s 127ms/step - loss: 0.6205 - sparse_categorical_accuracy: 0.9664 - val_loss: 1.0421 - val_sparse_categorical_accuracy: 0.6360\n",
            "Epoch 00003: early stopping\n"
          ],
          "name": "stdout"
        }
      ]
    },
    {
      "cell_type": "markdown",
      "metadata": {
        "id": "USFctJoqJl9k",
        "colab_type": "text"
      },
      "source": [
        "# Adding augmentation"
      ]
    },
    {
      "cell_type": "markdown",
      "metadata": {
        "id": "yW73ISc8Jo5g",
        "colab_type": "text"
      },
      "source": [
        "### Preparing dataset"
      ]
    },
    {
      "cell_type": "code",
      "metadata": {
        "id": "Odg_INO0J1OD",
        "colab_type": "code",
        "colab": {}
      },
      "source": [
        "#Random Augmentations\n",
        "\n",
        "def aug(image, label):\n",
        "  x=tf.image.random_brightness(image,max_delta=0)\n",
        "  x=tf.image.random_contrast(x,lower=0.2, upper=1.8)\n",
        "  x = tf.image.random_saturation(x, lower=0.2, upper=1.5)\n",
        "  x = tf.image.random_hue(x, max_delta=0.4)\n",
        "  x = tf.clip_by_value(x, 0, 1)\n",
        "\n",
        "  return x, label"
      ],
      "execution_count": 0,
      "outputs": []
    },
    {
      "cell_type": "code",
      "metadata": {
        "id": "relHo54GJoG2",
        "colab_type": "code",
        "colab": {}
      },
      "source": [
        "train_ds=tf.data.Dataset.from_tensor_slices((X_train,y_train_enc))\n",
        "validation_ds=tf.data.Dataset.from_tensor_slices((X_test,y_test_enc))"
      ],
      "execution_count": 0,
      "outputs": []
    },
    {
      "cell_type": "code",
      "metadata": {
        "id": "fXCOB2zLJxt1",
        "colab_type": "code",
        "colab": {}
      },
      "source": [
        "IMG_SHAPE = 128\n",
        "BS = 64\n",
        "AUTO = tf.data.experimental.AUTOTUNE\n",
        "train_ds = (\n",
        "    train_ds\n",
        "    .shuffle(100)\n",
        "    .batch(BS)\n",
        "    .map(aug, num_parallel_calls=AUTO)\n",
        "    .prefetch(AUTO)\n",
        ")\n",
        "validation_ds = (\n",
        "    validation_ds\n",
        "    .shuffle(100)\n",
        "    .batch(BS)\n",
        "    .prefetch(AUTO)\n",
        ")"
      ],
      "execution_count": 0,
      "outputs": []
    },
    {
      "cell_type": "markdown",
      "metadata": {
        "id": "DdDEwebwJ9st",
        "colab_type": "text"
      },
      "source": [
        "### Training the encoder and decoder"
      ]
    },
    {
      "cell_type": "code",
      "metadata": {
        "id": "qosfWyViJ_-m",
        "colab_type": "code",
        "colab": {}
      },
      "source": [
        "decay_steps = 1000\n",
        "lr_decayed_fn = tf.keras.experimental.CosineDecay(\n",
        "    initial_learning_rate=0.001, decay_steps=decay_steps)\n",
        "optimizer = tf.keras.optimizers.RMSprop(lr_decayed_fn)"
      ],
      "execution_count": 0,
      "outputs": []
    },
    {
      "cell_type": "code",
      "metadata": {
        "id": "2Q-f9bAbKM5a",
        "colab_type": "code",
        "colab": {}
      },
      "source": [
        "encoder_r = encoder_net()\n",
        "projector_z = projector_net()\n",
        "\n",
        "@tf.function\n",
        "def train_step(images, labels):\n",
        "\twith tf.GradientTape() as tape:\n",
        "\t\tr = encoder_r(images, training=True)\n",
        "\t\tz = projector_z(r, training=True)\n",
        "\t\tloss = losses.max_margin_contrastive_loss(z, labels)\n",
        "\n",
        "\tgradients = tape.gradient(loss, \n",
        "\t\tencoder_r.trainable_variables + projector_z.trainable_variables)\n",
        "\toptimizer.apply_gradients(zip(gradients, \n",
        "\t\tencoder_r.trainable_variables + projector_z.trainable_variables))\n",
        "\n",
        "\treturn loss"
      ],
      "execution_count": 0,
      "outputs": []
    },
    {
      "cell_type": "code",
      "metadata": {
        "id": "pIaC4P-5KWsy",
        "colab_type": "code",
        "outputId": "2342c3a2-2ed2-447b-f4a9-c8fa86ab323c",
        "colab": {
          "base_uri": "https://localhost:8080/",
          "height": 676,
          "referenced_widgets": [
            "f3281847169742b89e09c5869ec66381",
            "86dff3edcd6b446bbd0a6b296cf3f345",
            "dc3ff471a69245638406b813828f5c0d",
            "b8b1011df1384c489f8d84e27720eee6",
            "35808cdaa2e04b05b594e3be2940522e",
            "d0aa999906134e6da9ab1df08819e41f",
            "b2e64cb8f3b34921ab27d82fe8f2436c",
            "d01ab11323c94ca59e064d62a29de1ee"
          ]
        }
      },
      "source": [
        "import time\n",
        "\n",
        "wandb.init(project=\"scl\", entity=\"authors\", id='SCL_RMS_LRDECAY_AUG_150ep')\n",
        "EPOCHS = 150\n",
        "LOG_EVERY = 10\n",
        "train_loss_results = []\n",
        "\n",
        "start = time.time()\n",
        "for epoch in tqdm(range(EPOCHS)):\t\n",
        "\tepoch_loss_avg = tf.keras.metrics.Mean()\n",
        "\t\n",
        "\tfor (images, labels) in train_ds:\n",
        "\t\tloss = train_step(images, labels)\n",
        "\t\tepoch_loss_avg.update_state(loss) \n",
        "\n",
        "\ttrain_loss_results.append(epoch_loss_avg.result())\n",
        "\twandb.log({\"supervised_contrastive_loss\": epoch_loss_avg.result()})\n",
        "\n",
        "\tif epoch % LOG_EVERY == 0:\n",
        "\t\tprint(\"Epoch: {} Loss: {:.3f}\".format(epoch, epoch_loss_avg.result()))\n",
        "\n",
        "end = time.time()\n",
        "wandb.log({\"training_time\": end - start})\n",
        "\n",
        "with plt.xkcd():\n",
        "    plt.plot(train_loss_results)\n",
        "    plt.title(\"Supervised Contrastive Loss\")\n",
        "    plt.show()\n",
        "print(train_loss_results)"
      ],
      "execution_count": 68,
      "outputs": [
        {
          "output_type": "display_data",
          "data": {
            "text/html": [
              "\n",
              "                Logging results to <a href=\"https://wandb.com\" target=\"_blank\">Weights & Biases</a> <a href=\"https://docs.wandb.com/integrations/jupyter.html\" target=\"_blank\">(Documentation)</a>.<br/>\n",
              "                Project page: <a href=\"https://app.wandb.ai/authors/scl\" target=\"_blank\">https://app.wandb.ai/authors/scl</a><br/>\n",
              "                Run page: <a href=\"https://app.wandb.ai/authors/scl/runs/SCL_RMS_LRDECAY_AUG_150ep\" target=\"_blank\">https://app.wandb.ai/authors/scl/runs/SCL_RMS_LRDECAY_AUG_150ep</a><br/>\n",
              "            "
            ],
            "text/plain": [
              "<IPython.core.display.HTML object>"
            ]
          },
          "metadata": {
            "tags": []
          }
        },
        {
          "output_type": "display_data",
          "data": {
            "application/vnd.jupyter.widget-view+json": {
              "model_id": "f3281847169742b89e09c5869ec66381",
              "version_minor": 0,
              "version_major": 2
            },
            "text/plain": [
              "HBox(children=(FloatProgress(value=0.0, max=150.0), HTML(value='')))"
            ]
          },
          "metadata": {
            "tags": []
          }
        },
        {
          "output_type": "stream",
          "text": [
            "Epoch: 0 Loss: 0.256\n",
            "Epoch: 10 Loss: 0.168\n",
            "Epoch: 20 Loss: 0.130\n",
            "Epoch: 30 Loss: 0.099\n",
            "Epoch: 40 Loss: 0.070\n",
            "Epoch: 50 Loss: 0.053\n",
            "Epoch: 60 Loss: 0.056\n",
            "Epoch: 70 Loss: 0.055\n",
            "Epoch: 80 Loss: 0.055\n",
            "Epoch: 90 Loss: 0.057\n",
            "Epoch: 100 Loss: 0.058\n",
            "Epoch: 110 Loss: 0.056\n",
            "Epoch: 120 Loss: 0.056\n",
            "Epoch: 130 Loss: 0.056\n",
            "Epoch: 140 Loss: 0.054\n",
            "\n"
          ],
          "name": "stdout"
        },
        {
          "output_type": "display_data",
          "data": {
            "image/png": "[encoded data removed]",
            "text/plain": [
              "<Figure size 432x288 with 1 Axes>"
            ]
          },
          "metadata": {
            "tags": []
          }
        },
        {
          "output_type": "stream",
          "text": [
            "[<tf.Tensor: shape=(), dtype=float32, numpy=0.25577372>, <tf.Tensor: shape=(), dtype=float32, numpy=0.19521415>, <tf.Tensor: shape=(), dtype=float32, numpy=0.18533391>, <tf.Tensor: shape=(), dtype=float32, numpy=0.17929026>, <tf.Tensor: shape=(), dtype=float32, numpy=0.17806955>, <tf.Tensor: shape=(), dtype=float32, numpy=0.17131263>, <tf.Tensor: shape=(), dtype=float32, numpy=0.16641264>, <tf.Tensor: shape=(), dtype=float32, numpy=0.1666523>, <tf.Tensor: shape=(), dtype=float32, numpy=0.16082236>, <tf.Tensor: shape=(), dtype=float32, numpy=0.1619858>, <tf.Tensor: shape=(), dtype=float32, numpy=0.16754752>, <tf.Tensor: shape=(), dtype=float32, numpy=0.15713112>, <tf.Tensor: shape=(), dtype=float32, numpy=0.15378067>, <tf.Tensor: shape=(), dtype=float32, numpy=0.15532677>, <tf.Tensor: shape=(), dtype=float32, numpy=0.14785527>, <tf.Tensor: shape=(), dtype=float32, numpy=0.1480581>, <tf.Tensor: shape=(), dtype=float32, numpy=0.14239177>, <tf.Tensor: shape=(), dtype=float32, numpy=0.14348781>, <tf.Tensor: shape=(), dtype=float32, numpy=0.13923638>, <tf.Tensor: shape=(), dtype=float32, numpy=0.13726205>, <tf.Tensor: shape=(), dtype=float32, numpy=0.13014221>, <tf.Tensor: shape=(), dtype=float32, numpy=0.12732223>, <tf.Tensor: shape=(), dtype=float32, numpy=0.1267147>, <tf.Tensor: shape=(), dtype=float32, numpy=0.12122738>, <tf.Tensor: shape=(), dtype=float32, numpy=0.118669614>, <tf.Tensor: shape=(), dtype=float32, numpy=0.115633264>, <tf.Tensor: shape=(), dtype=float32, numpy=0.112073876>, <tf.Tensor: shape=(), dtype=float32, numpy=0.112680934>, <tf.Tensor: shape=(), dtype=float32, numpy=0.10724566>, <tf.Tensor: shape=(), dtype=float32, numpy=0.09880413>, <tf.Tensor: shape=(), dtype=float32, numpy=0.09902752>, <tf.Tensor: shape=(), dtype=float32, numpy=0.09368016>, <tf.Tensor: shape=(), dtype=float32, numpy=0.091868415>, <tf.Tensor: shape=(), dtype=float32, numpy=0.09222791>, <tf.Tensor: shape=(), dtype=float32, numpy=0.08878778>, <tf.Tensor: shape=(), dtype=float32, numpy=0.08211522>, <tf.Tensor: shape=(), dtype=float32, numpy=0.07942462>, <tf.Tensor: shape=(), dtype=float32, numpy=0.07791634>, <tf.Tensor: shape=(), dtype=float32, numpy=0.07525246>, <tf.Tensor: shape=(), dtype=float32, numpy=0.07193145>, <tf.Tensor: shape=(), dtype=float32, numpy=0.06971082>, <tf.Tensor: shape=(), dtype=float32, numpy=0.06554848>, <tf.Tensor: shape=(), dtype=float32, numpy=0.062102277>, <tf.Tensor: shape=(), dtype=float32, numpy=0.060014717>, <tf.Tensor: shape=(), dtype=float32, numpy=0.056712896>, <tf.Tensor: shape=(), dtype=float32, numpy=0.059578974>, <tf.Tensor: shape=(), dtype=float32, numpy=0.055906184>, <tf.Tensor: shape=(), dtype=float32, numpy=0.054268837>, <tf.Tensor: shape=(), dtype=float32, numpy=0.053649016>, <tf.Tensor: shape=(), dtype=float32, numpy=0.055239953>, <tf.Tensor: shape=(), dtype=float32, numpy=0.05289604>, <tf.Tensor: shape=(), dtype=float32, numpy=0.057546783>, <tf.Tensor: shape=(), dtype=float32, numpy=0.054855436>, <tf.Tensor: shape=(), dtype=float32, numpy=0.053500347>, <tf.Tensor: shape=(), dtype=float32, numpy=0.053509384>, <tf.Tensor: shape=(), dtype=float32, numpy=0.055255026>, <tf.Tensor: shape=(), dtype=float32, numpy=0.052710038>, <tf.Tensor: shape=(), dtype=float32, numpy=0.055904306>, <tf.Tensor: shape=(), dtype=float32, numpy=0.057074428>, <tf.Tensor: shape=(), dtype=float32, numpy=0.054522388>, <tf.Tensor: shape=(), dtype=float32, numpy=0.05631295>, <tf.Tensor: shape=(), dtype=float32, numpy=0.05441795>, <tf.Tensor: shape=(), dtype=float32, numpy=0.05715207>, <tf.Tensor: shape=(), dtype=float32, numpy=0.056573004>, <tf.Tensor: shape=(), dtype=float32, numpy=0.054748673>, <tf.Tensor: shape=(), dtype=float32, numpy=0.055541832>, <tf.Tensor: shape=(), dtype=float32, numpy=0.055238105>, <tf.Tensor: shape=(), dtype=float32, numpy=0.055405>, <tf.Tensor: shape=(), dtype=float32, numpy=0.055984385>, <tf.Tensor: shape=(), dtype=float32, numpy=0.057084896>, <tf.Tensor: shape=(), dtype=float32, numpy=0.054977678>, <tf.Tensor: shape=(), dtype=float32, numpy=0.05481439>, <tf.Tensor: shape=(), dtype=float32, numpy=0.052752007>, <tf.Tensor: shape=(), dtype=float32, numpy=0.05608367>, <tf.Tensor: shape=(), dtype=float32, numpy=0.059205107>, <tf.Tensor: shape=(), dtype=float32, numpy=0.05332415>, <tf.Tensor: shape=(), dtype=float32, numpy=0.056306582>, <tf.Tensor: shape=(), dtype=float32, numpy=0.056983016>, <tf.Tensor: shape=(), dtype=float32, numpy=0.052905697>, <tf.Tensor: shape=(), dtype=float32, numpy=0.05500545>, <tf.Tensor: shape=(), dtype=float32, numpy=0.054983974>, <tf.Tensor: shape=(), dtype=float32, numpy=0.055190455>, <tf.Tensor: shape=(), dtype=float32, numpy=0.057032607>, <tf.Tensor: shape=(), dtype=float32, numpy=0.05637335>, <tf.Tensor: shape=(), dtype=float32, numpy=0.05542474>, <tf.Tensor: shape=(), dtype=float32, numpy=0.058266085>, <tf.Tensor: shape=(), dtype=float32, numpy=0.054279>, <tf.Tensor: shape=(), dtype=float32, numpy=0.0555511>, <tf.Tensor: shape=(), dtype=float32, numpy=0.05886492>, <tf.Tensor: shape=(), dtype=float32, numpy=0.055875797>, <tf.Tensor: shape=(), dtype=float32, numpy=0.05723952>, <tf.Tensor: shape=(), dtype=float32, numpy=0.056428038>, <tf.Tensor: shape=(), dtype=float32, numpy=0.05537231>, <tf.Tensor: shape=(), dtype=float32, numpy=0.052525092>, <tf.Tensor: shape=(), dtype=float32, numpy=0.05359157>, <tf.Tensor: shape=(), dtype=float32, numpy=0.056654822>, <tf.Tensor: shape=(), dtype=float32, numpy=0.05543285>, <tf.Tensor: shape=(), dtype=float32, numpy=0.05324959>, <tf.Tensor: shape=(), dtype=float32, numpy=0.054110646>, <tf.Tensor: shape=(), dtype=float32, numpy=0.05404548>, <tf.Tensor: shape=(), dtype=float32, numpy=0.0577571>, <tf.Tensor: shape=(), dtype=float32, numpy=0.055587>, <tf.Tensor: shape=(), dtype=float32, numpy=0.0549698>, <tf.Tensor: shape=(), dtype=float32, numpy=0.052667152>, <tf.Tensor: shape=(), dtype=float32, numpy=0.057165194>, <tf.Tensor: shape=(), dtype=float32, numpy=0.05746604>, <tf.Tensor: shape=(), dtype=float32, numpy=0.054409914>, <tf.Tensor: shape=(), dtype=float32, numpy=0.055691224>, <tf.Tensor: shape=(), dtype=float32, numpy=0.054990195>, <tf.Tensor: shape=(), dtype=float32, numpy=0.05640282>, <tf.Tensor: shape=(), dtype=float32, numpy=0.05649628>, <tf.Tensor: shape=(), dtype=float32, numpy=0.054538984>, <tf.Tensor: shape=(), dtype=float32, numpy=0.05588135>, <tf.Tensor: shape=(), dtype=float32, numpy=0.054897327>, <tf.Tensor: shape=(), dtype=float32, numpy=0.053664804>, <tf.Tensor: shape=(), dtype=float32, numpy=0.056004126>, <tf.Tensor: shape=(), dtype=float32, numpy=0.05687675>, <tf.Tensor: shape=(), dtype=float32, numpy=0.055129517>, <tf.Tensor: shape=(), dtype=float32, numpy=0.054185726>, <tf.Tensor: shape=(), dtype=float32, numpy=0.058827996>, <tf.Tensor: shape=(), dtype=float32, numpy=0.056088448>, <tf.Tensor: shape=(), dtype=float32, numpy=0.054791886>, <tf.Tensor: shape=(), dtype=float32, numpy=0.052672844>, <tf.Tensor: shape=(), dtype=float32, numpy=0.057492178>, <tf.Tensor: shape=(), dtype=float32, numpy=0.055433296>, <tf.Tensor: shape=(), dtype=float32, numpy=0.05381059>, <tf.Tensor: shape=(), dtype=float32, numpy=0.05856184>, <tf.Tensor: shape=(), dtype=float32, numpy=0.057154883>, <tf.Tensor: shape=(), dtype=float32, numpy=0.058965612>, <tf.Tensor: shape=(), dtype=float32, numpy=0.06001408>, <tf.Tensor: shape=(), dtype=float32, numpy=0.05609255>, <tf.Tensor: shape=(), dtype=float32, numpy=0.054419868>, <tf.Tensor: shape=(), dtype=float32, numpy=0.054235756>, <tf.Tensor: shape=(), dtype=float32, numpy=0.054535307>, <tf.Tensor: shape=(), dtype=float32, numpy=0.055331726>, <tf.Tensor: shape=(), dtype=float32, numpy=0.056380533>, <tf.Tensor: shape=(), dtype=float32, numpy=0.055639118>, <tf.Tensor: shape=(), dtype=float32, numpy=0.05539496>, <tf.Tensor: shape=(), dtype=float32, numpy=0.05345124>, <tf.Tensor: shape=(), dtype=float32, numpy=0.054444164>, <tf.Tensor: shape=(), dtype=float32, numpy=0.053830244>, <tf.Tensor: shape=(), dtype=float32, numpy=0.05419897>, <tf.Tensor: shape=(), dtype=float32, numpy=0.056150157>, <tf.Tensor: shape=(), dtype=float32, numpy=0.055990398>, <tf.Tensor: shape=(), dtype=float32, numpy=0.057377458>, <tf.Tensor: shape=(), dtype=float32, numpy=0.054322165>, <tf.Tensor: shape=(), dtype=float32, numpy=0.05442642>, <tf.Tensor: shape=(), dtype=float32, numpy=0.0563974>, <tf.Tensor: shape=(), dtype=float32, numpy=0.05298819>, <tf.Tensor: shape=(), dtype=float32, numpy=0.05638169>]\n"
          ],
          "name": "stdout"
        }
      ]
    },
    {
      "cell_type": "markdown",
      "metadata": {
        "id": "hmhwBtwHKMZY",
        "colab_type": "text"
      },
      "source": [
        "### Trainig Supervised model"
      ]
    },
    {
      "cell_type": "code",
      "metadata": {
        "colab_type": "code",
        "id": "PTtUZT7PKpqG",
        "colab": {}
      },
      "source": [
        "def supervised_model():\n",
        "\tinputs = Input((IMG_SHAPE, IMG_SHAPE, 3))\n",
        "\tencoder_r.trainable = False\n",
        "\n",
        "\tr = encoder_r(inputs, training=False)\n",
        "\toutputs = Dense(5, activation='softmax')(r)\n",
        "\n",
        "\tsupervised_model = Model(inputs, outputs)\n",
        "  \n",
        "\treturn supervised_model\n"
      ],
      "execution_count": 0,
      "outputs": []
    },
    {
      "cell_type": "code",
      "metadata": {
        "id": "kQ4EC2KjKpNb",
        "colab_type": "code",
        "colab": {
          "base_uri": "https://localhost:8080/",
          "height": 202
        },
        "outputId": "904db8f5-e121-4463-af7a-16d3c3c4bc86"
      },
      "source": [
        "supervised_classifier = supervised_model()\n",
        "\n",
        "supervised_classifier.compile(optimizer=optimizer2,\n",
        "\tloss=tf.keras.losses.SparseCategoricalCrossentropy(),\n",
        "\tmetrics=[tf.keras.metrics.SparseCategoricalAccuracy()])\n",
        "\n",
        "es = tf.keras.callbacks.EarlyStopping(monitor=\"val_sparse_categorical_accuracy\", patience=2,\n",
        "\trestore_best_weights=True, verbose=2)\n",
        "\n",
        "wandb.init(project=\"scl\", entity=\"authors\", id='FSL_RMS_LRDECAY_AUG_150')\n",
        "\n",
        "start = time.time()\n",
        "supervised_classifier.fit(train_ds,\n",
        "\tvalidation_data=validation_ds,\n",
        "\tepochs=100,\n",
        "\tcallbacks=[WandbCallback(),es])\n",
        "end = time.time()\n",
        "wandb.log({\"training_time\": end - start})"
      ],
      "execution_count": 70,
      "outputs": [
        {
          "output_type": "display_data",
          "data": {
            "text/html": [
              "\n",
              "                Logging results to <a href=\"https://wandb.com\" target=\"_blank\">Weights & Biases</a> <a href=\"https://docs.wandb.com/integrations/jupyter.html\" target=\"_blank\">(Documentation)</a>.<br/>\n",
              "                Project page: <a href=\"https://app.wandb.ai/authors/scl\" target=\"_blank\">https://app.wandb.ai/authors/scl</a><br/>\n",
              "                Run page: <a href=\"https://app.wandb.ai/authors/scl/runs/FSL_RMS_LRDECAY_AUG_150\" target=\"_blank\">https://app.wandb.ai/authors/scl/runs/FSL_RMS_LRDECAY_AUG_150</a><br/>\n",
              "            "
            ],
            "text/plain": [
              "<IPython.core.display.HTML object>"
            ]
          },
          "metadata": {
            "tags": []
          }
        },
        {
          "output_type": "stream",
          "text": [
            "Epoch 1/100\n",
            "20/20 [==============================] - 4s 187ms/step - loss: 1.4553 - sparse_categorical_accuracy: 0.5896 - val_loss: 1.3330 - val_sparse_categorical_accuracy: 0.6120\n",
            "Epoch 2/100\n",
            "20/20 [==============================] - 3s 157ms/step - loss: 1.2819 - sparse_categorical_accuracy: 0.6512 - val_loss: 1.2051 - val_sparse_categorical_accuracy: 0.6000\n",
            "Epoch 3/100\n",
            "19/20 [===========================>..] - ETA: 0s - loss: 1.1734 - sparse_categorical_accuracy: 0.6562Restoring model weights from the end of the best epoch.\n",
            "20/20 [==============================] - 3s 157ms/step - loss: 1.1706 - sparse_categorical_accuracy: 0.6576 - val_loss: 1.1229 - val_sparse_categorical_accuracy: 0.6120\n",
            "Epoch 00003: early stopping\n"
          ],
          "name": "stdout"
        }
      ]
    },
    {
      "cell_type": "markdown",
      "metadata": {
        "id": "aP6JJWlyjNna",
        "colab_type": "text"
      },
      "source": [
        "# Saving Weights"
      ]
    },
    {
      "cell_type": "code",
      "metadata": {
        "id": "KrZpU5K_aj4s",
        "colab_type": "code",
        "colab": {}
      },
      "source": [
        "encoder_r.save_weights(\"SCL_encoder_RMS.h5\")"
      ],
      "execution_count": 0,
      "outputs": []
    },
    {
      "cell_type": "code",
      "metadata": {
        "id": "7nmjpxvti9wK",
        "colab_type": "code",
        "colab": {}
      },
      "source": [
        "projector_z.save_weights(\"SCL_projector_RMS.h5\")"
      ],
      "execution_count": 0,
      "outputs": []
    }
  ]
}