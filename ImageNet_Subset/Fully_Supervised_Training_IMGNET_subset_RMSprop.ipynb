{
  "nbformat": 4,
  "nbformat_minor": 0,
  "metadata": {
    "colab": {
      "name": "Fully_Supervised_Training_IMGNET_subset_RMSprop.ipynb",
      "provenance": [],
      "collapsed_sections": []
    },
    "kernelspec": {
      "name": "python3",
      "display_name": "Python 3"
    },
    "accelerator": "GPU",
    "widgets": {
      "application/vnd.jupyter.widget-state+json": {
        "0b4c5d36a97843e6bfc07d37a8e3cb6a": {
          "model_module": "@jupyter-widgets/controls",
          "model_name": "HBoxModel",
          "state": {
            "_view_name": "HBoxView",
            "_dom_classes": [],
            "_model_name": "HBoxModel",
            "_view_module": "@jupyter-widgets/controls",
            "_model_module_version": "1.5.0",
            "_view_count": null,
            "_view_module_version": "1.5.0",
            "box_style": "",
            "layout": "IPY_MODEL_e8ef5e7fafb142aaa238fd8ae119b315",
            "_model_module": "@jupyter-widgets/controls",
            "children": [
              "IPY_MODEL_fb1635d6c5da4d4893558f5d32c234f2",
              "IPY_MODEL_0dae8ce37add4e81825f319cb66620df"
            ]
          }
        },
        "e8ef5e7fafb142aaa238fd8ae119b315": {
          "model_module": "@jupyter-widgets/base",
          "model_name": "LayoutModel",
          "state": {
            "_view_name": "LayoutView",
            "grid_template_rows": null,
            "right": null,
            "justify_content": null,
            "_view_module": "@jupyter-widgets/base",
            "overflow": null,
            "_model_module_version": "1.2.0",
            "_view_count": null,
            "flex_flow": null,
            "width": null,
            "min_width": null,
            "border": null,
            "align_items": null,
            "bottom": null,
            "_model_module": "@jupyter-widgets/base",
            "top": null,
            "grid_column": null,
            "overflow_y": null,
            "overflow_x": null,
            "grid_auto_flow": null,
            "grid_area": null,
            "grid_template_columns": null,
            "flex": null,
            "_model_name": "LayoutModel",
            "justify_items": null,
            "grid_row": null,
            "max_height": null,
            "align_content": null,
            "visibility": null,
            "align_self": null,
            "height": null,
            "min_height": null,
            "padding": null,
            "grid_auto_rows": null,
            "grid_gap": null,
            "max_width": null,
            "order": null,
            "_view_module_version": "1.2.0",
            "grid_template_areas": null,
            "object_position": null,
            "object_fit": null,
            "grid_auto_columns": null,
            "margin": null,
            "display": null,
            "left": null
          }
        },
        "fb1635d6c5da4d4893558f5d32c234f2": {
          "model_module": "@jupyter-widgets/controls",
          "model_name": "FloatProgressModel",
          "state": {
            "_view_name": "ProgressView",
            "style": "IPY_MODEL_e80797a1b4e24f19a9ce53ce7e9e9299",
            "_dom_classes": [],
            "description": "100%",
            "_model_name": "FloatProgressModel",
            "bar_style": "success",
            "max": 1250,
            "_view_module": "@jupyter-widgets/controls",
            "_model_module_version": "1.5.0",
            "value": 1250,
            "_view_count": null,
            "_view_module_version": "1.5.0",
            "orientation": "horizontal",
            "min": 0,
            "description_tooltip": null,
            "_model_module": "@jupyter-widgets/controls",
            "layout": "IPY_MODEL_4d2932cd6daf495d972886f07bfcc227"
          }
        },
        "0dae8ce37add4e81825f319cb66620df": {
          "model_module": "@jupyter-widgets/controls",
          "model_name": "HTMLModel",
          "state": {
            "_view_name": "HTMLView",
            "style": "IPY_MODEL_717104f84c7044818e3f5e4346de1ec0",
            "_dom_classes": [],
            "description": "",
            "_model_name": "HTMLModel",
            "placeholder": "​",
            "_view_module": "@jupyter-widgets/controls",
            "_model_module_version": "1.5.0",
            "value": " 1250/1250 [01:03&lt;00:00, 19.77it/s]",
            "_view_count": null,
            "_view_module_version": "1.5.0",
            "description_tooltip": null,
            "_model_module": "@jupyter-widgets/controls",
            "layout": "IPY_MODEL_b0df6eda571748eaa741673ef3cf090f"
          }
        },
        "e80797a1b4e24f19a9ce53ce7e9e9299": {
          "model_module": "@jupyter-widgets/controls",
          "model_name": "ProgressStyleModel",
          "state": {
            "_view_name": "StyleView",
            "_model_name": "ProgressStyleModel",
            "description_width": "initial",
            "_view_module": "@jupyter-widgets/base",
            "_model_module_version": "1.5.0",
            "_view_count": null,
            "_view_module_version": "1.2.0",
            "bar_color": null,
            "_model_module": "@jupyter-widgets/controls"
          }
        },
        "4d2932cd6daf495d972886f07bfcc227": {
          "model_module": "@jupyter-widgets/base",
          "model_name": "LayoutModel",
          "state": {
            "_view_name": "LayoutView",
            "grid_template_rows": null,
            "right": null,
            "justify_content": null,
            "_view_module": "@jupyter-widgets/base",
            "overflow": null,
            "_model_module_version": "1.2.0",
            "_view_count": null,
            "flex_flow": null,
            "width": null,
            "min_width": null,
            "border": null,
            "align_items": null,
            "bottom": null,
            "_model_module": "@jupyter-widgets/base",
            "top": null,
            "grid_column": null,
            "overflow_y": null,
            "overflow_x": null,
            "grid_auto_flow": null,
            "grid_area": null,
            "grid_template_columns": null,
            "flex": null,
            "_model_name": "LayoutModel",
            "justify_items": null,
            "grid_row": null,
            "max_height": null,
            "align_content": null,
            "visibility": null,
            "align_self": null,
            "height": null,
            "min_height": null,
            "padding": null,
            "grid_auto_rows": null,
            "grid_gap": null,
            "max_width": null,
            "order": null,
            "_view_module_version": "1.2.0",
            "grid_template_areas": null,
            "object_position": null,
            "object_fit": null,
            "grid_auto_columns": null,
            "margin": null,
            "display": null,
            "left": null
          }
        },
        "717104f84c7044818e3f5e4346de1ec0": {
          "model_module": "@jupyter-widgets/controls",
          "model_name": "DescriptionStyleModel",
          "state": {
            "_view_name": "StyleView",
            "_model_name": "DescriptionStyleModel",
            "description_width": "",
            "_view_module": "@jupyter-widgets/base",
            "_model_module_version": "1.5.0",
            "_view_count": null,
            "_view_module_version": "1.2.0",
            "_model_module": "@jupyter-widgets/controls"
          }
        },
        "b0df6eda571748eaa741673ef3cf090f": {
          "model_module": "@jupyter-widgets/base",
          "model_name": "LayoutModel",
          "state": {
            "_view_name": "LayoutView",
            "grid_template_rows": null,
            "right": null,
            "justify_content": null,
            "_view_module": "@jupyter-widgets/base",
            "overflow": null,
            "_model_module_version": "1.2.0",
            "_view_count": null,
            "flex_flow": null,
            "width": null,
            "min_width": null,
            "border": null,
            "align_items": null,
            "bottom": null,
            "_model_module": "@jupyter-widgets/base",
            "top": null,
            "grid_column": null,
            "overflow_y": null,
            "overflow_x": null,
            "grid_auto_flow": null,
            "grid_area": null,
            "grid_template_columns": null,
            "flex": null,
            "_model_name": "LayoutModel",
            "justify_items": null,
            "grid_row": null,
            "max_height": null,
            "align_content": null,
            "visibility": null,
            "align_self": null,
            "height": null,
            "min_height": null,
            "padding": null,
            "grid_auto_rows": null,
            "grid_gap": null,
            "max_width": null,
            "order": null,
            "_view_module_version": "1.2.0",
            "grid_template_areas": null,
            "object_position": null,
            "object_fit": null,
            "grid_auto_columns": null,
            "margin": null,
            "display": null,
            "left": null
          }
        },
        "438699af2ed94a3eb67e4f408bd1e7a8": {
          "model_module": "@jupyter-widgets/controls",
          "model_name": "HBoxModel",
          "state": {
            "_view_name": "HBoxView",
            "_dom_classes": [],
            "_model_name": "HBoxModel",
            "_view_module": "@jupyter-widgets/controls",
            "_model_module_version": "1.5.0",
            "_view_count": null,
            "_view_module_version": "1.5.0",
            "box_style": "",
            "layout": "IPY_MODEL_d948c937f41a41a6b66587aaee7f2202",
            "_model_module": "@jupyter-widgets/controls",
            "children": [
              "IPY_MODEL_5777b6af6ec84082babcd7616c4e5c02",
              "IPY_MODEL_4c97103d541d4016be6c513edf6f4b4d"
            ]
          }
        },
        "d948c937f41a41a6b66587aaee7f2202": {
          "model_module": "@jupyter-widgets/base",
          "model_name": "LayoutModel",
          "state": {
            "_view_name": "LayoutView",
            "grid_template_rows": null,
            "right": null,
            "justify_content": null,
            "_view_module": "@jupyter-widgets/base",
            "overflow": null,
            "_model_module_version": "1.2.0",
            "_view_count": null,
            "flex_flow": null,
            "width": null,
            "min_width": null,
            "border": null,
            "align_items": null,
            "bottom": null,
            "_model_module": "@jupyter-widgets/base",
            "top": null,
            "grid_column": null,
            "overflow_y": null,
            "overflow_x": null,
            "grid_auto_flow": null,
            "grid_area": null,
            "grid_template_columns": null,
            "flex": null,
            "_model_name": "LayoutModel",
            "justify_items": null,
            "grid_row": null,
            "max_height": null,
            "align_content": null,
            "visibility": null,
            "align_self": null,
            "height": null,
            "min_height": null,
            "padding": null,
            "grid_auto_rows": null,
            "grid_gap": null,
            "max_width": null,
            "order": null,
            "_view_module_version": "1.2.0",
            "grid_template_areas": null,
            "object_position": null,
            "object_fit": null,
            "grid_auto_columns": null,
            "margin": null,
            "display": null,
            "left": null
          }
        },
        "5777b6af6ec84082babcd7616c4e5c02": {
          "model_module": "@jupyter-widgets/controls",
          "model_name": "FloatProgressModel",
          "state": {
            "_view_name": "ProgressView",
            "style": "IPY_MODEL_f5864dec9b1641d6a69059cdd0f7254e",
            "_dom_classes": [],
            "description": "100%",
            "_model_name": "FloatProgressModel",
            "bar_style": "success",
            "max": 250,
            "_view_module": "@jupyter-widgets/controls",
            "_model_module_version": "1.5.0",
            "value": 250,
            "_view_count": null,
            "_view_module_version": "1.5.0",
            "orientation": "horizontal",
            "min": 0,
            "description_tooltip": null,
            "_model_module": "@jupyter-widgets/controls",
            "layout": "IPY_MODEL_1b4aa502d7234a6c8d740ed7b1cb4325"
          }
        },
        "4c97103d541d4016be6c513edf6f4b4d": {
          "model_module": "@jupyter-widgets/controls",
          "model_name": "HTMLModel",
          "state": {
            "_view_name": "HTMLView",
            "style": "IPY_MODEL_9d2f753a736946b4939711ac254ca213",
            "_dom_classes": [],
            "description": "",
            "_model_name": "HTMLModel",
            "placeholder": "​",
            "_view_module": "@jupyter-widgets/controls",
            "_model_module_version": "1.5.0",
            "value": " 250/250 [00:01&lt;00:00, 216.34it/s]",
            "_view_count": null,
            "_view_module_version": "1.5.0",
            "description_tooltip": null,
            "_model_module": "@jupyter-widgets/controls",
            "layout": "IPY_MODEL_ec97824c3bd6422cbed5093a5db9acf6"
          }
        },
        "f5864dec9b1641d6a69059cdd0f7254e": {
          "model_module": "@jupyter-widgets/controls",
          "model_name": "ProgressStyleModel",
          "state": {
            "_view_name": "StyleView",
            "_model_name": "ProgressStyleModel",
            "description_width": "initial",
            "_view_module": "@jupyter-widgets/base",
            "_model_module_version": "1.5.0",
            "_view_count": null,
            "_view_module_version": "1.2.0",
            "bar_color": null,
            "_model_module": "@jupyter-widgets/controls"
          }
        },
        "1b4aa502d7234a6c8d740ed7b1cb4325": {
          "model_module": "@jupyter-widgets/base",
          "model_name": "LayoutModel",
          "state": {
            "_view_name": "LayoutView",
            "grid_template_rows": null,
            "right": null,
            "justify_content": null,
            "_view_module": "@jupyter-widgets/base",
            "overflow": null,
            "_model_module_version": "1.2.0",
            "_view_count": null,
            "flex_flow": null,
            "width": null,
            "min_width": null,
            "border": null,
            "align_items": null,
            "bottom": null,
            "_model_module": "@jupyter-widgets/base",
            "top": null,
            "grid_column": null,
            "overflow_y": null,
            "overflow_x": null,
            "grid_auto_flow": null,
            "grid_area": null,
            "grid_template_columns": null,
            "flex": null,
            "_model_name": "LayoutModel",
            "justify_items": null,
            "grid_row": null,
            "max_height": null,
            "align_content": null,
            "visibility": null,
            "align_self": null,
            "height": null,
            "min_height": null,
            "padding": null,
            "grid_auto_rows": null,
            "grid_gap": null,
            "max_width": null,
            "order": null,
            "_view_module_version": "1.2.0",
            "grid_template_areas": null,
            "object_position": null,
            "object_fit": null,
            "grid_auto_columns": null,
            "margin": null,
            "display": null,
            "left": null
          }
        },
        "9d2f753a736946b4939711ac254ca213": {
          "model_module": "@jupyter-widgets/controls",
          "model_name": "DescriptionStyleModel",
          "state": {
            "_view_name": "StyleView",
            "_model_name": "DescriptionStyleModel",
            "description_width": "",
            "_view_module": "@jupyter-widgets/base",
            "_model_module_version": "1.5.0",
            "_view_count": null,
            "_view_module_version": "1.2.0",
            "_model_module": "@jupyter-widgets/controls"
          }
        },
        "ec97824c3bd6422cbed5093a5db9acf6": {
          "model_module": "@jupyter-widgets/base",
          "model_name": "LayoutModel",
          "state": {
            "_view_name": "LayoutView",
            "grid_template_rows": null,
            "right": null,
            "justify_content": null,
            "_view_module": "@jupyter-widgets/base",
            "overflow": null,
            "_model_module_version": "1.2.0",
            "_view_count": null,
            "flex_flow": null,
            "width": null,
            "min_width": null,
            "border": null,
            "align_items": null,
            "bottom": null,
            "_model_module": "@jupyter-widgets/base",
            "top": null,
            "grid_column": null,
            "overflow_y": null,
            "overflow_x": null,
            "grid_auto_flow": null,
            "grid_area": null,
            "grid_template_columns": null,
            "flex": null,
            "_model_name": "LayoutModel",
            "justify_items": null,
            "grid_row": null,
            "max_height": null,
            "align_content": null,
            "visibility": null,
            "align_self": null,
            "height": null,
            "min_height": null,
            "padding": null,
            "grid_auto_rows": null,
            "grid_gap": null,
            "max_width": null,
            "order": null,
            "_view_module_version": "1.2.0",
            "grid_template_areas": null,
            "object_position": null,
            "object_fit": null,
            "grid_auto_columns": null,
            "margin": null,
            "display": null,
            "left": null
          }
        }
      }
    }
  },
  "cells": [
    {
      "cell_type": "markdown",
      "metadata": {
        "id": "JuiT6O71HUAy",
        "colab_type": "text"
      },
      "source": [
        "# Initial Setup"
      ]
    },
    {
      "cell_type": "code",
      "metadata": {
        "id": "FgWG4d-K3xRt",
        "colab_type": "code",
        "colab": {}
      },
      "source": [
        "import tensorflow as tf\n",
        "print(tf.__version__)"
      ],
      "execution_count": 0,
      "outputs": []
    },
    {
      "cell_type": "code",
      "metadata": {
        "id": "gtxvkdsm338L",
        "colab_type": "code",
        "colab": {}
      },
      "source": [
        "!pip install wandb\n",
        "import wandb\n",
        "wandb.login()"
      ],
      "execution_count": 0,
      "outputs": []
    },
    {
      "cell_type": "code",
      "metadata": {
        "id": "E8cv8vit3ydm",
        "colab_type": "code",
        "colab": {}
      },
      "source": [
        "from tensorflow.keras.layers import *\n",
        "from tensorflow.keras.models import *\n",
        "from wandb.keras import WandbCallback\n",
        "import tensorflow_datasets as tfds\n",
        "import matplotlib.pyplot as plt\n",
        "import numpy as np\n",
        "import time\n",
        "import cv2\n",
        "from tqdm.notebook import tqdm\n",
        "from imutils import paths\n",
        "tf.random.set_seed(666)\n",
        "np.random.seed(666)\n",
        "\n",
        "tfds.disable_progress_bar()"
      ],
      "execution_count": 0,
      "outputs": []
    },
    {
      "cell_type": "markdown",
      "metadata": {
        "id": "ebM6CaFsHcya",
        "colab_type": "text"
      },
      "source": [
        "# Imagenet Subset "
      ]
    },
    {
      "cell_type": "code",
      "metadata": {
        "id": "4vPz9Alk31qZ",
        "colab_type": "code",
        "outputId": "5961df4c-b0fd-4c31-99a6-3ecbffba9eec",
        "colab": {
          "base_uri": "https://localhost:8080/",
          "height": 34
        }
      },
      "source": [
        "!git clone https://github.com/thunderInfy/imagenet-5-categories\n"
      ],
      "execution_count": 0,
      "outputs": [
        {
          "output_type": "stream",
          "text": [
            "fatal: destination path 'imagenet-5-categories' already exists and is not an empty directory.\n"
          ],
          "name": "stdout"
        }
      ]
    },
    {
      "cell_type": "code",
      "metadata": {
        "id": "5vVPALgj4Ogg",
        "colab_type": "code",
        "colab": {}
      },
      "source": [
        "# Train and test image paths\n",
        "train_images = list(paths.list_images(\"imagenet-5-categories/train\"))\n",
        "test_images = list(paths.list_images(\"imagenet-5-categories/test\"))\n"
      ],
      "execution_count": 0,
      "outputs": []
    },
    {
      "cell_type": "code",
      "metadata": {
        "id": "YM_w3yZi4RQf",
        "colab_type": "code",
        "colab": {}
      },
      "source": [
        "def prepare_images(image_paths):\n",
        "    images = []\n",
        "    labels = []\n",
        "\n",
        "    for image in tqdm(image_paths):\n",
        "        image_pixels = plt.imread(image)\n",
        "        image_pixels = cv2.resize(image_pixels, (128,128))\n",
        "        image_pixels = image_pixels/255.\n",
        "\n",
        "        label = image.split(\"/\")[2].split(\"_\")[0]\n",
        "\n",
        "        images.append(image_pixels)\n",
        "        labels.append(label)\n",
        "\n",
        "    images = np.array(images)\n",
        "    labels = np.array(labels)\n",
        "\n",
        "    print(images.shape, labels.shape)\n",
        "\n",
        "    return images, labels"
      ],
      "execution_count": 0,
      "outputs": []
    },
    {
      "cell_type": "code",
      "metadata": {
        "id": "KeNWTqpG4b0e",
        "colab_type": "code",
        "outputId": "2b8f6cf4-97c6-4265-dbf2-9b6262043410",
        "colab": {
          "base_uri": "https://localhost:8080/",
          "height": 148,
          "referenced_widgets": [
            "0b4c5d36a97843e6bfc07d37a8e3cb6a",
            "e8ef5e7fafb142aaa238fd8ae119b315",
            "fb1635d6c5da4d4893558f5d32c234f2",
            "0dae8ce37add4e81825f319cb66620df",
            "e80797a1b4e24f19a9ce53ce7e9e9299",
            "4d2932cd6daf495d972886f07bfcc227",
            "717104f84c7044818e3f5e4346de1ec0",
            "b0df6eda571748eaa741673ef3cf090f",
            "438699af2ed94a3eb67e4f408bd1e7a8",
            "d948c937f41a41a6b66587aaee7f2202",
            "5777b6af6ec84082babcd7616c4e5c02",
            "4c97103d541d4016be6c513edf6f4b4d",
            "f5864dec9b1641d6a69059cdd0f7254e",
            "1b4aa502d7234a6c8d740ed7b1cb4325",
            "9d2f753a736946b4939711ac254ca213",
            "ec97824c3bd6422cbed5093a5db9acf6"
          ]
        }
      },
      "source": [
        "X_train, y_train = prepare_images(train_images)\n",
        "X_test, y_test = prepare_images(test_images)"
      ],
      "execution_count": 0,
      "outputs": [
        {
          "output_type": "display_data",
          "data": {
            "application/vnd.jupyter.widget-view+json": {
              "model_id": "0b4c5d36a97843e6bfc07d37a8e3cb6a",
              "version_minor": 0,
              "version_major": 2
            },
            "text/plain": [
              "HBox(children=(FloatProgress(value=0.0, max=1250.0), HTML(value='')))"
            ]
          },
          "metadata": {
            "tags": []
          }
        },
        {
          "output_type": "stream",
          "text": [
            "\n",
            "(1250, 128, 128, 3) (1250,)\n"
          ],
          "name": "stdout"
        },
        {
          "output_type": "display_data",
          "data": {
            "application/vnd.jupyter.widget-view+json": {
              "model_id": "438699af2ed94a3eb67e4f408bd1e7a8",
              "version_minor": 0,
              "version_major": 2
            },
            "text/plain": [
              "HBox(children=(FloatProgress(value=0.0, max=250.0), HTML(value='')))"
            ]
          },
          "metadata": {
            "tags": []
          }
        },
        {
          "output_type": "stream",
          "text": [
            "\n",
            "(250, 128, 128, 3) (250,)\n"
          ],
          "name": "stdout"
        }
      ]
    },
    {
      "cell_type": "code",
      "metadata": {
        "id": "qGdwXZJk4eDH",
        "colab_type": "code",
        "colab": {}
      },
      "source": [
        "from sklearn import preprocessing\n",
        "le = preprocessing.LabelEncoder()\n",
        "y_train_enc = le.fit_transform(y_train)\n",
        "y_test_enc = le.transform(y_test)\n"
      ],
      "execution_count": 0,
      "outputs": []
    },
    {
      "cell_type": "code",
      "metadata": {
        "id": "nmX3x8wE4zBo",
        "colab_type": "code",
        "colab": {}
      },
      "source": [
        "train_ds=tf.data.Dataset.from_tensor_slices((X_train,y_train_enc))\n",
        "validation_ds=tf.data.Dataset.from_tensor_slices((X_test,y_test_enc))"
      ],
      "execution_count": 0,
      "outputs": []
    },
    {
      "cell_type": "code",
      "metadata": {
        "id": "9yBgpLe443a-",
        "colab_type": "code",
        "colab": {}
      },
      "source": [
        "@tf.function\n",
        "def aug(image, label):\n",
        "  x=tf.image.random_brightness(image,max_delta=0)\n",
        "  x=tf.image.random_contrast(x,lower=0.2, upper=1.8)\n",
        "  x = tf.image.random_saturation(x, lower=0.2, upper=1.5)\n",
        "  x = tf.image.random_hue(x, max_delta=0.4)\n",
        "  x = tf.clip_by_value(x, 0, 1)\n",
        "\n",
        "  return x, label"
      ],
      "execution_count": 0,
      "outputs": []
    },
    {
      "cell_type": "code",
      "metadata": {
        "id": "icCj5VGk45ce",
        "colab_type": "code",
        "colab": {}
      },
      "source": [
        "IMG_SHAPE = 128\n",
        "BS = 64\n",
        "AUTO = tf.data.experimental.AUTOTUNE\n",
        "train_ds = (\n",
        "    train_ds\n",
        "    .shuffle(100)\n",
        "    .batch(BS)\n",
        "    .map(aug, num_parallel_calls=AUTO)\n",
        "    .prefetch(AUTO)\n",
        ")\n",
        "validation_ds = (\n",
        "    validation_ds\n",
        "    .shuffle(100)\n",
        "    .batch(BS)\n",
        "    .prefetch(AUTO)\n",
        ")"
      ],
      "execution_count": 0,
      "outputs": []
    },
    {
      "cell_type": "markdown",
      "metadata": {
        "id": "tkxjWEeIHrCf",
        "colab_type": "text"
      },
      "source": [
        "# Model building and training wih RMSprop\n"
      ]
    },
    {
      "cell_type": "code",
      "metadata": {
        "id": "umbRNW-A4755",
        "colab_type": "code",
        "colab": {}
      },
      "source": [
        "resnet50 = tf.keras.applications.ResNet50(weights=None, include_top=False)\n",
        "model = tf.keras.Sequential([resnet50,GlobalAveragePooling2D(),Dropout(0.25),Dense(5,activation='softmax')])"
      ],
      "execution_count": 0,
      "outputs": []
    },
    {
      "cell_type": "code",
      "metadata": {
        "id": "WVilaFIu5Hft",
        "colab_type": "code",
        "colab": {}
      },
      "source": [
        "decay_steps = 1000\n",
        "lr_decayed_fn = tf.keras.experimental.CosineDecay(\n",
        "    initial_learning_rate=0.001, decay_steps=decay_steps)\n",
        "\n",
        "model.compile(optimizer=tf.keras.optimizers.RMSprop(lr_decayed_fn),\n",
        "              loss=tf.keras.losses.SparseCategoricalCrossentropy(from_logits=True),\n",
        "              metrics=[tf.keras.metrics.SparseCategoricalAccuracy()])"
      ],
      "execution_count": 0,
      "outputs": []
    },
    {
      "cell_type": "code",
      "metadata": {
        "id": "X3PxnSYd5x2W",
        "colab_type": "code",
        "colab": {}
      },
      "source": [
        "es = tf.keras.callbacks.EarlyStopping(monitor=\"val_sparse_categorical_accuracy\", patience=2,\n",
        "\trestore_best_weights=True, verbose=2)"
      ],
      "execution_count": 0,
      "outputs": []
    },
    {
      "cell_type": "code",
      "metadata": {
        "id": "S5lMKwCQ54KX",
        "colab_type": "code",
        "outputId": "c6e1573d-c593-4447-c182-34674d7ab6ef",
        "colab": {
          "base_uri": "https://localhost:8080/",
          "height": 390
        }
      },
      "source": [
        "import time\n",
        "import wandb\n",
        "\n",
        "wandb.init(entity='authors',project='scl')\n",
        "start = time.time()\n",
        "model.fit(train_ds,\n",
        "          validation_data=validation_ds,\n",
        "          epochs=50,\n",
        "          callbacks=[wandb.keras.WandbCallback(), es])\n",
        "end = time.time()\n",
        "wandb.log({\"training_time\": end - start})"
      ],
      "execution_count": 0,
      "outputs": [
        {
          "output_type": "display_data",
          "data": {
            "text/html": [
              "\n",
              "                Logging results to <a href=\"https://wandb.com\" target=\"_blank\">Weights & Biases</a> <a href=\"https://docs.wandb.com/integrations/jupyter.html\" target=\"_blank\">(Documentation)</a>.<br/>\n",
              "                Project page: <a href=\"https://app.wandb.ai/authors/scl\" target=\"_blank\">https://app.wandb.ai/authors/scl</a><br/>\n",
              "                Run page: <a href=\"https://app.wandb.ai/authors/scl/runs/2h40mbhd\" target=\"_blank\">https://app.wandb.ai/authors/scl/runs/2h40mbhd</a><br/>\n",
              "            "
            ],
            "text/plain": [
              "<IPython.core.display.HTML object>"
            ]
          },
          "metadata": {
            "tags": []
          }
        },
        {
          "output_type": "stream",
          "text": [
            "Epoch 1/50\n",
            "20/20 [==============================] - 6s 312ms/step - loss: 1.6051 - sparse_categorical_accuracy: 0.2976 - val_loss: 1.7048 - val_sparse_categorical_accuracy: 0.2000\n",
            "Epoch 2/50\n",
            "20/20 [==============================] - 5s 263ms/step - loss: 1.5929 - sparse_categorical_accuracy: 0.3056 - val_loss: 1.7039 - val_sparse_categorical_accuracy: 0.2000\n",
            "Epoch 3/50\n",
            "20/20 [==============================] - 5s 271ms/step - loss: 1.6160 - sparse_categorical_accuracy: 0.2792 - val_loss: 1.6867 - val_sparse_categorical_accuracy: 0.2120\n",
            "Epoch 4/50\n",
            "20/20 [==============================] - 4s 223ms/step - loss: 1.5946 - sparse_categorical_accuracy: 0.2776 - val_loss: 1.6938 - val_sparse_categorical_accuracy: 0.2000\n",
            "Epoch 5/50\n",
            "20/20 [==============================] - 5s 273ms/step - loss: 1.5765 - sparse_categorical_accuracy: 0.2880 - val_loss: 1.5870 - val_sparse_categorical_accuracy: 0.3040\n",
            "Epoch 6/50\n",
            "20/20 [==============================] - 6s 276ms/step - loss: 1.5180 - sparse_categorical_accuracy: 0.3552 - val_loss: 1.5748 - val_sparse_categorical_accuracy: 0.3080\n",
            "Epoch 7/50\n",
            "20/20 [==============================] - 5s 227ms/step - loss: 1.5345 - sparse_categorical_accuracy: 0.3512 - val_loss: 1.6253 - val_sparse_categorical_accuracy: 0.2680\n",
            "Epoch 8/50\n",
            "20/20 [==============================] - ETA: 0s - loss: 1.5690 - sparse_categorical_accuracy: 0.3136Restoring model weights from the end of the best epoch.\n",
            "20/20 [==============================] - 5s 231ms/step - loss: 1.5690 - sparse_categorical_accuracy: 0.3136 - val_loss: 1.6235 - val_sparse_categorical_accuracy: 0.2800\n",
            "Epoch 00008: early stopping\n"
          ],
          "name": "stdout"
        }
      ]
    },
    {
      "cell_type": "code",
      "metadata": {
        "id": "edc3Fu_C6AJO",
        "colab_type": "code",
        "colab": {}
      },
      "source": [
        "model.save_weights(\"full_supervised_learning.h5\")"
      ],
      "execution_count": 0,
      "outputs": []
    },
    {
      "cell_type": "code",
      "metadata": {
        "id": "wOPN7pPwBN0V",
        "colab_type": "code",
        "outputId": "47e31ee4-110f-44b9-8de8-d377fc2fafbd",
        "colab": {
          "base_uri": "https://localhost:8080/",
          "height": 34
        }
      },
      "source": [
        "wandb.save(\"full_supervised_learning.h5\")"
      ],
      "execution_count": 0,
      "outputs": [
        {
          "output_type": "execute_result",
          "data": {
            "text/plain": [
              "['/content/wandb/run-20200528_111108-2h40mbhd/full_supervised_learning.h5']"
            ]
          },
          "metadata": {
            "tags": []
          },
          "execution_count": 94
        }
      ]
    },
    {
      "cell_type": "code",
      "metadata": {
        "id": "FNk0NhWFBSYe",
        "colab_type": "code",
        "colab": {}
      },
      "source": [
        ""
      ],
      "execution_count": 0,
      "outputs": []
    }
  ]
}