{
  "nbformat": 4,
  "nbformat_minor": 0,
  "metadata": {
    "colab": {
      "name": "Contrastive_Training_Imagenet_subset_SGD.ipynb",
      "provenance": []
    },
    "kernelspec": {
      "name": "python3",
      "display_name": "Python 3"
    },
    "accelerator": "GPU",
    "widgets": {
      "application/vnd.jupyter.widget-state+json": {
        "e8be6579b2e746868102be547df7c857": {
          "model_module": "@jupyter-widgets/controls",
          "model_name": "HBoxModel",
          "state": {
            "_view_name": "HBoxView",
            "_dom_classes": [],
            "_model_name": "HBoxModel",
            "_view_module": "@jupyter-widgets/controls",
            "_model_module_version": "1.5.0",
            "_view_count": null,
            "_view_module_version": "1.5.0",
            "box_style": "",
            "layout": "IPY_MODEL_33a455c52435490f9ebcac80d4f9e30a",
            "_model_module": "@jupyter-widgets/controls",
            "children": [
              "IPY_MODEL_0a2982475f394603853db7ec0a1c293c",
              "IPY_MODEL_8d10e7592dde4fbe947dfb351f42bf66"
            ]
          }
        },
        "33a455c52435490f9ebcac80d4f9e30a": {
          "model_module": "@jupyter-widgets/base",
          "model_name": "LayoutModel",
          "state": {
            "_view_name": "LayoutView",
            "grid_template_rows": null,
            "right": null,
            "justify_content": null,
            "_view_module": "@jupyter-widgets/base",
            "overflow": null,
            "_model_module_version": "1.2.0",
            "_view_count": null,
            "flex_flow": null,
            "width": null,
            "min_width": null,
            "border": null,
            "align_items": null,
            "bottom": null,
            "_model_module": "@jupyter-widgets/base",
            "top": null,
            "grid_column": null,
            "overflow_y": null,
            "overflow_x": null,
            "grid_auto_flow": null,
            "grid_area": null,
            "grid_template_columns": null,
            "flex": null,
            "_model_name": "LayoutModel",
            "justify_items": null,
            "grid_row": null,
            "max_height": null,
            "align_content": null,
            "visibility": null,
            "align_self": null,
            "height": null,
            "min_height": null,
            "padding": null,
            "grid_auto_rows": null,
            "grid_gap": null,
            "max_width": null,
            "order": null,
            "_view_module_version": "1.2.0",
            "grid_template_areas": null,
            "object_position": null,
            "object_fit": null,
            "grid_auto_columns": null,
            "margin": null,
            "display": null,
            "left": null
          }
        },
        "0a2982475f394603853db7ec0a1c293c": {
          "model_module": "@jupyter-widgets/controls",
          "model_name": "FloatProgressModel",
          "state": {
            "_view_name": "ProgressView",
            "style": "IPY_MODEL_68e7dbc2baeb4682a6063e5c6d109659",
            "_dom_classes": [],
            "description": "100%",
            "_model_name": "FloatProgressModel",
            "bar_style": "success",
            "max": 1250,
            "_view_module": "@jupyter-widgets/controls",
            "_model_module_version": "1.5.0",
            "value": 1250,
            "_view_count": null,
            "_view_module_version": "1.5.0",
            "orientation": "horizontal",
            "min": 0,
            "description_tooltip": null,
            "_model_module": "@jupyter-widgets/controls",
            "layout": "IPY_MODEL_629ae611b33142f589c839d3bbb883c5"
          }
        },
        "8d10e7592dde4fbe947dfb351f42bf66": {
          "model_module": "@jupyter-widgets/controls",
          "model_name": "HTMLModel",
          "state": {
            "_view_name": "HTMLView",
            "style": "IPY_MODEL_2bf9d1175c9b481fb259cedc4fd373bc",
            "_dom_classes": [],
            "description": "",
            "_model_name": "HTMLModel",
            "placeholder": "​",
            "_view_module": "@jupyter-widgets/controls",
            "_model_module_version": "1.5.0",
            "value": " 1250/1250 [01:04&lt;00:00, 19.53it/s]",
            "_view_count": null,
            "_view_module_version": "1.5.0",
            "description_tooltip": null,
            "_model_module": "@jupyter-widgets/controls",
            "layout": "IPY_MODEL_0df138f542ce462091d07cc622a29852"
          }
        },
        "68e7dbc2baeb4682a6063e5c6d109659": {
          "model_module": "@jupyter-widgets/controls",
          "model_name": "ProgressStyleModel",
          "state": {
            "_view_name": "StyleView",
            "_model_name": "ProgressStyleModel",
            "description_width": "initial",
            "_view_module": "@jupyter-widgets/base",
            "_model_module_version": "1.5.0",
            "_view_count": null,
            "_view_module_version": "1.2.0",
            "bar_color": null,
            "_model_module": "@jupyter-widgets/controls"
          }
        },
        "629ae611b33142f589c839d3bbb883c5": {
          "model_module": "@jupyter-widgets/base",
          "model_name": "LayoutModel",
          "state": {
            "_view_name": "LayoutView",
            "grid_template_rows": null,
            "right": null,
            "justify_content": null,
            "_view_module": "@jupyter-widgets/base",
            "overflow": null,
            "_model_module_version": "1.2.0",
            "_view_count": null,
            "flex_flow": null,
            "width": null,
            "min_width": null,
            "border": null,
            "align_items": null,
            "bottom": null,
            "_model_module": "@jupyter-widgets/base",
            "top": null,
            "grid_column": null,
            "overflow_y": null,
            "overflow_x": null,
            "grid_auto_flow": null,
            "grid_area": null,
            "grid_template_columns": null,
            "flex": null,
            "_model_name": "LayoutModel",
            "justify_items": null,
            "grid_row": null,
            "max_height": null,
            "align_content": null,
            "visibility": null,
            "align_self": null,
            "height": null,
            "min_height": null,
            "padding": null,
            "grid_auto_rows": null,
            "grid_gap": null,
            "max_width": null,
            "order": null,
            "_view_module_version": "1.2.0",
            "grid_template_areas": null,
            "object_position": null,
            "object_fit": null,
            "grid_auto_columns": null,
            "margin": null,
            "display": null,
            "left": null
          }
        },
        "2bf9d1175c9b481fb259cedc4fd373bc": {
          "model_module": "@jupyter-widgets/controls",
          "model_name": "DescriptionStyleModel",
          "state": {
            "_view_name": "StyleView",
            "_model_name": "DescriptionStyleModel",
            "description_width": "",
            "_view_module": "@jupyter-widgets/base",
            "_model_module_version": "1.5.0",
            "_view_count": null,
            "_view_module_version": "1.2.0",
            "_model_module": "@jupyter-widgets/controls"
          }
        },
        "0df138f542ce462091d07cc622a29852": {
          "model_module": "@jupyter-widgets/base",
          "model_name": "LayoutModel",
          "state": {
            "_view_name": "LayoutView",
            "grid_template_rows": null,
            "right": null,
            "justify_content": null,
            "_view_module": "@jupyter-widgets/base",
            "overflow": null,
            "_model_module_version": "1.2.0",
            "_view_count": null,
            "flex_flow": null,
            "width": null,
            "min_width": null,
            "border": null,
            "align_items": null,
            "bottom": null,
            "_model_module": "@jupyter-widgets/base",
            "top": null,
            "grid_column": null,
            "overflow_y": null,
            "overflow_x": null,
            "grid_auto_flow": null,
            "grid_area": null,
            "grid_template_columns": null,
            "flex": null,
            "_model_name": "LayoutModel",
            "justify_items": null,
            "grid_row": null,
            "max_height": null,
            "align_content": null,
            "visibility": null,
            "align_self": null,
            "height": null,
            "min_height": null,
            "padding": null,
            "grid_auto_rows": null,
            "grid_gap": null,
            "max_width": null,
            "order": null,
            "_view_module_version": "1.2.0",
            "grid_template_areas": null,
            "object_position": null,
            "object_fit": null,
            "grid_auto_columns": null,
            "margin": null,
            "display": null,
            "left": null
          }
        },
        "4e39cff9f28143eb87331d4affa5fb86": {
          "model_module": "@jupyter-widgets/controls",
          "model_name": "HBoxModel",
          "state": {
            "_view_name": "HBoxView",
            "_dom_classes": [],
            "_model_name": "HBoxModel",
            "_view_module": "@jupyter-widgets/controls",
            "_model_module_version": "1.5.0",
            "_view_count": null,
            "_view_module_version": "1.5.0",
            "box_style": "",
            "layout": "IPY_MODEL_084be9cd4a6441038c0ac12bac0fc4b4",
            "_model_module": "@jupyter-widgets/controls",
            "children": [
              "IPY_MODEL_ba875038dd3540e29429b8b458d65841",
              "IPY_MODEL_53fcb748f4cf4ad192f7d0a5125c391b"
            ]
          }
        },
        "084be9cd4a6441038c0ac12bac0fc4b4": {
          "model_module": "@jupyter-widgets/base",
          "model_name": "LayoutModel",
          "state": {
            "_view_name": "LayoutView",
            "grid_template_rows": null,
            "right": null,
            "justify_content": null,
            "_view_module": "@jupyter-widgets/base",
            "overflow": null,
            "_model_module_version": "1.2.0",
            "_view_count": null,
            "flex_flow": null,
            "width": null,
            "min_width": null,
            "border": null,
            "align_items": null,
            "bottom": null,
            "_model_module": "@jupyter-widgets/base",
            "top": null,
            "grid_column": null,
            "overflow_y": null,
            "overflow_x": null,
            "grid_auto_flow": null,
            "grid_area": null,
            "grid_template_columns": null,
            "flex": null,
            "_model_name": "LayoutModel",
            "justify_items": null,
            "grid_row": null,
            "max_height": null,
            "align_content": null,
            "visibility": null,
            "align_self": null,
            "height": null,
            "min_height": null,
            "padding": null,
            "grid_auto_rows": null,
            "grid_gap": null,
            "max_width": null,
            "order": null,
            "_view_module_version": "1.2.0",
            "grid_template_areas": null,
            "object_position": null,
            "object_fit": null,
            "grid_auto_columns": null,
            "margin": null,
            "display": null,
            "left": null
          }
        },
        "ba875038dd3540e29429b8b458d65841": {
          "model_module": "@jupyter-widgets/controls",
          "model_name": "FloatProgressModel",
          "state": {
            "_view_name": "ProgressView",
            "style": "IPY_MODEL_65e8acf8affe4d8ca18e79fdc785a451",
            "_dom_classes": [],
            "description": "100%",
            "_model_name": "FloatProgressModel",
            "bar_style": "success",
            "max": 250,
            "_view_module": "@jupyter-widgets/controls",
            "_model_module_version": "1.5.0",
            "value": 250,
            "_view_count": null,
            "_view_module_version": "1.5.0",
            "orientation": "horizontal",
            "min": 0,
            "description_tooltip": null,
            "_model_module": "@jupyter-widgets/controls",
            "layout": "IPY_MODEL_18f52c0f1d204ee9b16ea019eec9bbc9"
          }
        },
        "53fcb748f4cf4ad192f7d0a5125c391b": {
          "model_module": "@jupyter-widgets/controls",
          "model_name": "HTMLModel",
          "state": {
            "_view_name": "HTMLView",
            "style": "IPY_MODEL_5f74738f35224d0ab20389049c8e280c",
            "_dom_classes": [],
            "description": "",
            "_model_name": "HTMLModel",
            "placeholder": "​",
            "_view_module": "@jupyter-widgets/controls",
            "_model_module_version": "1.5.0",
            "value": " 250/250 [00:01&lt;00:00, 216.78it/s]",
            "_view_count": null,
            "_view_module_version": "1.5.0",
            "description_tooltip": null,
            "_model_module": "@jupyter-widgets/controls",
            "layout": "IPY_MODEL_01be4d5211f34bf49045d731628feca2"
          }
        },
        "65e8acf8affe4d8ca18e79fdc785a451": {
          "model_module": "@jupyter-widgets/controls",
          "model_name": "ProgressStyleModel",
          "state": {
            "_view_name": "StyleView",
            "_model_name": "ProgressStyleModel",
            "description_width": "initial",
            "_view_module": "@jupyter-widgets/base",
            "_model_module_version": "1.5.0",
            "_view_count": null,
            "_view_module_version": "1.2.0",
            "bar_color": null,
            "_model_module": "@jupyter-widgets/controls"
          }
        },
        "18f52c0f1d204ee9b16ea019eec9bbc9": {
          "model_module": "@jupyter-widgets/base",
          "model_name": "LayoutModel",
          "state": {
            "_view_name": "LayoutView",
            "grid_template_rows": null,
            "right": null,
            "justify_content": null,
            "_view_module": "@jupyter-widgets/base",
            "overflow": null,
            "_model_module_version": "1.2.0",
            "_view_count": null,
            "flex_flow": null,
            "width": null,
            "min_width": null,
            "border": null,
            "align_items": null,
            "bottom": null,
            "_model_module": "@jupyter-widgets/base",
            "top": null,
            "grid_column": null,
            "overflow_y": null,
            "overflow_x": null,
            "grid_auto_flow": null,
            "grid_area": null,
            "grid_template_columns": null,
            "flex": null,
            "_model_name": "LayoutModel",
            "justify_items": null,
            "grid_row": null,
            "max_height": null,
            "align_content": null,
            "visibility": null,
            "align_self": null,
            "height": null,
            "min_height": null,
            "padding": null,
            "grid_auto_rows": null,
            "grid_gap": null,
            "max_width": null,
            "order": null,
            "_view_module_version": "1.2.0",
            "grid_template_areas": null,
            "object_position": null,
            "object_fit": null,
            "grid_auto_columns": null,
            "margin": null,
            "display": null,
            "left": null
          }
        },
        "5f74738f35224d0ab20389049c8e280c": {
          "model_module": "@jupyter-widgets/controls",
          "model_name": "DescriptionStyleModel",
          "state": {
            "_view_name": "StyleView",
            "_model_name": "DescriptionStyleModel",
            "description_width": "",
            "_view_module": "@jupyter-widgets/base",
            "_model_module_version": "1.5.0",
            "_view_count": null,
            "_view_module_version": "1.2.0",
            "_model_module": "@jupyter-widgets/controls"
          }
        },
        "01be4d5211f34bf49045d731628feca2": {
          "model_module": "@jupyter-widgets/base",
          "model_name": "LayoutModel",
          "state": {
            "_view_name": "LayoutView",
            "grid_template_rows": null,
            "right": null,
            "justify_content": null,
            "_view_module": "@jupyter-widgets/base",
            "overflow": null,
            "_model_module_version": "1.2.0",
            "_view_count": null,
            "flex_flow": null,
            "width": null,
            "min_width": null,
            "border": null,
            "align_items": null,
            "bottom": null,
            "_model_module": "@jupyter-widgets/base",
            "top": null,
            "grid_column": null,
            "overflow_y": null,
            "overflow_x": null,
            "grid_auto_flow": null,
            "grid_area": null,
            "grid_template_columns": null,
            "flex": null,
            "_model_name": "LayoutModel",
            "justify_items": null,
            "grid_row": null,
            "max_height": null,
            "align_content": null,
            "visibility": null,
            "align_self": null,
            "height": null,
            "min_height": null,
            "padding": null,
            "grid_auto_rows": null,
            "grid_gap": null,
            "max_width": null,
            "order": null,
            "_view_module_version": "1.2.0",
            "grid_template_areas": null,
            "object_position": null,
            "object_fit": null,
            "grid_auto_columns": null,
            "margin": null,
            "display": null,
            "left": null
          }
        },
        "ac932410d2804b14b6a015f159868579": {
          "model_module": "@jupyter-widgets/controls",
          "model_name": "HBoxModel",
          "state": {
            "_view_name": "HBoxView",
            "_dom_classes": [],
            "_model_name": "HBoxModel",
            "_view_module": "@jupyter-widgets/controls",
            "_model_module_version": "1.5.0",
            "_view_count": null,
            "_view_module_version": "1.5.0",
            "box_style": "",
            "layout": "IPY_MODEL_7896ea85f7b449f5b664ea4eaf80d0e0",
            "_model_module": "@jupyter-widgets/controls",
            "children": [
              "IPY_MODEL_3eea34e64d484c1ead0918d7385e3ba7",
              "IPY_MODEL_2b8b3fe7ad7246458f6eb19c86e89318"
            ]
          }
        },
        "7896ea85f7b449f5b664ea4eaf80d0e0": {
          "model_module": "@jupyter-widgets/base",
          "model_name": "LayoutModel",
          "state": {
            "_view_name": "LayoutView",
            "grid_template_rows": null,
            "right": null,
            "justify_content": null,
            "_view_module": "@jupyter-widgets/base",
            "overflow": null,
            "_model_module_version": "1.2.0",
            "_view_count": null,
            "flex_flow": null,
            "width": null,
            "min_width": null,
            "border": null,
            "align_items": null,
            "bottom": null,
            "_model_module": "@jupyter-widgets/base",
            "top": null,
            "grid_column": null,
            "overflow_y": null,
            "overflow_x": null,
            "grid_auto_flow": null,
            "grid_area": null,
            "grid_template_columns": null,
            "flex": null,
            "_model_name": "LayoutModel",
            "justify_items": null,
            "grid_row": null,
            "max_height": null,
            "align_content": null,
            "visibility": null,
            "align_self": null,
            "height": null,
            "min_height": null,
            "padding": null,
            "grid_auto_rows": null,
            "grid_gap": null,
            "max_width": null,
            "order": null,
            "_view_module_version": "1.2.0",
            "grid_template_areas": null,
            "object_position": null,
            "object_fit": null,
            "grid_auto_columns": null,
            "margin": null,
            "display": null,
            "left": null
          }
        },
        "3eea34e64d484c1ead0918d7385e3ba7": {
          "model_module": "@jupyter-widgets/controls",
          "model_name": "FloatProgressModel",
          "state": {
            "_view_name": "ProgressView",
            "style": "IPY_MODEL_a0b21d1bde134723a85c6ea8fdf9802e",
            "_dom_classes": [],
            "description": "100%",
            "_model_name": "FloatProgressModel",
            "bar_style": "success",
            "max": 60,
            "_view_module": "@jupyter-widgets/controls",
            "_model_module_version": "1.5.0",
            "value": 60,
            "_view_count": null,
            "_view_module_version": "1.5.0",
            "orientation": "horizontal",
            "min": 0,
            "description_tooltip": null,
            "_model_module": "@jupyter-widgets/controls",
            "layout": "IPY_MODEL_83606e648124442e9b36abba8a7f9567"
          }
        },
        "2b8b3fe7ad7246458f6eb19c86e89318": {
          "model_module": "@jupyter-widgets/controls",
          "model_name": "HTMLModel",
          "state": {
            "_view_name": "HTMLView",
            "style": "IPY_MODEL_fd5f63fdc4bf4559a3c3bae3829d1d07",
            "_dom_classes": [],
            "description": "",
            "_model_name": "HTMLModel",
            "placeholder": "​",
            "_view_module": "@jupyter-widgets/controls",
            "_model_module_version": "1.5.0",
            "value": " 60/60 [09:36&lt;00:00,  9.60s/it]",
            "_view_count": null,
            "_view_module_version": "1.5.0",
            "description_tooltip": null,
            "_model_module": "@jupyter-widgets/controls",
            "layout": "IPY_MODEL_be42495d906b4789ba8a593de75ffb45"
          }
        },
        "a0b21d1bde134723a85c6ea8fdf9802e": {
          "model_module": "@jupyter-widgets/controls",
          "model_name": "ProgressStyleModel",
          "state": {
            "_view_name": "StyleView",
            "_model_name": "ProgressStyleModel",
            "description_width": "initial",
            "_view_module": "@jupyter-widgets/base",
            "_model_module_version": "1.5.0",
            "_view_count": null,
            "_view_module_version": "1.2.0",
            "bar_color": null,
            "_model_module": "@jupyter-widgets/controls"
          }
        },
        "83606e648124442e9b36abba8a7f9567": {
          "model_module": "@jupyter-widgets/base",
          "model_name": "LayoutModel",
          "state": {
            "_view_name": "LayoutView",
            "grid_template_rows": null,
            "right": null,
            "justify_content": null,
            "_view_module": "@jupyter-widgets/base",
            "overflow": null,
            "_model_module_version": "1.2.0",
            "_view_count": null,
            "flex_flow": null,
            "width": null,
            "min_width": null,
            "border": null,
            "align_items": null,
            "bottom": null,
            "_model_module": "@jupyter-widgets/base",
            "top": null,
            "grid_column": null,
            "overflow_y": null,
            "overflow_x": null,
            "grid_auto_flow": null,
            "grid_area": null,
            "grid_template_columns": null,
            "flex": null,
            "_model_name": "LayoutModel",
            "justify_items": null,
            "grid_row": null,
            "max_height": null,
            "align_content": null,
            "visibility": null,
            "align_self": null,
            "height": null,
            "min_height": null,
            "padding": null,
            "grid_auto_rows": null,
            "grid_gap": null,
            "max_width": null,
            "order": null,
            "_view_module_version": "1.2.0",
            "grid_template_areas": null,
            "object_position": null,
            "object_fit": null,
            "grid_auto_columns": null,
            "margin": null,
            "display": null,
            "left": null
          }
        },
        "fd5f63fdc4bf4559a3c3bae3829d1d07": {
          "model_module": "@jupyter-widgets/controls",
          "model_name": "DescriptionStyleModel",
          "state": {
            "_view_name": "StyleView",
            "_model_name": "DescriptionStyleModel",
            "description_width": "",
            "_view_module": "@jupyter-widgets/base",
            "_model_module_version": "1.5.0",
            "_view_count": null,
            "_view_module_version": "1.2.0",
            "_model_module": "@jupyter-widgets/controls"
          }
        },
        "be42495d906b4789ba8a593de75ffb45": {
          "model_module": "@jupyter-widgets/base",
          "model_name": "LayoutModel",
          "state": {
            "_view_name": "LayoutView",
            "grid_template_rows": null,
            "right": null,
            "justify_content": null,
            "_view_module": "@jupyter-widgets/base",
            "overflow": null,
            "_model_module_version": "1.2.0",
            "_view_count": null,
            "flex_flow": null,
            "width": null,
            "min_width": null,
            "border": null,
            "align_items": null,
            "bottom": null,
            "_model_module": "@jupyter-widgets/base",
            "top": null,
            "grid_column": null,
            "overflow_y": null,
            "overflow_x": null,
            "grid_auto_flow": null,
            "grid_area": null,
            "grid_template_columns": null,
            "flex": null,
            "_model_name": "LayoutModel",
            "justify_items": null,
            "grid_row": null,
            "max_height": null,
            "align_content": null,
            "visibility": null,
            "align_self": null,
            "height": null,
            "min_height": null,
            "padding": null,
            "grid_auto_rows": null,
            "grid_gap": null,
            "max_width": null,
            "order": null,
            "_view_module_version": "1.2.0",
            "grid_template_areas": null,
            "object_position": null,
            "object_fit": null,
            "grid_auto_columns": null,
            "margin": null,
            "display": null,
            "left": null
          }
        },
        "14285d74c3b3456085c58ec324f20dcd": {
          "model_module": "@jupyter-widgets/controls",
          "model_name": "HBoxModel",
          "state": {
            "_view_name": "HBoxView",
            "_dom_classes": [],
            "_model_name": "HBoxModel",
            "_view_module": "@jupyter-widgets/controls",
            "_model_module_version": "1.5.0",
            "_view_count": null,
            "_view_module_version": "1.5.0",
            "box_style": "",
            "layout": "IPY_MODEL_02a3f65b58054931a74efd67fe1d1ac2",
            "_model_module": "@jupyter-widgets/controls",
            "children": [
              "IPY_MODEL_12754bd2792d47a9b9ac0d68c375ecab",
              "IPY_MODEL_5cd8c7dfcd1a499cb7a6e1aba9b19372"
            ]
          }
        },
        "02a3f65b58054931a74efd67fe1d1ac2": {
          "model_module": "@jupyter-widgets/base",
          "model_name": "LayoutModel",
          "state": {
            "_view_name": "LayoutView",
            "grid_template_rows": null,
            "right": null,
            "justify_content": null,
            "_view_module": "@jupyter-widgets/base",
            "overflow": null,
            "_model_module_version": "1.2.0",
            "_view_count": null,
            "flex_flow": null,
            "width": null,
            "min_width": null,
            "border": null,
            "align_items": null,
            "bottom": null,
            "_model_module": "@jupyter-widgets/base",
            "top": null,
            "grid_column": null,
            "overflow_y": null,
            "overflow_x": null,
            "grid_auto_flow": null,
            "grid_area": null,
            "grid_template_columns": null,
            "flex": null,
            "_model_name": "LayoutModel",
            "justify_items": null,
            "grid_row": null,
            "max_height": null,
            "align_content": null,
            "visibility": null,
            "align_self": null,
            "height": null,
            "min_height": null,
            "padding": null,
            "grid_auto_rows": null,
            "grid_gap": null,
            "max_width": null,
            "order": null,
            "_view_module_version": "1.2.0",
            "grid_template_areas": null,
            "object_position": null,
            "object_fit": null,
            "grid_auto_columns": null,
            "margin": null,
            "display": null,
            "left": null
          }
        },
        "12754bd2792d47a9b9ac0d68c375ecab": {
          "model_module": "@jupyter-widgets/controls",
          "model_name": "FloatProgressModel",
          "state": {
            "_view_name": "ProgressView",
            "style": "IPY_MODEL_6b81fc80e3474343ac21d80057b0d49d",
            "_dom_classes": [],
            "description": "100%",
            "_model_name": "FloatProgressModel",
            "bar_style": "success",
            "max": 100,
            "_view_module": "@jupyter-widgets/controls",
            "_model_module_version": "1.5.0",
            "value": 100,
            "_view_count": null,
            "_view_module_version": "1.5.0",
            "orientation": "horizontal",
            "min": 0,
            "description_tooltip": null,
            "_model_module": "@jupyter-widgets/controls",
            "layout": "IPY_MODEL_785d1838c43049859467fc2d6c7a4e19"
          }
        },
        "5cd8c7dfcd1a499cb7a6e1aba9b19372": {
          "model_module": "@jupyter-widgets/controls",
          "model_name": "HTMLModel",
          "state": {
            "_view_name": "HTMLView",
            "style": "IPY_MODEL_a08c87ceedf9495284849d869fe2c9c2",
            "_dom_classes": [],
            "description": "",
            "_model_name": "HTMLModel",
            "placeholder": "​",
            "_view_module": "@jupyter-widgets/controls",
            "_model_module_version": "1.5.0",
            "value": " 100/100 [18:44&lt;00:00, 11.24s/it]",
            "_view_count": null,
            "_view_module_version": "1.5.0",
            "description_tooltip": null,
            "_model_module": "@jupyter-widgets/controls",
            "layout": "IPY_MODEL_d6db5396eca647f9b4f0319b2b94d350"
          }
        },
        "6b81fc80e3474343ac21d80057b0d49d": {
          "model_module": "@jupyter-widgets/controls",
          "model_name": "ProgressStyleModel",
          "state": {
            "_view_name": "StyleView",
            "_model_name": "ProgressStyleModel",
            "description_width": "initial",
            "_view_module": "@jupyter-widgets/base",
            "_model_module_version": "1.5.0",
            "_view_count": null,
            "_view_module_version": "1.2.0",
            "bar_color": null,
            "_model_module": "@jupyter-widgets/controls"
          }
        },
        "785d1838c43049859467fc2d6c7a4e19": {
          "model_module": "@jupyter-widgets/base",
          "model_name": "LayoutModel",
          "state": {
            "_view_name": "LayoutView",
            "grid_template_rows": null,
            "right": null,
            "justify_content": null,
            "_view_module": "@jupyter-widgets/base",
            "overflow": null,
            "_model_module_version": "1.2.0",
            "_view_count": null,
            "flex_flow": null,
            "width": null,
            "min_width": null,
            "border": null,
            "align_items": null,
            "bottom": null,
            "_model_module": "@jupyter-widgets/base",
            "top": null,
            "grid_column": null,
            "overflow_y": null,
            "overflow_x": null,
            "grid_auto_flow": null,
            "grid_area": null,
            "grid_template_columns": null,
            "flex": null,
            "_model_name": "LayoutModel",
            "justify_items": null,
            "grid_row": null,
            "max_height": null,
            "align_content": null,
            "visibility": null,
            "align_self": null,
            "height": null,
            "min_height": null,
            "padding": null,
            "grid_auto_rows": null,
            "grid_gap": null,
            "max_width": null,
            "order": null,
            "_view_module_version": "1.2.0",
            "grid_template_areas": null,
            "object_position": null,
            "object_fit": null,
            "grid_auto_columns": null,
            "margin": null,
            "display": null,
            "left": null
          }
        },
        "a08c87ceedf9495284849d869fe2c9c2": {
          "model_module": "@jupyter-widgets/controls",
          "model_name": "DescriptionStyleModel",
          "state": {
            "_view_name": "StyleView",
            "_model_name": "DescriptionStyleModel",
            "description_width": "",
            "_view_module": "@jupyter-widgets/base",
            "_model_module_version": "1.5.0",
            "_view_count": null,
            "_view_module_version": "1.2.0",
            "_model_module": "@jupyter-widgets/controls"
          }
        },
        "d6db5396eca647f9b4f0319b2b94d350": {
          "model_module": "@jupyter-widgets/base",
          "model_name": "LayoutModel",
          "state": {
            "_view_name": "LayoutView",
            "grid_template_rows": null,
            "right": null,
            "justify_content": null,
            "_view_module": "@jupyter-widgets/base",
            "overflow": null,
            "_model_module_version": "1.2.0",
            "_view_count": null,
            "flex_flow": null,
            "width": null,
            "min_width": null,
            "border": null,
            "align_items": null,
            "bottom": null,
            "_model_module": "@jupyter-widgets/base",
            "top": null,
            "grid_column": null,
            "overflow_y": null,
            "overflow_x": null,
            "grid_auto_flow": null,
            "grid_area": null,
            "grid_template_columns": null,
            "flex": null,
            "_model_name": "LayoutModel",
            "justify_items": null,
            "grid_row": null,
            "max_height": null,
            "align_content": null,
            "visibility": null,
            "align_self": null,
            "height": null,
            "min_height": null,
            "padding": null,
            "grid_auto_rows": null,
            "grid_gap": null,
            "max_width": null,
            "order": null,
            "_view_module_version": "1.2.0",
            "grid_template_areas": null,
            "object_position": null,
            "object_fit": null,
            "grid_auto_columns": null,
            "margin": null,
            "display": null,
            "left": null
          }
        },
        "549066860fea476ba71242179fc24c9d": {
          "model_module": "@jupyter-widgets/controls",
          "model_name": "HBoxModel",
          "state": {
            "_view_name": "HBoxView",
            "_dom_classes": [],
            "_model_name": "HBoxModel",
            "_view_module": "@jupyter-widgets/controls",
            "_model_module_version": "1.5.0",
            "_view_count": null,
            "_view_module_version": "1.5.0",
            "box_style": "",
            "layout": "IPY_MODEL_a401a85bed214b6fbf4d0488589fcac9",
            "_model_module": "@jupyter-widgets/controls",
            "children": [
              "IPY_MODEL_8dabf05f27ce48a5a7110a66455b5355",
              "IPY_MODEL_76c1990e9ee3443098b23e335577e4a5"
            ]
          }
        },
        "a401a85bed214b6fbf4d0488589fcac9": {
          "model_module": "@jupyter-widgets/base",
          "model_name": "LayoutModel",
          "state": {
            "_view_name": "LayoutView",
            "grid_template_rows": null,
            "right": null,
            "justify_content": null,
            "_view_module": "@jupyter-widgets/base",
            "overflow": null,
            "_model_module_version": "1.2.0",
            "_view_count": null,
            "flex_flow": null,
            "width": null,
            "min_width": null,
            "border": null,
            "align_items": null,
            "bottom": null,
            "_model_module": "@jupyter-widgets/base",
            "top": null,
            "grid_column": null,
            "overflow_y": null,
            "overflow_x": null,
            "grid_auto_flow": null,
            "grid_area": null,
            "grid_template_columns": null,
            "flex": null,
            "_model_name": "LayoutModel",
            "justify_items": null,
            "grid_row": null,
            "max_height": null,
            "align_content": null,
            "visibility": null,
            "align_self": null,
            "height": null,
            "min_height": null,
            "padding": null,
            "grid_auto_rows": null,
            "grid_gap": null,
            "max_width": null,
            "order": null,
            "_view_module_version": "1.2.0",
            "grid_template_areas": null,
            "object_position": null,
            "object_fit": null,
            "grid_auto_columns": null,
            "margin": null,
            "display": null,
            "left": null
          }
        },
        "8dabf05f27ce48a5a7110a66455b5355": {
          "model_module": "@jupyter-widgets/controls",
          "model_name": "FloatProgressModel",
          "state": {
            "_view_name": "ProgressView",
            "style": "IPY_MODEL_dbf8041e420d41b3b4c33ad76efa05c9",
            "_dom_classes": [],
            "description": "100%",
            "_model_name": "FloatProgressModel",
            "bar_style": "success",
            "max": 100,
            "_view_module": "@jupyter-widgets/controls",
            "_model_module_version": "1.5.0",
            "value": 100,
            "_view_count": null,
            "_view_module_version": "1.5.0",
            "orientation": "horizontal",
            "min": 0,
            "description_tooltip": null,
            "_model_module": "@jupyter-widgets/controls",
            "layout": "IPY_MODEL_b171b28d20174411b985be4916b3d57a"
          }
        },
        "76c1990e9ee3443098b23e335577e4a5": {
          "model_module": "@jupyter-widgets/controls",
          "model_name": "HTMLModel",
          "state": {
            "_view_name": "HTMLView",
            "style": "IPY_MODEL_9c5ae61cbcdd492999c331da456d000e",
            "_dom_classes": [],
            "description": "",
            "_model_name": "HTMLModel",
            "placeholder": "​",
            "_view_module": "@jupyter-widgets/controls",
            "_model_module_version": "1.5.0",
            "value": " 100/100 [10:05&lt;00:00,  6.05s/it]",
            "_view_count": null,
            "_view_module_version": "1.5.0",
            "description_tooltip": null,
            "_model_module": "@jupyter-widgets/controls",
            "layout": "IPY_MODEL_b36092756833474a8d96fcb5b3b1130b"
          }
        },
        "dbf8041e420d41b3b4c33ad76efa05c9": {
          "model_module": "@jupyter-widgets/controls",
          "model_name": "ProgressStyleModel",
          "state": {
            "_view_name": "StyleView",
            "_model_name": "ProgressStyleModel",
            "description_width": "initial",
            "_view_module": "@jupyter-widgets/base",
            "_model_module_version": "1.5.0",
            "_view_count": null,
            "_view_module_version": "1.2.0",
            "bar_color": null,
            "_model_module": "@jupyter-widgets/controls"
          }
        },
        "b171b28d20174411b985be4916b3d57a": {
          "model_module": "@jupyter-widgets/base",
          "model_name": "LayoutModel",
          "state": {
            "_view_name": "LayoutView",
            "grid_template_rows": null,
            "right": null,
            "justify_content": null,
            "_view_module": "@jupyter-widgets/base",
            "overflow": null,
            "_model_module_version": "1.2.0",
            "_view_count": null,
            "flex_flow": null,
            "width": null,
            "min_width": null,
            "border": null,
            "align_items": null,
            "bottom": null,
            "_model_module": "@jupyter-widgets/base",
            "top": null,
            "grid_column": null,
            "overflow_y": null,
            "overflow_x": null,
            "grid_auto_flow": null,
            "grid_area": null,
            "grid_template_columns": null,
            "flex": null,
            "_model_name": "LayoutModel",
            "justify_items": null,
            "grid_row": null,
            "max_height": null,
            "align_content": null,
            "visibility": null,
            "align_self": null,
            "height": null,
            "min_height": null,
            "padding": null,
            "grid_auto_rows": null,
            "grid_gap": null,
            "max_width": null,
            "order": null,
            "_view_module_version": "1.2.0",
            "grid_template_areas": null,
            "object_position": null,
            "object_fit": null,
            "grid_auto_columns": null,
            "margin": null,
            "display": null,
            "left": null
          }
        },
        "9c5ae61cbcdd492999c331da456d000e": {
          "model_module": "@jupyter-widgets/controls",
          "model_name": "DescriptionStyleModel",
          "state": {
            "_view_name": "StyleView",
            "_model_name": "DescriptionStyleModel",
            "description_width": "",
            "_view_module": "@jupyter-widgets/base",
            "_model_module_version": "1.5.0",
            "_view_count": null,
            "_view_module_version": "1.2.0",
            "_model_module": "@jupyter-widgets/controls"
          }
        },
        "b36092756833474a8d96fcb5b3b1130b": {
          "model_module": "@jupyter-widgets/base",
          "model_name": "LayoutModel",
          "state": {
            "_view_name": "LayoutView",
            "grid_template_rows": null,
            "right": null,
            "justify_content": null,
            "_view_module": "@jupyter-widgets/base",
            "overflow": null,
            "_model_module_version": "1.2.0",
            "_view_count": null,
            "flex_flow": null,
            "width": null,
            "min_width": null,
            "border": null,
            "align_items": null,
            "bottom": null,
            "_model_module": "@jupyter-widgets/base",
            "top": null,
            "grid_column": null,
            "overflow_y": null,
            "overflow_x": null,
            "grid_auto_flow": null,
            "grid_area": null,
            "grid_template_columns": null,
            "flex": null,
            "_model_name": "LayoutModel",
            "justify_items": null,
            "grid_row": null,
            "max_height": null,
            "align_content": null,
            "visibility": null,
            "align_self": null,
            "height": null,
            "min_height": null,
            "padding": null,
            "grid_auto_rows": null,
            "grid_gap": null,
            "max_width": null,
            "order": null,
            "_view_module_version": "1.2.0",
            "grid_template_areas": null,
            "object_position": null,
            "object_fit": null,
            "grid_auto_columns": null,
            "margin": null,
            "display": null,
            "left": null
          }
        }
      }
    }
  },
  "cells": [
    {
      "cell_type": "markdown",
      "metadata": {
        "id": "0DBJgaXq_y89",
        "colab_type": "text"
      },
      "source": [
        "## References:\n",
        "- https://arxiv.org/pdf/2004.11362.pdf\n",
        "- https://towardsdatascience.com/contrastive-loss-for-supervised-classification-224ae35692e7"
      ]
    },
    {
      "cell_type": "markdown",
      "metadata": {
        "id": "qraO0CLY__Ji",
        "colab_type": "text"
      },
      "source": [
        "## Initial setup"
      ]
    },
    {
      "cell_type": "code",
      "metadata": {
        "id": "yknUs_MC_qjW",
        "colab_type": "code",
        "outputId": "c8986488-16d2-4b17-faad-8b9bba1a1ead",
        "colab": {
          "base_uri": "https://localhost:8080/",
          "height": 34
        }
      },
      "source": [
        "import tensorflow as tf\n",
        "print(tf.__version__)"
      ],
      "execution_count": 26,
      "outputs": [
        {
          "output_type": "stream",
          "text": [
            "2.2.0\n"
          ],
          "name": "stdout"
        }
      ]
    },
    {
      "cell_type": "code",
      "metadata": {
        "id": "uoT3XqqDABVG",
        "colab_type": "code",
        "colab": {}
      },
      "source": [
        "!pip install wandb\n",
        "import wandb\n",
        "wandb.login()"
      ],
      "execution_count": 0,
      "outputs": []
    },
    {
      "cell_type": "code",
      "metadata": {
        "id": "GLajcDGDBXbJ",
        "colab_type": "code",
        "colab": {}
      },
      "source": [
        "import os\n",
        "os.environ['WANDB_DISABLE_CODE'] = 'True'\n"
      ],
      "execution_count": 0,
      "outputs": []
    },
    {
      "cell_type": "code",
      "metadata": {
        "id": "DXJYNTkXADKX",
        "colab_type": "code",
        "colab": {}
      },
      "source": [
        "!wget https://raw.githubusercontent.com/wangz10/contrastive_loss/master/losses.py"
      ],
      "execution_count": 0,
      "outputs": []
    },
    {
      "cell_type": "code",
      "metadata": {
        "id": "vM4xEYhxAMc9",
        "colab_type": "code",
        "colab": {}
      },
      "source": [
        "from tensorflow.keras.layers import *\n",
        "from tensorflow.keras.models import *\n",
        "from tqdm.notebook import tqdm\n",
        "import tensorflow_datasets as tfds\n",
        "import matplotlib.pyplot as plt\n",
        "import numpy as np\n",
        "import losses\n",
        "import cv2\n",
        "from imutils import paths\n",
        "tf.random.set_seed(666)\n",
        "np.random.seed(666)\n",
        "\n"
      ],
      "execution_count": 0,
      "outputs": []
    },
    {
      "cell_type": "markdown",
      "metadata": {
        "id": "tEj-87mnAVr6",
        "colab_type": "text"
      },
      "source": [
        "# ImageNet Subset\n"
      ]
    },
    {
      "cell_type": "code",
      "metadata": {
        "id": "mccvzp8gAOj-",
        "colab_type": "code",
        "colab": {}
      },
      "source": [
        "!git clone https://github.com/thunderInfy/imagenet-5-categories\n"
      ],
      "execution_count": 0,
      "outputs": []
    },
    {
      "cell_type": "code",
      "metadata": {
        "id": "4nbTUUw8AYDZ",
        "colab_type": "code",
        "colab": {}
      },
      "source": [
        "# Train and test image paths\n",
        "train_images = list(paths.list_images(\"imagenet-5-categories/train\"))\n",
        "test_images = list(paths.list_images(\"imagenet-5-categories/test\"))\n"
      ],
      "execution_count": 0,
      "outputs": []
    },
    {
      "cell_type": "code",
      "metadata": {
        "id": "p-RhnY8BAdao",
        "colab_type": "code",
        "colab": {}
      },
      "source": [
        "def prepare_images(image_paths):\n",
        "    images = []\n",
        "    labels = []\n",
        "\n",
        "    for image in tqdm(image_paths):\n",
        "        image_pixels = plt.imread(image)\n",
        "        image_pixels = cv2.resize(image_pixels, (128,128))\n",
        "        image_pixels = image_pixels/255.\n",
        "\n",
        "        label = image.split(\"/\")[2].split(\"_\")[0]\n",
        "\n",
        "        images.append(image_pixels)\n",
        "        labels.append(label)\n",
        "\n",
        "    images = np.array(images)\n",
        "    labels = np.array(labels)\n",
        "\n",
        "    print(images.shape, labels.shape)\n",
        "\n",
        "    return images, labels"
      ],
      "execution_count": 0,
      "outputs": []
    },
    {
      "cell_type": "code",
      "metadata": {
        "id": "BNlw6--SAfra",
        "colab_type": "code",
        "outputId": "4679b2fd-50ec-4e45-aa45-6fe9e10bc720",
        "colab": {
          "base_uri": "https://localhost:8080/",
          "height": 148,
          "referenced_widgets": [
            "e8be6579b2e746868102be547df7c857",
            "33a455c52435490f9ebcac80d4f9e30a",
            "0a2982475f394603853db7ec0a1c293c",
            "8d10e7592dde4fbe947dfb351f42bf66",
            "68e7dbc2baeb4682a6063e5c6d109659",
            "629ae611b33142f589c839d3bbb883c5",
            "2bf9d1175c9b481fb259cedc4fd373bc",
            "0df138f542ce462091d07cc622a29852",
            "4e39cff9f28143eb87331d4affa5fb86",
            "084be9cd4a6441038c0ac12bac0fc4b4",
            "ba875038dd3540e29429b8b458d65841",
            "53fcb748f4cf4ad192f7d0a5125c391b",
            "65e8acf8affe4d8ca18e79fdc785a451",
            "18f52c0f1d204ee9b16ea019eec9bbc9",
            "5f74738f35224d0ab20389049c8e280c",
            "01be4d5211f34bf49045d731628feca2"
          ]
        }
      },
      "source": [
        "\n",
        "X_train, y_train = prepare_images(train_images)\n",
        "X_test, y_test = prepare_images(test_images)"
      ],
      "execution_count": 10,
      "outputs": [
        {
          "output_type": "display_data",
          "data": {
            "application/vnd.jupyter.widget-view+json": {
              "model_id": "e8be6579b2e746868102be547df7c857",
              "version_minor": 0,
              "version_major": 2
            },
            "text/plain": [
              "HBox(children=(FloatProgress(value=0.0, max=1250.0), HTML(value='')))"
            ]
          },
          "metadata": {
            "tags": []
          }
        },
        {
          "output_type": "stream",
          "text": [
            "\n",
            "(1250, 128, 128, 3) (1250,)\n"
          ],
          "name": "stdout"
        },
        {
          "output_type": "display_data",
          "data": {
            "application/vnd.jupyter.widget-view+json": {
              "model_id": "4e39cff9f28143eb87331d4affa5fb86",
              "version_minor": 0,
              "version_major": 2
            },
            "text/plain": [
              "HBox(children=(FloatProgress(value=0.0, max=250.0), HTML(value='')))"
            ]
          },
          "metadata": {
            "tags": []
          }
        },
        {
          "output_type": "stream",
          "text": [
            "\n",
            "(250, 128, 128, 3) (250,)\n"
          ],
          "name": "stdout"
        }
      ]
    },
    {
      "cell_type": "code",
      "metadata": {
        "id": "ic7W94pHAiFe",
        "colab_type": "code",
        "colab": {}
      },
      "source": [
        "from sklearn import preprocessing\n",
        "le = preprocessing.LabelEncoder()\n",
        "y_train_enc = le.fit_transform(y_train)\n",
        "y_test_enc = le.transform(y_test)\n"
      ],
      "execution_count": 0,
      "outputs": []
    },
    {
      "cell_type": "code",
      "metadata": {
        "id": "TFrfLRBfAlcJ",
        "colab_type": "code",
        "colab": {}
      },
      "source": [
        "train_ds=tf.data.Dataset.from_tensor_slices((X_train,y_train_enc))\n",
        "validation_ds=tf.data.Dataset.from_tensor_slices((X_test,y_test_enc))"
      ],
      "execution_count": 0,
      "outputs": []
    },
    {
      "cell_type": "code",
      "metadata": {
        "id": "d0KiyOlvAqiH",
        "colab_type": "code",
        "colab": {}
      },
      "source": [
        "IMG_SHAPE = 128\n",
        "BS = 64\n",
        "AUTO = tf.data.experimental.AUTOTUNE\n",
        "train_ds = (\n",
        "    train_ds\n",
        "    .shuffle(100)\n",
        "    .batch(BS)\n",
        "    .prefetch(AUTO)\n",
        ")\n",
        "validation_ds = (\n",
        "    validation_ds\n",
        "    .shuffle(100)\n",
        "    .batch(BS)\n",
        "    .prefetch(AUTO)\n",
        ")"
      ],
      "execution_count": 0,
      "outputs": []
    },
    {
      "cell_type": "markdown",
      "metadata": {
        "id": "uqs25vl9A0gy",
        "colab_type": "text"
      },
      "source": [
        "## Model building"
      ]
    },
    {
      "cell_type": "code",
      "metadata": {
        "id": "rMN6R61VAxVZ",
        "colab_type": "code",
        "colab": {}
      },
      "source": [
        "# Reference: https://github.com/wangz10/contrastive_loss/blob/master/model.py\n",
        "class UnitNormLayer(tf.keras.layers.Layer):\n",
        "    '''Normalize vectors (euclidean norm) in batch to unit hypersphere.\n",
        "    '''\n",
        "    def __init__(self):\n",
        "        super(UnitNormLayer, self).__init__()\n",
        "\n",
        "    def call(self, input_tensor):\n",
        "        norm = tf.norm(input_tensor, axis=1)\n",
        "        return input_tensor / tf.reshape(norm, [-1, 1])"
      ],
      "execution_count": 0,
      "outputs": []
    },
    {
      "cell_type": "code",
      "metadata": {
        "id": "GyLzAbh0A23Z",
        "colab_type": "code",
        "colab": {}
      },
      "source": [
        "# Encoder Network\n",
        "def encoder_net():\n",
        "\tinputs = Input((IMG_SHAPE, IMG_SHAPE, 3))\n",
        "\tnormalization_layer = UnitNormLayer()\n",
        "\n",
        "\tencoder = tf.keras.applications.ResNet50(weights=None, include_top=False)\n",
        "\tencoder.trainable = True\n",
        "\n",
        "\tembeddings = encoder(inputs, training=True)\n",
        "\tembeddings = GlobalAveragePooling2D()(embeddings)\n",
        "\tnorm_embeddings = normalization_layer(embeddings)\n",
        "\n",
        "\tencoder_network = Model(inputs, norm_embeddings)\n",
        "\n",
        "\treturn encoder_network\n",
        "\n",
        "# Projector Network\n",
        "def projector_net():\n",
        "\tprojector = tf.keras.models.Sequential([\n",
        "\t\tDense(256, activation=\"relu\"),\n",
        "\t\tUnitNormLayer()\n",
        "\t])\n",
        "\n",
        "\treturn projector"
      ],
      "execution_count": 0,
      "outputs": []
    },
    {
      "cell_type": "markdown",
      "metadata": {
        "id": "6OV26XpaCqth",
        "colab_type": "text"
      },
      "source": [
        "## SGD with lr decay function"
      ]
    },
    {
      "cell_type": "markdown",
      "metadata": {
        "id": "WP16gtlRBItp",
        "colab_type": "text"
      },
      "source": [
        "### Training the encoder and the projector"
      ]
    },
    {
      "cell_type": "code",
      "metadata": {
        "id": "zkj8HhT-BBiq",
        "colab_type": "code",
        "colab": {}
      },
      "source": [
        "#SGD with lr decay function\n",
        "\n",
        "\n",
        "decay_steps = 1000\n",
        "lr_decayed_fn = tf.keras.experimental.CosineDecay(\n",
        "    initial_learning_rate=0.001, decay_steps=decay_steps)\n",
        "optimizer = tf.keras.optimizers.SGD(lr_decayed_fn)"
      ],
      "execution_count": 0,
      "outputs": []
    },
    {
      "cell_type": "code",
      "metadata": {
        "id": "bFzxZGgnBFDc",
        "colab_type": "code",
        "colab": {}
      },
      "source": [
        "encoder_r = encoder_net()\n",
        "projector_z = projector_net()\n",
        "\n",
        "@tf.function\n",
        "def train_step(images, labels):\n",
        "\twith tf.GradientTape() as tape:\n",
        "\t\tr = encoder_r(images, training=True)\n",
        "\t\tz = projector_z(r, training=True)\n",
        "\t\tloss = losses.max_margin_contrastive_loss(z, labels)\n",
        "\n",
        "\tgradients = tape.gradient(loss, \n",
        "\t\tencoder_r.trainable_variables + projector_z.trainable_variables)\n",
        "\toptimizer.apply_gradients(zip(gradients, \n",
        "\t\tencoder_r.trainable_variables + projector_z.trainable_variables))\n",
        "\n",
        "\treturn loss"
      ],
      "execution_count": 0,
      "outputs": []
    },
    {
      "cell_type": "code",
      "metadata": {
        "id": "sCHkj94fBbka",
        "colab_type": "code",
        "outputId": "7ff7efcb-5dae-438c-faf7-3018acf16668",
        "colab": {
          "base_uri": "https://localhost:8080/",
          "height": 525,
          "referenced_widgets": [
            "ac932410d2804b14b6a015f159868579",
            "7896ea85f7b449f5b664ea4eaf80d0e0",
            "3eea34e64d484c1ead0918d7385e3ba7",
            "2b8b3fe7ad7246458f6eb19c86e89318",
            "a0b21d1bde134723a85c6ea8fdf9802e",
            "83606e648124442e9b36abba8a7f9567",
            "fd5f63fdc4bf4559a3c3bae3829d1d07",
            "be42495d906b4789ba8a593de75ffb45"
          ]
        }
      },
      "source": [
        "import time\n",
        "\n",
        "wandb.init(project=\"scl\", entity=\"authors\",id='SCL_SGD_LRDECAY')\n",
        "EPOCHS = 60\n",
        "LOG_EVERY = 10\n",
        "train_loss_results = []\n",
        "\n",
        "start = time.time()\n",
        "for epoch in tqdm(range(EPOCHS)):\t\n",
        "\tepoch_loss_avg = tf.keras.metrics.Mean()\n",
        "\t\n",
        "\tfor (images, labels) in train_ds:\n",
        "\t\tloss = train_step(images, labels)\n",
        "\t\tepoch_loss_avg.update_state(loss) \n",
        "\n",
        "\ttrain_loss_results.append(epoch_loss_avg.result())\n",
        "\twandb.log({\"supervised_contrastive_loss\": epoch_loss_avg.result()})\n",
        "\n",
        "\tif epoch % LOG_EVERY == 0:\n",
        "\t\tprint(\"Epoch: {} Loss: {:.3f}\".format(epoch, epoch_loss_avg.result()))\n",
        "\n",
        "end = time.time()\n",
        "wandb.log({\"training_time\": end - start})\n",
        "\n",
        "with plt.xkcd():\n",
        "    plt.plot(train_loss_results)\n",
        "    plt.title(\"Supervised Contrastive Loss\")\n",
        "    plt.show()\n",
        "print(train_loss_results)"
      ],
      "execution_count": 0,
      "outputs": [
        {
          "output_type": "display_data",
          "data": {
            "text/html": [
              "\n",
              "                Logging results to <a href=\"https://wandb.com\" target=\"_blank\">Weights & Biases</a> <a href=\"https://docs.wandb.com/integrations/jupyter.html\" target=\"_blank\">(Documentation)</a>.<br/>\n",
              "                Project page: <a href=\"https://app.wandb.ai/authors/scl\" target=\"_blank\">https://app.wandb.ai/authors/scl</a><br/>\n",
              "                Run page: <a href=\"https://app.wandb.ai/authors/scl/runs/SCL_SGD_LRDECAY\" target=\"_blank\">https://app.wandb.ai/authors/scl/runs/SCL_SGD_LRDECAY</a><br/>\n",
              "            "
            ],
            "text/plain": [
              "<IPython.core.display.HTML object>"
            ]
          },
          "metadata": {
            "tags": []
          }
        },
        {
          "output_type": "display_data",
          "data": {
            "application/vnd.jupyter.widget-view+json": {
              "model_id": "ac932410d2804b14b6a015f159868579",
              "version_minor": 0,
              "version_major": 2
            },
            "text/plain": [
              "HBox(children=(FloatProgress(value=0.0, max=60.0), HTML(value='')))"
            ]
          },
          "metadata": {
            "tags": []
          }
        },
        {
          "output_type": "stream",
          "text": [
            "Epoch: 0 Loss: 0.225\n",
            "Epoch: 10 Loss: 0.098\n",
            "Epoch: 20 Loss: 0.061\n",
            "Epoch: 30 Loss: 0.007\n",
            "Epoch: 40 Loss: 0.004\n",
            "Epoch: 50 Loss: 0.003\n",
            "\n"
          ],
          "name": "stdout"
        },
        {
          "output_type": "display_data",
          "data": {
            "image/png": "[encoded data removed]",
            "text/plain": [
              "<Figure size 432x288 with 1 Axes>"
            ]
          },
          "metadata": {
            "tags": []
          }
        },
        {
          "output_type": "stream",
          "text": [
            "[<tf.Tensor: shape=(), dtype=float32, numpy=0.22536202>, <tf.Tensor: shape=(), dtype=float32, numpy=0.15345898>, <tf.Tensor: shape=(), dtype=float32, numpy=0.1361714>, <tf.Tensor: shape=(), dtype=float32, numpy=0.124779366>, <tf.Tensor: shape=(), dtype=float32, numpy=0.12070365>, <tf.Tensor: shape=(), dtype=float32, numpy=0.12520526>, <tf.Tensor: shape=(), dtype=float32, numpy=0.11915876>, <tf.Tensor: shape=(), dtype=float32, numpy=0.1195793>, <tf.Tensor: shape=(), dtype=float32, numpy=0.11309008>, <tf.Tensor: shape=(), dtype=float32, numpy=0.10596409>, <tf.Tensor: shape=(), dtype=float32, numpy=0.098213375>, <tf.Tensor: shape=(), dtype=float32, numpy=0.09079232>, <tf.Tensor: shape=(), dtype=float32, numpy=0.09930573>, <tf.Tensor: shape=(), dtype=float32, numpy=0.09857245>, <tf.Tensor: shape=(), dtype=float32, numpy=0.083376065>, <tf.Tensor: shape=(), dtype=float32, numpy=0.07710306>, <tf.Tensor: shape=(), dtype=float32, numpy=0.07585727>, <tf.Tensor: shape=(), dtype=float32, numpy=0.09240108>, <tf.Tensor: shape=(), dtype=float32, numpy=0.07514348>, <tf.Tensor: shape=(), dtype=float32, numpy=0.060070056>, <tf.Tensor: shape=(), dtype=float32, numpy=0.061135214>, <tf.Tensor: shape=(), dtype=float32, numpy=0.046133857>, <tf.Tensor: shape=(), dtype=float32, numpy=0.042279348>, <tf.Tensor: shape=(), dtype=float32, numpy=0.05164557>, <tf.Tensor: shape=(), dtype=float32, numpy=0.042147744>, <tf.Tensor: shape=(), dtype=float32, numpy=0.026595583>, <tf.Tensor: shape=(), dtype=float32, numpy=0.022676667>, <tf.Tensor: shape=(), dtype=float32, numpy=0.017394412>, <tf.Tensor: shape=(), dtype=float32, numpy=0.012536593>, <tf.Tensor: shape=(), dtype=float32, numpy=0.008450645>, <tf.Tensor: shape=(), dtype=float32, numpy=0.006819865>, <tf.Tensor: shape=(), dtype=float32, numpy=0.0069885016>, <tf.Tensor: shape=(), dtype=float32, numpy=0.006468085>, <tf.Tensor: shape=(), dtype=float32, numpy=0.0067477576>, <tf.Tensor: shape=(), dtype=float32, numpy=0.0045747156>, <tf.Tensor: shape=(), dtype=float32, numpy=0.004779754>, <tf.Tensor: shape=(), dtype=float32, numpy=0.004302374>, <tf.Tensor: shape=(), dtype=float32, numpy=0.005989744>, <tf.Tensor: shape=(), dtype=float32, numpy=0.0033768644>, <tf.Tensor: shape=(), dtype=float32, numpy=0.0036496907>, <tf.Tensor: shape=(), dtype=float32, numpy=0.003871134>, <tf.Tensor: shape=(), dtype=float32, numpy=0.0030936566>, <tf.Tensor: shape=(), dtype=float32, numpy=0.0031319815>, <tf.Tensor: shape=(), dtype=float32, numpy=0.00310153>, <tf.Tensor: shape=(), dtype=float32, numpy=0.0031012166>, <tf.Tensor: shape=(), dtype=float32, numpy=0.003051162>, <tf.Tensor: shape=(), dtype=float32, numpy=0.0032730799>, <tf.Tensor: shape=(), dtype=float32, numpy=0.003230086>, <tf.Tensor: shape=(), dtype=float32, numpy=0.0032264204>, <tf.Tensor: shape=(), dtype=float32, numpy=0.0031421003>, <tf.Tensor: shape=(), dtype=float32, numpy=0.0030237657>, <tf.Tensor: shape=(), dtype=float32, numpy=0.0028198385>, <tf.Tensor: shape=(), dtype=float32, numpy=0.003147044>, <tf.Tensor: shape=(), dtype=float32, numpy=0.0033494346>, <tf.Tensor: shape=(), dtype=float32, numpy=0.0031511702>, <tf.Tensor: shape=(), dtype=float32, numpy=0.00279898>, <tf.Tensor: shape=(), dtype=float32, numpy=0.0030533415>, <tf.Tensor: shape=(), dtype=float32, numpy=0.0031216503>, <tf.Tensor: shape=(), dtype=float32, numpy=0.0033260095>, <tf.Tensor: shape=(), dtype=float32, numpy=0.0030643356>]\n"
          ],
          "name": "stdout"
        }
      ]
    },
    {
      "cell_type": "markdown",
      "metadata": {
        "id": "Cvy9nGmSBrPs",
        "colab_type": "text"
      },
      "source": [
        "### Training the Supervised Model\n",
        "\n",
        "\n",
        "\n"
      ]
    },
    {
      "cell_type": "code",
      "metadata": {
        "id": "U0wR25Q7BkKt",
        "colab_type": "code",
        "colab": {}
      },
      "source": [
        "def supervised_model():\n",
        "\tinputs = Input((IMG_SHAPE, IMG_SHAPE, 3))\n",
        "\tencoder_r.trainable = False\n",
        "\n",
        "\tr = encoder_r(inputs, training=False)\n",
        "\toutputs = Dense(5, activation='softmax')(r)\n",
        "\n",
        "\tsupervised_model = Model(inputs, outputs)\n",
        "  \n",
        "\treturn supervised_model\n"
      ],
      "execution_count": 0,
      "outputs": []
    },
    {
      "cell_type": "code",
      "metadata": {
        "id": "rYAOULHrBvNv",
        "colab_type": "code",
        "colab": {}
      },
      "source": [
        "from wandb.keras import WandbCallback"
      ],
      "execution_count": 0,
      "outputs": []
    },
    {
      "cell_type": "code",
      "metadata": {
        "id": "bu_ZGIx1BwGR",
        "colab_type": "code",
        "colab": {}
      },
      "source": [
        "optimizer2 = tf.keras.optimizers.SGD(learning_rate=1e-3)"
      ],
      "execution_count": 0,
      "outputs": []
    },
    {
      "cell_type": "code",
      "metadata": {
        "id": "oFdJJ9yZBzoI",
        "colab_type": "code",
        "outputId": "af92d776-0f99-4643-b9c3-08c06ce5040b",
        "colab": {
          "base_uri": "https://localhost:8080/",
          "height": 638
        }
      },
      "source": [
        "supervised_classifier = supervised_model()\n",
        "\n",
        "supervised_classifier.compile(optimizer=optimizer2,\n",
        "\tloss=tf.keras.losses.SparseCategoricalCrossentropy(),\n",
        "\tmetrics=[tf.keras.metrics.SparseCategoricalAccuracy()])\n",
        "\n",
        "es = tf.keras.callbacks.EarlyStopping(monitor=\"val_sparse_categorical_accuracy\", patience=2,\n",
        "\trestore_best_weights=True, verbose=2)\n",
        "\n",
        "wandb.init(project=\"scl\", entity=\"authors\", id='FSL_SGD_LRDECAY ')\n",
        "\n",
        "start = time.time()\n",
        "supervised_classifier.fit(train_ds,\n",
        "\tvalidation_data=validation_ds,\n",
        "\tepochs=100,\n",
        "\tcallbacks=[WandbCallback(),es])\n",
        "end = time.time()\n",
        "wandb.log({\"training_time\": end - start})"
      ],
      "execution_count": 0,
      "outputs": [
        {
          "output_type": "display_data",
          "data": {
            "text/html": [
              "\n",
              "                Logging results to <a href=\"https://wandb.com\" target=\"_blank\">Weights & Biases</a> <a href=\"https://docs.wandb.com/integrations/jupyter.html\" target=\"_blank\">(Documentation)</a>.<br/>\n",
              "                Project page: <a href=\"https://app.wandb.ai/authors/scl\" target=\"_blank\">https://app.wandb.ai/authors/scl</a><br/>\n",
              "                Run page: <a href=\"https://app.wandb.ai/authors/scl/runs/FSL_SGD_LRDECAY%20\" target=\"_blank\">https://app.wandb.ai/authors/scl/runs/FSL_SGD_LRDECAY%20</a><br/>\n",
              "            "
            ],
            "text/plain": [
              "<IPython.core.display.HTML object>"
            ]
          },
          "metadata": {
            "tags": []
          }
        },
        {
          "output_type": "stream",
          "text": [
            "Epoch 1/100\n",
            "20/20 [==============================] - 6s 285ms/step - loss: 1.6085 - sparse_categorical_accuracy: 0.3888 - val_loss: 1.6079 - val_sparse_categorical_accuracy: 0.3600\n",
            "Epoch 2/100\n",
            "20/20 [==============================] - 4s 209ms/step - loss: 1.6063 - sparse_categorical_accuracy: 0.4024 - val_loss: 1.6067 - val_sparse_categorical_accuracy: 0.3640\n",
            "Epoch 3/100\n",
            "20/20 [==============================] - 4s 188ms/step - loss: 1.6042 - sparse_categorical_accuracy: 0.4216 - val_loss: 1.6055 - val_sparse_categorical_accuracy: 0.3640\n",
            "Epoch 4/100\n",
            "20/20 [==============================] - 4s 209ms/step - loss: 1.6020 - sparse_categorical_accuracy: 0.4376 - val_loss: 1.6042 - val_sparse_categorical_accuracy: 0.3800\n",
            "Epoch 5/100\n",
            "20/20 [==============================] - 4s 203ms/step - loss: 1.5998 - sparse_categorical_accuracy: 0.4648 - val_loss: 1.6030 - val_sparse_categorical_accuracy: 0.3800\n",
            "Epoch 6/100\n",
            "20/20 [==============================] - 4s 196ms/step - loss: 1.5977 - sparse_categorical_accuracy: 0.4800 - val_loss: 1.6018 - val_sparse_categorical_accuracy: 0.3880\n",
            "Epoch 7/100\n",
            "20/20 [==============================] - 4s 187ms/step - loss: 1.5955 - sparse_categorical_accuracy: 0.5024 - val_loss: 1.6006 - val_sparse_categorical_accuracy: 0.3840\n",
            "Epoch 8/100\n",
            "20/20 [==============================] - 4s 205ms/step - loss: 1.5933 - sparse_categorical_accuracy: 0.5136 - val_loss: 1.5994 - val_sparse_categorical_accuracy: 0.3960\n",
            "Epoch 9/100\n",
            "20/20 [==============================] - 4s 202ms/step - loss: 1.5912 - sparse_categorical_accuracy: 0.5272 - val_loss: 1.5982 - val_sparse_categorical_accuracy: 0.3960\n",
            "Epoch 10/100\n",
            "20/20 [==============================] - 4s 209ms/step - loss: 1.5890 - sparse_categorical_accuracy: 0.5392 - val_loss: 1.5970 - val_sparse_categorical_accuracy: 0.4000\n",
            "Epoch 11/100\n",
            "20/20 [==============================] - 4s 214ms/step - loss: 1.5869 - sparse_categorical_accuracy: 0.5544 - val_loss: 1.5958 - val_sparse_categorical_accuracy: 0.4000\n",
            "Epoch 12/100\n",
            "20/20 [==============================] - 4s 204ms/step - loss: 1.5847 - sparse_categorical_accuracy: 0.5640 - val_loss: 1.5946 - val_sparse_categorical_accuracy: 0.4120\n",
            "Epoch 13/100\n",
            "20/20 [==============================] - 4s 188ms/step - loss: 1.5826 - sparse_categorical_accuracy: 0.5688 - val_loss: 1.5934 - val_sparse_categorical_accuracy: 0.4120\n",
            "Epoch 14/100\n",
            "20/20 [==============================] - 4s 210ms/step - loss: 1.5804 - sparse_categorical_accuracy: 0.5728 - val_loss: 1.5922 - val_sparse_categorical_accuracy: 0.4160\n",
            "Epoch 15/100\n",
            "20/20 [==============================] - 4s 202ms/step - loss: 1.5783 - sparse_categorical_accuracy: 0.5816 - val_loss: 1.5910 - val_sparse_categorical_accuracy: 0.4120\n",
            "Epoch 16/100\n",
            "20/20 [==============================] - ETA: 0s - loss: 1.5761 - sparse_categorical_accuracy: 0.5832Restoring model weights from the end of the best epoch.\n",
            "20/20 [==============================] - 4s 210ms/step - loss: 1.5761 - sparse_categorical_accuracy: 0.5832 - val_loss: 1.5898 - val_sparse_categorical_accuracy: 0.4160\n",
            "Epoch 00016: early stopping\n"
          ],
          "name": "stdout"
        }
      ]
    },
    {
      "cell_type": "markdown",
      "metadata": {
        "id": "e4sSP2OlEX1B",
        "colab_type": "text"
      },
      "source": [
        "## SGD with learning rate=1e-3"
      ]
    },
    {
      "cell_type": "markdown",
      "metadata": {
        "id": "oIaencIMEit0",
        "colab_type": "text"
      },
      "source": [
        "### Training the encoder and the projector"
      ]
    },
    {
      "cell_type": "code",
      "metadata": {
        "id": "rBxbk4RYE9wk",
        "colab_type": "code",
        "colab": {}
      },
      "source": [
        "optimizer3=tf.keras.optimizers.SGD(learning_rate=1e-3)"
      ],
      "execution_count": 0,
      "outputs": []
    },
    {
      "cell_type": "code",
      "metadata": {
        "id": "1E8SUWt9Dvng",
        "colab_type": "code",
        "colab": {}
      },
      "source": [
        "encoder_r = encoder_net()\n",
        "projector_z = projector_net()\n",
        "\n",
        "@tf.function\n",
        "def train_step(images, labels):\n",
        "\twith tf.GradientTape() as tape:\n",
        "\t\tr = encoder_r(images, training=True)\n",
        "\t\tz = projector_z(r, training=True)\n",
        "\t\tloss = losses.max_margin_contrastive_loss(z, labels)\n",
        "\n",
        "\tgradients = tape.gradient(loss, \n",
        "\t\tencoder_r.trainable_variables + projector_z.trainable_variables)\n",
        "\toptimizer3.apply_gradients(zip(gradients, \n",
        "\t\tencoder_r.trainable_variables + projector_z.trainable_variables))\n",
        "\n",
        "\treturn loss"
      ],
      "execution_count": 0,
      "outputs": []
    },
    {
      "cell_type": "code",
      "metadata": {
        "id": "vUzKj-H8Enc7",
        "colab_type": "code",
        "outputId": "a1b2b4c0-fa89-4c14-c3ad-404af31f290f",
        "colab": {
          "base_uri": "https://localhost:8080/",
          "height": 592,
          "referenced_widgets": [
            "14285d74c3b3456085c58ec324f20dcd",
            "02a3f65b58054931a74efd67fe1d1ac2",
            "12754bd2792d47a9b9ac0d68c375ecab",
            "5cd8c7dfcd1a499cb7a6e1aba9b19372",
            "6b81fc80e3474343ac21d80057b0d49d",
            "785d1838c43049859467fc2d6c7a4e19",
            "a08c87ceedf9495284849d869fe2c9c2",
            "d6db5396eca647f9b4f0319b2b94d350"
          ]
        }
      },
      "source": [
        "import time\n",
        "\n",
        "wandb.init(project=\"scl\", entity=\"authors\",id='SCL_SGD_LR_0.001_100')\n",
        "EPOCHS = 100\n",
        "LOG_EVERY = 10\n",
        "train_loss_results = []\n",
        "\n",
        "start = time.time()\n",
        "for epoch in tqdm(range(EPOCHS)):\t\n",
        "\tepoch_loss_avg = tf.keras.metrics.Mean()\n",
        "\t\n",
        "\tfor (images, labels) in train_ds:\n",
        "\t\tloss = train_step(images, labels)\n",
        "\t\tepoch_loss_avg.update_state(loss) \n",
        "\n",
        "\ttrain_loss_results.append(epoch_loss_avg.result())\n",
        "\twandb.log({\"supervised_contrastive_loss\": epoch_loss_avg.result()})\n",
        "\n",
        "\tif epoch % LOG_EVERY == 0:\n",
        "\t\tprint(\"Epoch: {} Loss: {:.3f}\".format(epoch, epoch_loss_avg.result()))\n",
        "\n",
        "end = time.time()\n",
        "wandb.log({\"training_time\": end - start})\n",
        "\n",
        "with plt.xkcd():\n",
        "    plt.plot(train_loss_results)\n",
        "    plt.title(\"Supervised Contrastive Loss\")\n",
        "    plt.show()\n",
        "print(train_loss_results)"
      ],
      "execution_count": 0,
      "outputs": [
        {
          "output_type": "display_data",
          "data": {
            "text/html": [
              "\n",
              "                Logging results to <a href=\"https://wandb.com\" target=\"_blank\">Weights & Biases</a> <a href=\"https://docs.wandb.com/integrations/jupyter.html\" target=\"_blank\">(Documentation)</a>.<br/>\n",
              "                Project page: <a href=\"https://app.wandb.ai/authors/scl\" target=\"_blank\">https://app.wandb.ai/authors/scl</a><br/>\n",
              "                Run page: <a href=\"https://app.wandb.ai/authors/scl/runs/SCL_SGD_LR_0.001_100\" target=\"_blank\">https://app.wandb.ai/authors/scl/runs/SCL_SGD_LR_0.001_100</a><br/>\n",
              "            "
            ],
            "text/plain": [
              "<IPython.core.display.HTML object>"
            ]
          },
          "metadata": {
            "tags": []
          }
        },
        {
          "output_type": "display_data",
          "data": {
            "application/vnd.jupyter.widget-view+json": {
              "model_id": "14285d74c3b3456085c58ec324f20dcd",
              "version_minor": 0,
              "version_major": 2
            },
            "text/plain": [
              "HBox(children=(FloatProgress(value=0.0), HTML(value='')))"
            ]
          },
          "metadata": {
            "tags": []
          }
        },
        {
          "output_type": "stream",
          "text": [
            "Epoch: 0 Loss: 0.282\n",
            "Epoch: 10 Loss: 0.163\n",
            "Epoch: 20 Loss: 0.161\n",
            "Epoch: 30 Loss: 0.160\n",
            "Epoch: 40 Loss: 0.160\n",
            "Epoch: 50 Loss: 0.158\n",
            "Epoch: 60 Loss: 0.160\n",
            "Epoch: 70 Loss: 0.158\n",
            "Epoch: 80 Loss: 0.157\n",
            "Epoch: 90 Loss: 0.159\n",
            "\n"
          ],
          "name": "stdout"
        },
        {
          "output_type": "display_data",
          "data": {
            "image/png": "[encoded data removed]",
            "text/plain": [
              "<Figure size 432x288 with 1 Axes>"
            ]
          },
          "metadata": {
            "tags": []
          }
        },
        {
          "output_type": "stream",
          "text": [
            "[<tf.Tensor: shape=(), dtype=float32, numpy=0.28230906>, <tf.Tensor: shape=(), dtype=float32, numpy=0.24346034>, <tf.Tensor: shape=(), dtype=float32, numpy=0.21351707>, <tf.Tensor: shape=(), dtype=float32, numpy=0.19083342>, <tf.Tensor: shape=(), dtype=float32, numpy=0.18154323>, <tf.Tensor: shape=(), dtype=float32, numpy=0.17307524>, <tf.Tensor: shape=(), dtype=float32, numpy=0.1684182>, <tf.Tensor: shape=(), dtype=float32, numpy=0.16657326>, <tf.Tensor: shape=(), dtype=float32, numpy=0.16434485>, <tf.Tensor: shape=(), dtype=float32, numpy=0.16394277>, <tf.Tensor: shape=(), dtype=float32, numpy=0.16264112>, <tf.Tensor: shape=(), dtype=float32, numpy=0.16241492>, <tf.Tensor: shape=(), dtype=float32, numpy=0.16348392>, <tf.Tensor: shape=(), dtype=float32, numpy=0.16395937>, <tf.Tensor: shape=(), dtype=float32, numpy=0.16346261>, <tf.Tensor: shape=(), dtype=float32, numpy=0.1631771>, <tf.Tensor: shape=(), dtype=float32, numpy=0.16231243>, <tf.Tensor: shape=(), dtype=float32, numpy=0.16481815>, <tf.Tensor: shape=(), dtype=float32, numpy=0.16173545>, <tf.Tensor: shape=(), dtype=float32, numpy=0.16270629>, <tf.Tensor: shape=(), dtype=float32, numpy=0.16144654>, <tf.Tensor: shape=(), dtype=float32, numpy=0.16280212>, <tf.Tensor: shape=(), dtype=float32, numpy=0.16220276>, <tf.Tensor: shape=(), dtype=float32, numpy=0.1613419>, <tf.Tensor: shape=(), dtype=float32, numpy=0.1594436>, <tf.Tensor: shape=(), dtype=float32, numpy=0.16338125>, <tf.Tensor: shape=(), dtype=float32, numpy=0.16502088>, <tf.Tensor: shape=(), dtype=float32, numpy=0.16072701>, <tf.Tensor: shape=(), dtype=float32, numpy=0.15871623>, <tf.Tensor: shape=(), dtype=float32, numpy=0.16009118>, <tf.Tensor: shape=(), dtype=float32, numpy=0.16042529>, <tf.Tensor: shape=(), dtype=float32, numpy=0.16133884>, <tf.Tensor: shape=(), dtype=float32, numpy=0.1598543>, <tf.Tensor: shape=(), dtype=float32, numpy=0.15900527>, <tf.Tensor: shape=(), dtype=float32, numpy=0.15963499>, <tf.Tensor: shape=(), dtype=float32, numpy=0.1581946>, <tf.Tensor: shape=(), dtype=float32, numpy=0.16048065>, <tf.Tensor: shape=(), dtype=float32, numpy=0.16056904>, <tf.Tensor: shape=(), dtype=float32, numpy=0.15738232>, <tf.Tensor: shape=(), dtype=float32, numpy=0.1571618>, <tf.Tensor: shape=(), dtype=float32, numpy=0.16029003>, <tf.Tensor: shape=(), dtype=float32, numpy=0.1604261>, <tf.Tensor: shape=(), dtype=float32, numpy=0.1579733>, <tf.Tensor: shape=(), dtype=float32, numpy=0.1593941>, <tf.Tensor: shape=(), dtype=float32, numpy=0.1580936>, <tf.Tensor: shape=(), dtype=float32, numpy=0.15843448>, <tf.Tensor: shape=(), dtype=float32, numpy=0.15828022>, <tf.Tensor: shape=(), dtype=float32, numpy=0.15926082>, <tf.Tensor: shape=(), dtype=float32, numpy=0.15994751>, <tf.Tensor: shape=(), dtype=float32, numpy=0.15843232>, <tf.Tensor: shape=(), dtype=float32, numpy=0.15761197>, <tf.Tensor: shape=(), dtype=float32, numpy=0.1620339>, <tf.Tensor: shape=(), dtype=float32, numpy=0.16019593>, <tf.Tensor: shape=(), dtype=float32, numpy=0.1598763>, <tf.Tensor: shape=(), dtype=float32, numpy=0.16035914>, <tf.Tensor: shape=(), dtype=float32, numpy=0.15910833>, <tf.Tensor: shape=(), dtype=float32, numpy=0.15828982>, <tf.Tensor: shape=(), dtype=float32, numpy=0.1576062>, <tf.Tensor: shape=(), dtype=float32, numpy=0.15776987>, <tf.Tensor: shape=(), dtype=float32, numpy=0.15822992>, <tf.Tensor: shape=(), dtype=float32, numpy=0.15995386>, <tf.Tensor: shape=(), dtype=float32, numpy=0.1574575>, <tf.Tensor: shape=(), dtype=float32, numpy=0.15773375>, <tf.Tensor: shape=(), dtype=float32, numpy=0.15818438>, <tf.Tensor: shape=(), dtype=float32, numpy=0.15859902>, <tf.Tensor: shape=(), dtype=float32, numpy=0.15743612>, <tf.Tensor: shape=(), dtype=float32, numpy=0.15655518>, <tf.Tensor: shape=(), dtype=float32, numpy=0.1565418>, <tf.Tensor: shape=(), dtype=float32, numpy=0.15650332>, <tf.Tensor: shape=(), dtype=float32, numpy=0.1575289>, <tf.Tensor: shape=(), dtype=float32, numpy=0.15829043>, <tf.Tensor: shape=(), dtype=float32, numpy=0.15777323>, <tf.Tensor: shape=(), dtype=float32, numpy=0.15692529>, <tf.Tensor: shape=(), dtype=float32, numpy=0.15637729>, <tf.Tensor: shape=(), dtype=float32, numpy=0.15725128>, <tf.Tensor: shape=(), dtype=float32, numpy=0.15722017>, <tf.Tensor: shape=(), dtype=float32, numpy=0.15642162>, <tf.Tensor: shape=(), dtype=float32, numpy=0.15620583>, <tf.Tensor: shape=(), dtype=float32, numpy=0.15638186>, <tf.Tensor: shape=(), dtype=float32, numpy=0.15717432>, <tf.Tensor: shape=(), dtype=float32, numpy=0.15653701>, <tf.Tensor: shape=(), dtype=float32, numpy=0.15676776>, <tf.Tensor: shape=(), dtype=float32, numpy=0.15890595>, <tf.Tensor: shape=(), dtype=float32, numpy=0.1594623>, <tf.Tensor: shape=(), dtype=float32, numpy=0.15728644>, <tf.Tensor: shape=(), dtype=float32, numpy=0.15857516>, <tf.Tensor: shape=(), dtype=float32, numpy=0.15732828>, <tf.Tensor: shape=(), dtype=float32, numpy=0.15673928>, <tf.Tensor: shape=(), dtype=float32, numpy=0.15965582>, <tf.Tensor: shape=(), dtype=float32, numpy=0.15945238>, <tf.Tensor: shape=(), dtype=float32, numpy=0.15867728>, <tf.Tensor: shape=(), dtype=float32, numpy=0.15957847>, <tf.Tensor: shape=(), dtype=float32, numpy=0.1592572>, <tf.Tensor: shape=(), dtype=float32, numpy=0.15805289>, <tf.Tensor: shape=(), dtype=float32, numpy=0.15790059>, <tf.Tensor: shape=(), dtype=float32, numpy=0.15578178>, <tf.Tensor: shape=(), dtype=float32, numpy=0.15867683>, <tf.Tensor: shape=(), dtype=float32, numpy=0.15673754>, <tf.Tensor: shape=(), dtype=float32, numpy=0.15598753>, <tf.Tensor: shape=(), dtype=float32, numpy=0.15726662>]\n"
          ],
          "name": "stdout"
        }
      ]
    },
    {
      "cell_type": "markdown",
      "metadata": {
        "id": "ZKYh5WXpFY02",
        "colab_type": "text"
      },
      "source": [
        "### Training the Supervised Model\n"
      ]
    },
    {
      "cell_type": "code",
      "metadata": {
        "id": "mUV1mJQxFs5g",
        "colab_type": "code",
        "colab": {}
      },
      "source": [
        "def supervised_model():\n",
        "\tinputs = Input((IMG_SHAPE, IMG_SHAPE, 3))\n",
        "\tencoder_r.trainable = False\n",
        "\n",
        "\tr = encoder_r(inputs, training=False)\n",
        "\toutputs = Dense(5, activation='softmax')(r)\n",
        "\n",
        "\tsupervised_model = Model(inputs, outputs)\n",
        "  \n",
        "\treturn supervised_model\n"
      ],
      "execution_count": 0,
      "outputs": []
    },
    {
      "cell_type": "code",
      "metadata": {
        "id": "DNOeI-ErFMAx",
        "colab_type": "code",
        "outputId": "6018fa88-4837-4438-cf45-e04c924c3ce1",
        "colab": {
          "base_uri": "https://localhost:8080/",
          "height": 218
        }
      },
      "source": [
        "supervised_classifier = supervised_model()\n",
        "\n",
        "supervised_classifier.compile(optimizer=optimizer3,\n",
        "\tloss=tf.keras.losses.SparseCategoricalCrossentropy(),\n",
        "\tmetrics=[tf.keras.metrics.SparseCategoricalAccuracy()])\n",
        "\n",
        "es = tf.keras.callbacks.EarlyStopping(monitor=\"val_sparse_categorical_accuracy\", patience=2,\n",
        "\trestore_best_weights=True, verbose=2)\n",
        "\n",
        "wandb.init(project=\"scl\", entity=\"authors\", id='FSL_SGD_LR_0.001 ')\n",
        "\n",
        "start = time.time()\n",
        "supervised_classifier.fit(train_ds,\n",
        "\tvalidation_data=validation_ds,\n",
        "\tepochs=100,\n",
        "\tcallbacks=[WandbCallback(),es])\n",
        "end = time.time()\n",
        "wandb.log({\"training_time\": end - start})"
      ],
      "execution_count": 0,
      "outputs": [
        {
          "output_type": "display_data",
          "data": {
            "text/html": [
              "\n",
              "                Logging results to <a href=\"https://wandb.com\" target=\"_blank\">Weights & Biases</a> <a href=\"https://docs.wandb.com/integrations/jupyter.html\" target=\"_blank\">(Documentation)</a>.<br/>\n",
              "                Project page: <a href=\"https://app.wandb.ai/authors/scl\" target=\"_blank\">https://app.wandb.ai/authors/scl</a><br/>\n",
              "                Run page: <a href=\"https://app.wandb.ai/authors/scl/runs/FSL_SGD_LR_0.001%20\" target=\"_blank\">https://app.wandb.ai/authors/scl/runs/FSL_SGD_LR_0.001%20</a><br/>\n",
              "            "
            ],
            "text/plain": [
              "<IPython.core.display.HTML object>"
            ]
          },
          "metadata": {
            "tags": []
          }
        },
        {
          "output_type": "stream",
          "text": [
            "Epoch 1/100\n",
            "20/20 [==============================] - ETA: 0s - loss: 1.6088 - sparse_categorical_accuracy: 0.1976"
          ],
          "name": "stdout"
        },
        {
          "output_type": "stream",
          "text": [
            "\u001b[34m\u001b[1mwandb\u001b[0m: Network error resolved after 0:00:17.550744, resuming normal operation.\n"
          ],
          "name": "stderr"
        },
        {
          "output_type": "stream",
          "text": [
            "\b\b\b\b\b\b\b\b\b\b\b\b\b\b\b\b\b\b\b\b\b\b\b\b\b\b\b\b\b\b\b\b\b\b\b\b\b\b\b\b\b\b\b\b\b\b\b\b\b\b\b\b\b\b\b\b\b\b\b\b\b\b\b\b\b\b\b\b\b\b\b\b\b\b\b\b\b\b\b\b\b\b\b\b\b\b\b\b\b\b\b\b\b\b\b\b\b\b\b\b\b\r20/20 [==============================] - 5s 249ms/step - loss: 1.6088 - sparse_categorical_accuracy: 0.1976 - val_loss: 1.6082 - val_sparse_categorical_accuracy: 0.2000\n",
            "Epoch 2/100\n",
            "20/20 [==============================] - 4s 186ms/step - loss: 1.6087 - sparse_categorical_accuracy: 0.1992 - val_loss: 1.6081 - val_sparse_categorical_accuracy: 0.2000\n",
            "Epoch 3/100\n",
            "20/20 [==============================] - ETA: 0s - loss: 1.6087 - sparse_categorical_accuracy: 0.1976Restoring model weights from the end of the best epoch.\n",
            "20/20 [==============================] - 4s 208ms/step - loss: 1.6087 - sparse_categorical_accuracy: 0.1976 - val_loss: 1.6081 - val_sparse_categorical_accuracy: 0.2000\n",
            "Epoch 00003: early stopping\n"
          ],
          "name": "stdout"
        }
      ]
    },
    {
      "cell_type": "markdown",
      "metadata": {
        "id": "USFctJoqJl9k",
        "colab_type": "text"
      },
      "source": [
        "# Adding augmentation"
      ]
    },
    {
      "cell_type": "markdown",
      "metadata": {
        "id": "yW73ISc8Jo5g",
        "colab_type": "text"
      },
      "source": [
        "### Preparing dataset"
      ]
    },
    {
      "cell_type": "code",
      "metadata": {
        "id": "Odg_INO0J1OD",
        "colab_type": "code",
        "colab": {}
      },
      "source": [
        "#Random Augmentations\n",
        "\n",
        "def aug(image, label):\n",
        "  x=tf.image.random_brightness(image,max_delta=0)\n",
        "  x=tf.image.random_contrast(x,lower=0.2, upper=1.8)\n",
        "  x = tf.image.random_saturation(x, lower=0.2, upper=1.5)\n",
        "  x = tf.image.random_hue(x, max_delta=0.4)\n",
        "  x = tf.clip_by_value(x, 0, 1)\n",
        "\n",
        "  return x, label"
      ],
      "execution_count": 0,
      "outputs": []
    },
    {
      "cell_type": "code",
      "metadata": {
        "id": "relHo54GJoG2",
        "colab_type": "code",
        "colab": {}
      },
      "source": [
        "train_ds=tf.data.Dataset.from_tensor_slices((X_train,y_train_enc))\n",
        "validation_ds=tf.data.Dataset.from_tensor_slices((X_test,y_test_enc))"
      ],
      "execution_count": 0,
      "outputs": []
    },
    {
      "cell_type": "code",
      "metadata": {
        "id": "fXCOB2zLJxt1",
        "colab_type": "code",
        "colab": {}
      },
      "source": [
        "IMG_SHAPE = 128\n",
        "BS = 64\n",
        "AUTO = tf.data.experimental.AUTOTUNE\n",
        "train_ds = (\n",
        "    train_ds\n",
        "    .shuffle(100)\n",
        "    .batch(BS)\n",
        "    .map(aug, num_parallel_calls=AUTO)\n",
        "    .prefetch(AUTO)\n",
        ")\n",
        "validation_ds = (\n",
        "    validation_ds\n",
        "    .shuffle(100)\n",
        "    .batch(BS)\n",
        "    .prefetch(AUTO)\n",
        ")"
      ],
      "execution_count": 0,
      "outputs": []
    },
    {
      "cell_type": "markdown",
      "metadata": {
        "id": "DdDEwebwJ9st",
        "colab_type": "text"
      },
      "source": [
        "### Training the encoder and decoder"
      ]
    },
    {
      "cell_type": "code",
      "metadata": {
        "id": "qosfWyViJ_-m",
        "colab_type": "code",
        "colab": {}
      },
      "source": [
        "decay_steps = 1000\n",
        "lr_decayed_fn = tf.keras.experimental.CosineDecay(\n",
        "    initial_learning_rate=0.001, decay_steps=decay_steps)\n",
        "optimizer = tf.keras.optimizers.SGD(lr_decayed_fn)"
      ],
      "execution_count": 0,
      "outputs": []
    },
    {
      "cell_type": "code",
      "metadata": {
        "id": "2Q-f9bAbKM5a",
        "colab_type": "code",
        "colab": {}
      },
      "source": [
        "encoder_r = encoder_net()\n",
        "projector_z = projector_net()\n",
        "\n",
        "@tf.function\n",
        "def train_step(images, labels):\n",
        "\twith tf.GradientTape() as tape:\n",
        "\t\tr = encoder_r(images, training=True)\n",
        "\t\tz = projector_z(r, training=True)\n",
        "\t\tloss = losses.max_margin_contrastive_loss(z, labels)\n",
        "\n",
        "\tgradients = tape.gradient(loss, \n",
        "\t\tencoder_r.trainable_variables + projector_z.trainable_variables)\n",
        "\toptimizer.apply_gradients(zip(gradients, \n",
        "\t\tencoder_r.trainable_variables + projector_z.trainable_variables))\n",
        "\n",
        "\treturn loss"
      ],
      "execution_count": 0,
      "outputs": []
    },
    {
      "cell_type": "code",
      "metadata": {
        "id": "pIaC4P-5KWsy",
        "colab_type": "code",
        "outputId": "8b72ad5e-d9f1-4d3d-a479-04d148a3680e",
        "colab": {
          "base_uri": "https://localhost:8080/",
          "height": 592,
          "referenced_widgets": [
            "549066860fea476ba71242179fc24c9d",
            "a401a85bed214b6fbf4d0488589fcac9",
            "8dabf05f27ce48a5a7110a66455b5355",
            "76c1990e9ee3443098b23e335577e4a5",
            "dbf8041e420d41b3b4c33ad76efa05c9",
            "b171b28d20174411b985be4916b3d57a",
            "9c5ae61cbcdd492999c331da456d000e",
            "b36092756833474a8d96fcb5b3b1130b"
          ]
        }
      },
      "source": [
        "import time\n",
        "\n",
        "wandb.init(project=\"scl\", entity=\"authors\", id='SCL_SGD_LRDECAY_AUG_100')\n",
        "EPOCHS = 100\n",
        "LOG_EVERY = 10\n",
        "train_loss_results = []\n",
        "\n",
        "start = time.time()\n",
        "for epoch in tqdm(range(EPOCHS)):\t\n",
        "\tepoch_loss_avg = tf.keras.metrics.Mean()\n",
        "\t\n",
        "\tfor (images, labels) in train_ds:\n",
        "\t\tloss = train_step(images, labels)\n",
        "\t\tepoch_loss_avg.update_state(loss) \n",
        "\n",
        "\ttrain_loss_results.append(epoch_loss_avg.result())\n",
        "\twandb.log({\"supervised_contrastive_loss\": epoch_loss_avg.result()})\n",
        "\n",
        "\tif epoch % LOG_EVERY == 0:\n",
        "\t\tprint(\"Epoch: {} Loss: {:.3f}\".format(epoch, epoch_loss_avg.result()))\n",
        "\n",
        "end = time.time()\n",
        "wandb.log({\"training_time\": end - start})\n",
        "\n",
        "with plt.xkcd():\n",
        "    plt.plot(train_loss_results)\n",
        "    plt.title(\"Supervised Contrastive Loss\")\n",
        "    plt.show()\n",
        "print(train_loss_results)"
      ],
      "execution_count": 19,
      "outputs": [
        {
          "output_type": "display_data",
          "data": {
            "text/html": [
              "\n",
              "                Logging results to <a href=\"https://wandb.com\" target=\"_blank\">Weights & Biases</a> <a href=\"https://docs.wandb.com/integrations/jupyter.html\" target=\"_blank\">(Documentation)</a>.<br/>\n",
              "                Project page: <a href=\"https://app.wandb.ai/authors/scl\" target=\"_blank\">https://app.wandb.ai/authors/scl</a><br/>\n",
              "                Run page: <a href=\"https://app.wandb.ai/authors/scl/runs/SCL_SGD_LRDECAY_AUG_100\" target=\"_blank\">https://app.wandb.ai/authors/scl/runs/SCL_SGD_LRDECAY_AUG_100</a><br/>\n",
              "            "
            ],
            "text/plain": [
              "<IPython.core.display.HTML object>"
            ]
          },
          "metadata": {
            "tags": []
          }
        },
        {
          "output_type": "display_data",
          "data": {
            "application/vnd.jupyter.widget-view+json": {
              "model_id": "549066860fea476ba71242179fc24c9d",
              "version_minor": 0,
              "version_major": 2
            },
            "text/plain": [
              "HBox(children=(FloatProgress(value=0.0), HTML(value='')))"
            ]
          },
          "metadata": {
            "tags": []
          }
        },
        {
          "output_type": "stream",
          "text": [
            "Epoch: 0 Loss: 0.286\n",
            "Epoch: 10 Loss: 0.161\n",
            "Epoch: 20 Loss: 0.164\n",
            "Epoch: 30 Loss: 0.160\n",
            "Epoch: 40 Loss: 0.162\n",
            "Epoch: 50 Loss: 0.160\n",
            "Epoch: 60 Loss: 0.160\n",
            "Epoch: 70 Loss: 0.161\n",
            "Epoch: 80 Loss: 0.160\n",
            "Epoch: 90 Loss: 0.160\n",
            "\n"
          ],
          "name": "stdout"
        },
        {
          "output_type": "display_data",
          "data": {
            "image/png": "[encoded data removed]",
            "text/plain": [
              "<Figure size 432x288 with 1 Axes>"
            ]
          },
          "metadata": {
            "tags": []
          }
        },
        {
          "output_type": "stream",
          "text": [
            "[<tf.Tensor: shape=(), dtype=float32, numpy=0.2864114>, <tf.Tensor: shape=(), dtype=float32, numpy=0.2484008>, <tf.Tensor: shape=(), dtype=float32, numpy=0.2163858>, <tf.Tensor: shape=(), dtype=float32, numpy=0.1921737>, <tf.Tensor: shape=(), dtype=float32, numpy=0.17742871>, <tf.Tensor: shape=(), dtype=float32, numpy=0.1692873>, <tf.Tensor: shape=(), dtype=float32, numpy=0.16700134>, <tf.Tensor: shape=(), dtype=float32, numpy=0.16526209>, <tf.Tensor: shape=(), dtype=float32, numpy=0.16651778>, <tf.Tensor: shape=(), dtype=float32, numpy=0.16454865>, <tf.Tensor: shape=(), dtype=float32, numpy=0.16127811>, <tf.Tensor: shape=(), dtype=float32, numpy=0.16278704>, <tf.Tensor: shape=(), dtype=float32, numpy=0.16243003>, <tf.Tensor: shape=(), dtype=float32, numpy=0.16335031>, <tf.Tensor: shape=(), dtype=float32, numpy=0.16063929>, <tf.Tensor: shape=(), dtype=float32, numpy=0.16060445>, <tf.Tensor: shape=(), dtype=float32, numpy=0.16379017>, <tf.Tensor: shape=(), dtype=float32, numpy=0.16382083>, <tf.Tensor: shape=(), dtype=float32, numpy=0.1626786>, <tf.Tensor: shape=(), dtype=float32, numpy=0.16364424>, <tf.Tensor: shape=(), dtype=float32, numpy=0.1635492>, <tf.Tensor: shape=(), dtype=float32, numpy=0.16151503>, <tf.Tensor: shape=(), dtype=float32, numpy=0.16118452>, <tf.Tensor: shape=(), dtype=float32, numpy=0.16062686>, <tf.Tensor: shape=(), dtype=float32, numpy=0.16173548>, <tf.Tensor: shape=(), dtype=float32, numpy=0.16090178>, <tf.Tensor: shape=(), dtype=float32, numpy=0.16177927>, <tf.Tensor: shape=(), dtype=float32, numpy=0.16144788>, <tf.Tensor: shape=(), dtype=float32, numpy=0.16128694>, <tf.Tensor: shape=(), dtype=float32, numpy=0.16039303>, <tf.Tensor: shape=(), dtype=float32, numpy=0.15986885>, <tf.Tensor: shape=(), dtype=float32, numpy=0.16210163>, <tf.Tensor: shape=(), dtype=float32, numpy=0.16167356>, <tf.Tensor: shape=(), dtype=float32, numpy=0.16140547>, <tf.Tensor: shape=(), dtype=float32, numpy=0.1604102>, <tf.Tensor: shape=(), dtype=float32, numpy=0.16254504>, <tf.Tensor: shape=(), dtype=float32, numpy=0.16150895>, <tf.Tensor: shape=(), dtype=float32, numpy=0.16230166>, <tf.Tensor: shape=(), dtype=float32, numpy=0.1599451>, <tf.Tensor: shape=(), dtype=float32, numpy=0.15973482>, <tf.Tensor: shape=(), dtype=float32, numpy=0.16219391>, <tf.Tensor: shape=(), dtype=float32, numpy=0.15904184>, <tf.Tensor: shape=(), dtype=float32, numpy=0.16075376>, <tf.Tensor: shape=(), dtype=float32, numpy=0.15991393>, <tf.Tensor: shape=(), dtype=float32, numpy=0.1626977>, <tf.Tensor: shape=(), dtype=float32, numpy=0.16000566>, <tf.Tensor: shape=(), dtype=float32, numpy=0.16043565>, <tf.Tensor: shape=(), dtype=float32, numpy=0.16102374>, <tf.Tensor: shape=(), dtype=float32, numpy=0.15955555>, <tf.Tensor: shape=(), dtype=float32, numpy=0.15960713>, <tf.Tensor: shape=(), dtype=float32, numpy=0.15952396>, <tf.Tensor: shape=(), dtype=float32, numpy=0.15930584>, <tf.Tensor: shape=(), dtype=float32, numpy=0.15975009>, <tf.Tensor: shape=(), dtype=float32, numpy=0.160486>, <tf.Tensor: shape=(), dtype=float32, numpy=0.16052724>, <tf.Tensor: shape=(), dtype=float32, numpy=0.15955451>, <tf.Tensor: shape=(), dtype=float32, numpy=0.1616891>, <tf.Tensor: shape=(), dtype=float32, numpy=0.15976095>, <tf.Tensor: shape=(), dtype=float32, numpy=0.16158393>, <tf.Tensor: shape=(), dtype=float32, numpy=0.16158314>, <tf.Tensor: shape=(), dtype=float32, numpy=0.15958424>, <tf.Tensor: shape=(), dtype=float32, numpy=0.16063225>, <tf.Tensor: shape=(), dtype=float32, numpy=0.16216339>, <tf.Tensor: shape=(), dtype=float32, numpy=0.16123262>, <tf.Tensor: shape=(), dtype=float32, numpy=0.15891895>, <tf.Tensor: shape=(), dtype=float32, numpy=0.16147968>, <tf.Tensor: shape=(), dtype=float32, numpy=0.16028337>, <tf.Tensor: shape=(), dtype=float32, numpy=0.16159385>, <tf.Tensor: shape=(), dtype=float32, numpy=0.16210978>, <tf.Tensor: shape=(), dtype=float32, numpy=0.16128519>, <tf.Tensor: shape=(), dtype=float32, numpy=0.1611411>, <tf.Tensor: shape=(), dtype=float32, numpy=0.15998265>, <tf.Tensor: shape=(), dtype=float32, numpy=0.16053416>, <tf.Tensor: shape=(), dtype=float32, numpy=0.16102457>, <tf.Tensor: shape=(), dtype=float32, numpy=0.16201322>, <tf.Tensor: shape=(), dtype=float32, numpy=0.16083479>, <tf.Tensor: shape=(), dtype=float32, numpy=0.16264471>, <tf.Tensor: shape=(), dtype=float32, numpy=0.16050622>, <tf.Tensor: shape=(), dtype=float32, numpy=0.16206247>, <tf.Tensor: shape=(), dtype=float32, numpy=0.16080467>, <tf.Tensor: shape=(), dtype=float32, numpy=0.15997037>, <tf.Tensor: shape=(), dtype=float32, numpy=0.15945572>, <tf.Tensor: shape=(), dtype=float32, numpy=0.15945719>, <tf.Tensor: shape=(), dtype=float32, numpy=0.16215321>, <tf.Tensor: shape=(), dtype=float32, numpy=0.16115084>, <tf.Tensor: shape=(), dtype=float32, numpy=0.16072461>, <tf.Tensor: shape=(), dtype=float32, numpy=0.15978561>, <tf.Tensor: shape=(), dtype=float32, numpy=0.16029379>, <tf.Tensor: shape=(), dtype=float32, numpy=0.16200116>, <tf.Tensor: shape=(), dtype=float32, numpy=0.15972875>, <tf.Tensor: shape=(), dtype=float32, numpy=0.16000529>, <tf.Tensor: shape=(), dtype=float32, numpy=0.16185915>, <tf.Tensor: shape=(), dtype=float32, numpy=0.1616469>, <tf.Tensor: shape=(), dtype=float32, numpy=0.16205996>, <tf.Tensor: shape=(), dtype=float32, numpy=0.16111757>, <tf.Tensor: shape=(), dtype=float32, numpy=0.15979965>, <tf.Tensor: shape=(), dtype=float32, numpy=0.15901189>, <tf.Tensor: shape=(), dtype=float32, numpy=0.15988131>, <tf.Tensor: shape=(), dtype=float32, numpy=0.16190052>, <tf.Tensor: shape=(), dtype=float32, numpy=0.15965167>]\n"
          ],
          "name": "stdout"
        }
      ]
    },
    {
      "cell_type": "markdown",
      "metadata": {
        "id": "hmhwBtwHKMZY",
        "colab_type": "text"
      },
      "source": [
        "### Trainig Supervised model"
      ]
    },
    {
      "cell_type": "code",
      "metadata": {
        "colab_type": "code",
        "id": "PTtUZT7PKpqG",
        "colab": {}
      },
      "source": [
        "def supervised_model():\n",
        "\tinputs = Input((IMG_SHAPE, IMG_SHAPE, 3))\n",
        "\tencoder_r.trainable = False\n",
        "\n",
        "\tr = encoder_r(inputs, training=False)\n",
        "\toutputs = Dense(5, activation='softmax')(r)\n",
        "\n",
        "\tsupervised_model = Model(inputs, outputs)\n",
        "  \n",
        "\treturn supervised_model\n"
      ],
      "execution_count": 0,
      "outputs": []
    },
    {
      "cell_type": "code",
      "metadata": {
        "id": "kQ4EC2KjKpNb",
        "colab_type": "code",
        "colab": {
          "base_uri": "https://localhost:8080/",
          "height": 218
        },
        "outputId": "fae1de32-74fb-4675-cbbc-cc46f4ed737a"
      },
      "source": [
        "supervised_classifier = supervised_model()\n",
        "\n",
        "supervised_classifier.compile(optimizer=optimizer2,\n",
        "\tloss=tf.keras.losses.SparseCategoricalCrossentropy(),\n",
        "\tmetrics=[tf.keras.metrics.SparseCategoricalAccuracy()])\n",
        "\n",
        "es = tf.keras.callbacks.EarlyStopping(monitor=\"val_sparse_categorical_accuracy\", patience=2,\n",
        "\trestore_best_weights=True, verbose=2)\n",
        "\n",
        "wandb.init(project=\"scl\", entity=\"authors\", id='FSL_SGD_LRDECAY_AUG ')\n",
        "\n",
        "start = time.time()\n",
        "supervised_classifier.fit(train_ds,\n",
        "\tvalidation_data=validation_ds,\n",
        "\tepochs=100,\n",
        "\tcallbacks=[WandbCallback(),es])\n",
        "end = time.time()\n",
        "wandb.log({\"training_time\": end - start})"
      ],
      "execution_count": 25,
      "outputs": [
        {
          "output_type": "display_data",
          "data": {
            "text/html": [
              "\n",
              "                Logging results to <a href=\"https://wandb.com\" target=\"_blank\">Weights & Biases</a> <a href=\"https://docs.wandb.com/integrations/jupyter.html\" target=\"_blank\">(Documentation)</a>.<br/>\n",
              "                Project page: <a href=\"https://app.wandb.ai/authors/scl\" target=\"_blank\">https://app.wandb.ai/authors/scl</a><br/>\n",
              "                Run page: <a href=\"https://app.wandb.ai/authors/scl/runs/FSL_SGD_LRDECAY_AUG%20\" target=\"_blank\">https://app.wandb.ai/authors/scl/runs/FSL_SGD_LRDECAY_AUG%20</a><br/>\n",
              "            "
            ],
            "text/plain": [
              "<IPython.core.display.HTML object>"
            ]
          },
          "metadata": {
            "tags": []
          }
        },
        {
          "output_type": "stream",
          "text": [
            "Epoch 1/100\n"
          ],
          "name": "stdout"
        },
        {
          "output_type": "stream",
          "text": [
            "Streaming file created twice in same run: /content/wandb/run-20200528_220030-FSL_SGD_LRDECAY_AUG /wandb-events.jsonl\n"
          ],
          "name": "stderr"
        },
        {
          "output_type": "stream",
          "text": [
            "20/20 [==============================] - 4s 198ms/step - loss: 1.6106 - sparse_categorical_accuracy: 0.1776 - val_loss: 1.6108 - val_sparse_categorical_accuracy: 0.1840\n",
            "Epoch 2/100\n",
            "20/20 [==============================] - 3s 141ms/step - loss: 1.6106 - sparse_categorical_accuracy: 0.1776 - val_loss: 1.6108 - val_sparse_categorical_accuracy: 0.1840\n",
            "Epoch 3/100\n",
            "19/20 [===========================>..] - ETA: 0s - loss: 1.6105 - sparse_categorical_accuracy: 0.1735Restoring model weights from the end of the best epoch.\n",
            "20/20 [==============================] - 3s 146ms/step - loss: 1.6106 - sparse_categorical_accuracy: 0.1728 - val_loss: 1.6108 - val_sparse_categorical_accuracy: 0.1840\n",
            "Epoch 00003: early stopping\n"
          ],
          "name": "stdout"
        }
      ]
    }
  ]
}