{
  "nbformat": 4,
  "nbformat_minor": 0,
  "metadata": {
    "colab": {
      "name": "SCL_for_Imagenet_Subset_3.ipynb",
      "provenance": [],
      "toc_visible": true
    },
    "kernelspec": {
      "display_name": "Python 3",
      "name": "python3"
    },
    "accelerator": "GPU",
    "widgets": {
      "application/vnd.jupyter.widget-state+json": {
        "22438fa569064261a4e093eafa64a524": {
          "model_module": "@jupyter-widgets/controls",
          "model_name": "HBoxModel",
          "state": {
            "_view_name": "HBoxView",
            "_dom_classes": [],
            "_model_name": "HBoxModel",
            "_view_module": "@jupyter-widgets/controls",
            "_model_module_version": "1.5.0",
            "_view_count": null,
            "_view_module_version": "1.5.0",
            "box_style": "",
            "layout": "IPY_MODEL_c7d82a845d5d4b62abbe77b711a20526",
            "_model_module": "@jupyter-widgets/controls",
            "children": [
              "IPY_MODEL_34d998dbf4fc4dd7a2b0e2efc4e25a87",
              "IPY_MODEL_4eaf46c82b8e40e596ce2b888f395e8a"
            ]
          }
        },
        "c7d82a845d5d4b62abbe77b711a20526": {
          "model_module": "@jupyter-widgets/base",
          "model_name": "LayoutModel",
          "state": {
            "_view_name": "LayoutView",
            "grid_template_rows": null,
            "right": null,
            "justify_content": null,
            "_view_module": "@jupyter-widgets/base",
            "overflow": null,
            "_model_module_version": "1.2.0",
            "_view_count": null,
            "flex_flow": null,
            "width": null,
            "min_width": null,
            "border": null,
            "align_items": null,
            "bottom": null,
            "_model_module": "@jupyter-widgets/base",
            "top": null,
            "grid_column": null,
            "overflow_y": null,
            "overflow_x": null,
            "grid_auto_flow": null,
            "grid_area": null,
            "grid_template_columns": null,
            "flex": null,
            "_model_name": "LayoutModel",
            "justify_items": null,
            "grid_row": null,
            "max_height": null,
            "align_content": null,
            "visibility": null,
            "align_self": null,
            "height": null,
            "min_height": null,
            "padding": null,
            "grid_auto_rows": null,
            "grid_gap": null,
            "max_width": null,
            "order": null,
            "_view_module_version": "1.2.0",
            "grid_template_areas": null,
            "object_position": null,
            "object_fit": null,
            "grid_auto_columns": null,
            "margin": null,
            "display": null,
            "left": null
          }
        },
        "34d998dbf4fc4dd7a2b0e2efc4e25a87": {
          "model_module": "@jupyter-widgets/controls",
          "model_name": "FloatProgressModel",
          "state": {
            "_view_name": "ProgressView",
            "style": "IPY_MODEL_e6ae7b39b8044bffb550790a43b84ed3",
            "_dom_classes": [],
            "description": "100%",
            "_model_name": "FloatProgressModel",
            "bar_style": "success",
            "max": 90,
            "_view_module": "@jupyter-widgets/controls",
            "_model_module_version": "1.5.0",
            "value": 90,
            "_view_count": null,
            "_view_module_version": "1.5.0",
            "orientation": "horizontal",
            "min": 0,
            "description_tooltip": null,
            "_model_module": "@jupyter-widgets/controls",
            "layout": "IPY_MODEL_ef2d62b166754701a1ffea490851b6bf"
          }
        },
        "4eaf46c82b8e40e596ce2b888f395e8a": {
          "model_module": "@jupyter-widgets/controls",
          "model_name": "HTMLModel",
          "state": {
            "_view_name": "HTMLView",
            "style": "IPY_MODEL_71c32ed975634d17982840e1121ac5f3",
            "_dom_classes": [],
            "description": "",
            "_model_name": "HTMLModel",
            "placeholder": "​",
            "_view_module": "@jupyter-widgets/controls",
            "_model_module_version": "1.5.0",
            "value": " 90/90 [05:15&lt;00:00,  3.51s/it]",
            "_view_count": null,
            "_view_module_version": "1.5.0",
            "description_tooltip": null,
            "_model_module": "@jupyter-widgets/controls",
            "layout": "IPY_MODEL_7c5b18d1ae26472b8b3dd26a2b477949"
          }
        },
        "e6ae7b39b8044bffb550790a43b84ed3": {
          "model_module": "@jupyter-widgets/controls",
          "model_name": "ProgressStyleModel",
          "state": {
            "_view_name": "StyleView",
            "_model_name": "ProgressStyleModel",
            "description_width": "initial",
            "_view_module": "@jupyter-widgets/base",
            "_model_module_version": "1.5.0",
            "_view_count": null,
            "_view_module_version": "1.2.0",
            "bar_color": null,
            "_model_module": "@jupyter-widgets/controls"
          }
        },
        "ef2d62b166754701a1ffea490851b6bf": {
          "model_module": "@jupyter-widgets/base",
          "model_name": "LayoutModel",
          "state": {
            "_view_name": "LayoutView",
            "grid_template_rows": null,
            "right": null,
            "justify_content": null,
            "_view_module": "@jupyter-widgets/base",
            "overflow": null,
            "_model_module_version": "1.2.0",
            "_view_count": null,
            "flex_flow": null,
            "width": null,
            "min_width": null,
            "border": null,
            "align_items": null,
            "bottom": null,
            "_model_module": "@jupyter-widgets/base",
            "top": null,
            "grid_column": null,
            "overflow_y": null,
            "overflow_x": null,
            "grid_auto_flow": null,
            "grid_area": null,
            "grid_template_columns": null,
            "flex": null,
            "_model_name": "LayoutModel",
            "justify_items": null,
            "grid_row": null,
            "max_height": null,
            "align_content": null,
            "visibility": null,
            "align_self": null,
            "height": null,
            "min_height": null,
            "padding": null,
            "grid_auto_rows": null,
            "grid_gap": null,
            "max_width": null,
            "order": null,
            "_view_module_version": "1.2.0",
            "grid_template_areas": null,
            "object_position": null,
            "object_fit": null,
            "grid_auto_columns": null,
            "margin": null,
            "display": null,
            "left": null
          }
        },
        "71c32ed975634d17982840e1121ac5f3": {
          "model_module": "@jupyter-widgets/controls",
          "model_name": "DescriptionStyleModel",
          "state": {
            "_view_name": "StyleView",
            "_model_name": "DescriptionStyleModel",
            "description_width": "",
            "_view_module": "@jupyter-widgets/base",
            "_model_module_version": "1.5.0",
            "_view_count": null,
            "_view_module_version": "1.2.0",
            "_model_module": "@jupyter-widgets/controls"
          }
        },
        "7c5b18d1ae26472b8b3dd26a2b477949": {
          "model_module": "@jupyter-widgets/base",
          "model_name": "LayoutModel",
          "state": {
            "_view_name": "LayoutView",
            "grid_template_rows": null,
            "right": null,
            "justify_content": null,
            "_view_module": "@jupyter-widgets/base",
            "overflow": null,
            "_model_module_version": "1.2.0",
            "_view_count": null,
            "flex_flow": null,
            "width": null,
            "min_width": null,
            "border": null,
            "align_items": null,
            "bottom": null,
            "_model_module": "@jupyter-widgets/base",
            "top": null,
            "grid_column": null,
            "overflow_y": null,
            "overflow_x": null,
            "grid_auto_flow": null,
            "grid_area": null,
            "grid_template_columns": null,
            "flex": null,
            "_model_name": "LayoutModel",
            "justify_items": null,
            "grid_row": null,
            "max_height": null,
            "align_content": null,
            "visibility": null,
            "align_self": null,
            "height": null,
            "min_height": null,
            "padding": null,
            "grid_auto_rows": null,
            "grid_gap": null,
            "max_width": null,
            "order": null,
            "_view_module_version": "1.2.0",
            "grid_template_areas": null,
            "object_position": null,
            "object_fit": null,
            "grid_auto_columns": null,
            "margin": null,
            "display": null,
            "left": null
          }
        }
      }
    }
  },
  "cells": [
    {
      "cell_type": "markdown",
      "metadata": {
        "id": "0j-TQLq1_84S",
        "colab_type": "text"
      },
      "source": [
        "## References:\n",
        "- https://arxiv.org/pdf/2004.11362.pdf\n",
        "- https://towardsdatascience.com/contrastive-loss-for-supervised-classification-224ae35692e7"
      ]
    },
    {
      "cell_type": "markdown",
      "metadata": {
        "id": "5Bk9fkKLBmTO",
        "colab_type": "text"
      },
      "source": [
        "## Initial setup"
      ]
    },
    {
      "cell_type": "code",
      "metadata": {
        "colab_type": "code",
        "id": "lIYdn1woOS1n",
        "colab": {}
      },
      "source": [
        "import tensorflow as tf\n",
        "print(tf.__version__)"
      ],
      "execution_count": 0,
      "outputs": []
    },
    {
      "cell_type": "code",
      "metadata": {
        "id": "3_eMx9da2wrn",
        "colab_type": "code",
        "colab": {}
      },
      "source": [
        "!pip install wandb\n",
        "import wandb\n",
        "wandb.login()"
      ],
      "execution_count": 0,
      "outputs": []
    },
    {
      "cell_type": "code",
      "metadata": {
        "id": "mQm3mkRV4Kdb",
        "colab_type": "code",
        "colab": {}
      },
      "source": [
        "!wget https://raw.githubusercontent.com/wangz10/contrastive_loss/master/losses.py"
      ],
      "execution_count": 0,
      "outputs": []
    },
    {
      "cell_type": "code",
      "metadata": {
        "id": "MEEKBji523SY",
        "colab_type": "code",
        "colab": {}
      },
      "source": [
        "from tensorflow.keras.layers import *\n",
        "from tensorflow.keras.models import *\n",
        "from tqdm.notebook import tqdm\n",
        "import tensorflow_datasets as tfds\n",
        "import matplotlib.pyplot as plt\n",
        "import numpy as np\n",
        "import losses\n",
        "import cv2\n",
        "from imutils import paths\n",
        "tf.random.set_seed(666)\n",
        "np.random.seed(666)\n",
        "\n"
      ],
      "execution_count": 0,
      "outputs": []
    },
    {
      "cell_type": "markdown",
      "metadata": {
        "id": "BaNA_SqCBpjt",
        "colab_type": "text"
      },
      "source": [
        "## Getting the dataset"
      ]
    },
    {
      "cell_type": "code",
      "metadata": {
        "id": "ykf_1aic78hU",
        "colab_type": "code",
        "colab": {}
      },
      "source": [
        "!git clone https://github.com/thunderInfy/imagenet-5-categories\n"
      ],
      "execution_count": 0,
      "outputs": []
    },
    {
      "cell_type": "code",
      "metadata": {
        "id": "Voo-9VIdcQGI",
        "colab_type": "code",
        "colab": {}
      },
      "source": [
        "# Train and test image paths\n",
        "train_images = list(paths.list_images(\"imagenet-5-categories/train\"))\n",
        "test_images = list(paths.list_images(\"imagenet-5-categories/test\"))\n"
      ],
      "execution_count": 0,
      "outputs": []
    },
    {
      "cell_type": "code",
      "metadata": {
        "id": "v4JrTsZ1cSQU",
        "colab_type": "code",
        "colab": {}
      },
      "source": [
        "def prepare_images(image_paths):\n",
        "    images = []\n",
        "    labels = []\n",
        "\n",
        "    for image in tqdm(image_paths):\n",
        "        image_pixels = plt.imread(image)\n",
        "        image_pixels = cv2.resize(image_pixels, (128,128))\n",
        "        image_pixels = image_pixels/255.\n",
        "\n",
        "        label = image.split(\"/\")[2].split(\"_\")[0]\n",
        "\n",
        "        images.append(image_pixels)\n",
        "        labels.append(label)\n",
        "\n",
        "    images = np.array(images)\n",
        "    labels = np.array(labels)\n",
        "\n",
        "    print(images.shape, labels.shape)\n",
        "\n",
        "    return images, labels"
      ],
      "execution_count": 0,
      "outputs": []
    },
    {
      "cell_type": "code",
      "metadata": {
        "id": "pxSwdL_sctjP",
        "colab_type": "code",
        "colab": {}
      },
      "source": [
        "\n",
        "X_train, y_train = prepare_images(train_images)\n",
        "X_test, y_test = prepare_images(test_images)"
      ],
      "execution_count": 0,
      "outputs": []
    },
    {
      "cell_type": "code",
      "metadata": {
        "id": "CJpdEJtDeD9N",
        "colab_type": "code",
        "colab": {}
      },
      "source": [
        "from sklearn import preprocessing\n",
        "le = preprocessing.LabelEncoder()\n",
        "y_train_enc = le.fit_transform(y_train)\n",
        "y_test_enc = le.transform(y_test)\n"
      ],
      "execution_count": 0,
      "outputs": []
    },
    {
      "cell_type": "code",
      "metadata": {
        "id": "aVIaQw7_F-_y",
        "colab_type": "code",
        "colab": {}
      },
      "source": [
        "train_ds=tf.data.Dataset.from_tensor_slices((X_train,y_train_enc))\n",
        "validation_ds=tf.data.Dataset.from_tensor_slices((X_test,y_test_enc))"
      ],
      "execution_count": 0,
      "outputs": []
    },
    {
      "cell_type": "code",
      "metadata": {
        "id": "e4JEqGdKWAoq",
        "colab_type": "code",
        "colab": {}
      },
      "source": [
        "def aug(image, label):\n",
        "  x = tf.image.random_hue(x, max_delta=0.4)\n",
        "  x=tf.image.random_brightness(image,max_delta=0)\n",
        "  x=tf.image.random_contrast(x,lower=0.2, upper=1.8)\n",
        "  x = tf.image.random_saturation(x, lower=0.2, upper=1.5)\n",
        "  x = tf.clip_by_value(x, 0, 1)\n",
        "\n",
        "  return x, label"
      ],
      "execution_count": 0,
      "outputs": []
    },
    {
      "cell_type": "code",
      "metadata": {
        "id": "8BCb2eiURQm6",
        "colab_type": "code",
        "colab": {}
      },
      "source": [
        "IMG_SHAPE = 128\n",
        "BS = 64\n",
        "AUTO = tf.data.experimental.AUTOTUNE\n",
        "train_ds = (\n",
        "    train_ds\n",
        "    .shuffle(100)\n",
        "    .batch(BS)\n",
        "    .map(aug, num_parallel_calls=AUTO)\n",
        "    .prefetch(AUTO)\n",
        ")\n",
        "validation_ds = (\n",
        "    validation_ds\n",
        "    .shuffle(100)\n",
        "    .batch(BS)\n",
        "    .prefetch(AUTO)\n",
        ")"
      ],
      "execution_count": 0,
      "outputs": []
    },
    {
      "cell_type": "markdown",
      "metadata": {
        "id": "ECAnGraOBvD9",
        "colab_type": "text"
      },
      "source": [
        "## Model building"
      ]
    },
    {
      "cell_type": "code",
      "metadata": {
        "id": "plwzuhfa5PVA",
        "colab_type": "code",
        "colab": {}
      },
      "source": [
        "# Reference: https://github.com/wangz10/contrastive_loss/blob/master/model.py\n",
        "class UnitNormLayer(tf.keras.layers.Layer):\n",
        "    '''Normalize vectors (euclidean norm) in batch to unit hypersphere.\n",
        "    '''\n",
        "    def __init__(self):\n",
        "        super(UnitNormLayer, self).__init__()\n",
        "\n",
        "    def call(self, input_tensor):\n",
        "        norm = tf.norm(input_tensor, axis=1)\n",
        "        return input_tensor / tf.reshape(norm, [-1, 1])"
      ],
      "execution_count": 0,
      "outputs": []
    },
    {
      "cell_type": "code",
      "metadata": {
        "id": "hlFFQwIS5SDB",
        "colab_type": "code",
        "colab": {}
      },
      "source": [
        "# Encoder Network\n",
        "def encoder_net():\n",
        "\tinputs = Input((IMG_SHAPE, IMG_SHAPE, 3))\n",
        "\tnormalization_layer = UnitNormLayer()\n",
        "\n",
        "\tencoder = tf.keras.applications.VGG16(weights=None, include_top=False)\n",
        "\tencoder.trainable = True\n",
        "\n",
        "\tembeddings = encoder(inputs, training=True)\n",
        "\tembeddings = GlobalAveragePooling2D()(embeddings)\n",
        "\tnorm_embeddings = normalization_layer(embeddings)\n",
        "\n",
        "\tencoder_network = Model(inputs, norm_embeddings)\n",
        "\n",
        "\treturn encoder_network\n",
        "\n",
        "# Projector Network\n",
        "def projector_net():\n",
        "\tprojector = tf.keras.models.Sequential([\n",
        "\t\tDense(256, activation=\"relu\"),\n",
        "\t\tUnitNormLayer()\n",
        "\t])\n",
        "\n",
        "\treturn projector"
      ],
      "execution_count": 0,
      "outputs": []
    },
    {
      "cell_type": "markdown",
      "metadata": {
        "id": "3lRji6rrB141",
        "colab_type": "text"
      },
      "source": [
        "## Training the encoder and the projector"
      ]
    },
    {
      "cell_type": "code",
      "metadata": {
        "id": "f7e7r0xW8zlM",
        "colab_type": "code",
        "colab": {}
      },
      "source": [
        "decay_steps = 1000\n",
        "lr_decayed_fn = tf.keras.experimental.CosineDecay(initial_learning_rate=0.001, decay_steps=decay_steps)\n",
        "optimizer = tf.keras.optimizers.Adam(0.005)"
      ],
      "execution_count": 0,
      "outputs": []
    },
    {
      "cell_type": "code",
      "metadata": {
        "id": "pEtX8gQY7OIE",
        "colab_type": "code",
        "colab": {}
      },
      "source": [
        "encoder_r = encoder_net()\n",
        "projector_z = projector_net()\n",
        "\n",
        "@tf.function\n",
        "def train_step(images, labels):\n",
        "\twith tf.GradientTape() as tape:\n",
        "\t\tr = encoder_r(images, training=True)\n",
        "\t\tz = projector_z(r, training=True)\n",
        "\t\tloss = losses.max_margin_contrastive_loss(z, labels)\n",
        "\n",
        "\tgradients = tape.gradient(loss, \n",
        "\t\tencoder_r.trainable_variables + projector_z.trainable_variables)\n",
        "\toptimizer.apply_gradients(zip(gradients, \n",
        "\t\tencoder_r.trainable_variables + projector_z.trainable_variables))\n",
        "\n",
        "\treturn loss"
      ],
      "execution_count": 0,
      "outputs": []
    },
    {
      "cell_type": "code",
      "metadata": {
        "id": "-tU4IovhE0Is",
        "colab_type": "code",
        "colab": {}
      },
      "source": [
        "import os\n",
        "os.environ['WANDB_DISABLE_CODE'] = 'True'\n"
      ],
      "execution_count": 0,
      "outputs": []
    },
    {
      "cell_type": "code",
      "metadata": {
        "id": "jiV_oi3D8mbw",
        "colab_type": "code",
        "outputId": "e924dddb-51fe-48c6-af20-80690362db0d",
        "colab": {
          "base_uri": "https://localhost:8080/",
          "height": 525,
          "referenced_widgets": [
            "22438fa569064261a4e093eafa64a524",
            "c7d82a845d5d4b62abbe77b711a20526",
            "34d998dbf4fc4dd7a2b0e2efc4e25a87",
            "4eaf46c82b8e40e596ce2b888f395e8a",
            "e6ae7b39b8044bffb550790a43b84ed3",
            "ef2d62b166754701a1ffea490851b6bf",
            "71c32ed975634d17982840e1121ac5f3",
            "7c5b18d1ae26472b8b3dd26a2b477949"
          ]
        }
      },
      "source": [
        "import time\n",
        "\n",
        "#wandb.init(project=\"scl\", entity=\"authors\", id=\"supervised-contrastive-crctd\")\n",
        "EPOCHS = 90\n",
        "LOG_EVERY = 10\n",
        "train_loss_results = []\n",
        "\n",
        "start = time.time()\n",
        "for epoch in tqdm(range(EPOCHS)):\t\n",
        "\tepoch_loss_avg = tf.keras.metrics.Mean()\n",
        "\t\n",
        "\tfor (images, labels) in train_ds:\n",
        "\t\tloss = train_step(images, labels)\n",
        "\t\tepoch_loss_avg.update_state(loss) \n",
        "\n",
        "\ttrain_loss_results.append(epoch_loss_avg.result())\n",
        "\t#wandb.log({\"supervised_contrastive_loss\": epoch_loss_avg.result()})\n",
        "\n",
        "\tif epoch % LOG_EVERY == 0:\n",
        "\t\tprint(\"Epoch: {} Loss: {:.3f}\".format(epoch, epoch_loss_avg.result()))\n",
        "\n",
        "end = time.time()\n",
        "#wandb.log({\"training_time\": end - start})\n",
        "\n",
        "with plt.xkcd():\n",
        "    plt.plot(train_loss_results)\n",
        "    plt.title(\"Supervised Contrastive Loss\")\n",
        "    plt.show()\n",
        "print(train_loss_results)"
      ],
      "execution_count": 0,
      "outputs": [
        {
          "output_type": "display_data",
          "data": {
            "application/vnd.jupyter.widget-view+json": {
              "model_id": "22438fa569064261a4e093eafa64a524",
              "version_minor": 0,
              "version_major": 2
            },
            "text/plain": [
              "HBox(children=(FloatProgress(value=0.0, max=90.0), HTML(value='')))"
            ]
          },
          "metadata": {
            "tags": []
          }
        },
        {
          "output_type": "stream",
          "text": [
            "Epoch: 0 Loss: 0.629\n",
            "Epoch: 10 Loss: 0.196\n",
            "Epoch: 20 Loss: 0.179\n",
            "Epoch: 30 Loss: 0.172\n",
            "Epoch: 40 Loss: 0.169\n",
            "Epoch: 50 Loss: 0.162\n",
            "Epoch: 60 Loss: 0.159\n",
            "Epoch: 70 Loss: 0.153\n",
            "Epoch: 80 Loss: 0.142\n",
            "\n"
          ],
          "name": "stdout"
        },
        {
          "output_type": "display_data",
          "data": {
            "image/png": "[encoded data removed]",
            "text/plain": [
              "<Figure size 432x288 with 1 Axes>"
            ]
          },
          "metadata": {
            "tags": []
          }
        },
        {
          "output_type": "stream",
          "text": [
            "[<tf.Tensor: shape=(), dtype=float32, numpy=0.62873673>, <tf.Tensor: shape=(), dtype=float32, numpy=0.3363823>, <tf.Tensor: shape=(), dtype=float32, numpy=0.2408952>, <tf.Tensor: shape=(), dtype=float32, numpy=0.23223586>, <tf.Tensor: shape=(), dtype=float32, numpy=0.22275715>, <tf.Tensor: shape=(), dtype=float32, numpy=0.21318758>, <tf.Tensor: shape=(), dtype=float32, numpy=0.20586717>, <tf.Tensor: shape=(), dtype=float32, numpy=0.2031908>, <tf.Tensor: shape=(), dtype=float32, numpy=0.20559077>, <tf.Tensor: shape=(), dtype=float32, numpy=0.20271394>, <tf.Tensor: shape=(), dtype=float32, numpy=0.19590335>, <tf.Tensor: shape=(), dtype=float32, numpy=0.19585295>, <tf.Tensor: shape=(), dtype=float32, numpy=0.18747208>, <tf.Tensor: shape=(), dtype=float32, numpy=0.1930261>, <tf.Tensor: shape=(), dtype=float32, numpy=0.18961717>, <tf.Tensor: shape=(), dtype=float32, numpy=0.18543522>, <tf.Tensor: shape=(), dtype=float32, numpy=0.18644276>, <tf.Tensor: shape=(), dtype=float32, numpy=0.18292983>, <tf.Tensor: shape=(), dtype=float32, numpy=0.1824549>, <tf.Tensor: shape=(), dtype=float32, numpy=0.1792782>, <tf.Tensor: shape=(), dtype=float32, numpy=0.17853303>, <tf.Tensor: shape=(), dtype=float32, numpy=0.17623907>, <tf.Tensor: shape=(), dtype=float32, numpy=0.17893675>, <tf.Tensor: shape=(), dtype=float32, numpy=0.17433041>, <tf.Tensor: shape=(), dtype=float32, numpy=0.17482127>, <tf.Tensor: shape=(), dtype=float32, numpy=0.17302643>, <tf.Tensor: shape=(), dtype=float32, numpy=0.17279103>, <tf.Tensor: shape=(), dtype=float32, numpy=0.1745609>, <tf.Tensor: shape=(), dtype=float32, numpy=0.17389378>, <tf.Tensor: shape=(), dtype=float32, numpy=0.17198254>, <tf.Tensor: shape=(), dtype=float32, numpy=0.1723009>, <tf.Tensor: shape=(), dtype=float32, numpy=0.16893598>, <tf.Tensor: shape=(), dtype=float32, numpy=0.16800465>, <tf.Tensor: shape=(), dtype=float32, numpy=0.17194672>, <tf.Tensor: shape=(), dtype=float32, numpy=0.17007746>, <tf.Tensor: shape=(), dtype=float32, numpy=0.1673413>, <tf.Tensor: shape=(), dtype=float32, numpy=0.16877823>, <tf.Tensor: shape=(), dtype=float32, numpy=0.16892764>, <tf.Tensor: shape=(), dtype=float32, numpy=0.16882634>, <tf.Tensor: shape=(), dtype=float32, numpy=0.16653523>, <tf.Tensor: shape=(), dtype=float32, numpy=0.1693687>, <tf.Tensor: shape=(), dtype=float32, numpy=0.16658452>, <tf.Tensor: shape=(), dtype=float32, numpy=0.1657032>, <tf.Tensor: shape=(), dtype=float32, numpy=0.16538739>, <tf.Tensor: shape=(), dtype=float32, numpy=0.16533743>, <tf.Tensor: shape=(), dtype=float32, numpy=0.16210893>, <tf.Tensor: shape=(), dtype=float32, numpy=0.16526514>, <tf.Tensor: shape=(), dtype=float32, numpy=0.16259457>, <tf.Tensor: shape=(), dtype=float32, numpy=0.16483662>, <tf.Tensor: shape=(), dtype=float32, numpy=0.16689171>, <tf.Tensor: shape=(), dtype=float32, numpy=0.16228166>, <tf.Tensor: shape=(), dtype=float32, numpy=0.1620698>, <tf.Tensor: shape=(), dtype=float32, numpy=0.1630093>, <tf.Tensor: shape=(), dtype=float32, numpy=0.16528776>, <tf.Tensor: shape=(), dtype=float32, numpy=0.16188636>, <tf.Tensor: shape=(), dtype=float32, numpy=0.1590814>, <tf.Tensor: shape=(), dtype=float32, numpy=0.15721971>, <tf.Tensor: shape=(), dtype=float32, numpy=0.15719411>, <tf.Tensor: shape=(), dtype=float32, numpy=0.15780194>, <tf.Tensor: shape=(), dtype=float32, numpy=0.15966299>, <tf.Tensor: shape=(), dtype=float32, numpy=0.1590278>, <tf.Tensor: shape=(), dtype=float32, numpy=0.16164424>, <tf.Tensor: shape=(), dtype=float32, numpy=0.16054808>, <tf.Tensor: shape=(), dtype=float32, numpy=0.15471782>, <tf.Tensor: shape=(), dtype=float32, numpy=0.15472807>, <tf.Tensor: shape=(), dtype=float32, numpy=0.15496059>, <tf.Tensor: shape=(), dtype=float32, numpy=0.15967888>, <tf.Tensor: shape=(), dtype=float32, numpy=0.15842704>, <tf.Tensor: shape=(), dtype=float32, numpy=0.15263829>, <tf.Tensor: shape=(), dtype=float32, numpy=0.15509036>, <tf.Tensor: shape=(), dtype=float32, numpy=0.15265994>, <tf.Tensor: shape=(), dtype=float32, numpy=0.15555167>, <tf.Tensor: shape=(), dtype=float32, numpy=0.15314604>, <tf.Tensor: shape=(), dtype=float32, numpy=0.15200998>, <tf.Tensor: shape=(), dtype=float32, numpy=0.15288739>, <tf.Tensor: shape=(), dtype=float32, numpy=0.15349264>, <tf.Tensor: shape=(), dtype=float32, numpy=0.14762923>, <tf.Tensor: shape=(), dtype=float32, numpy=0.14533085>, <tf.Tensor: shape=(), dtype=float32, numpy=0.14640762>, <tf.Tensor: shape=(), dtype=float32, numpy=0.14473316>, <tf.Tensor: shape=(), dtype=float32, numpy=0.14218327>, <tf.Tensor: shape=(), dtype=float32, numpy=0.14253917>, <tf.Tensor: shape=(), dtype=float32, numpy=0.14725387>, <tf.Tensor: shape=(), dtype=float32, numpy=0.14250149>, <tf.Tensor: shape=(), dtype=float32, numpy=0.14312047>, <tf.Tensor: shape=(), dtype=float32, numpy=0.13803694>, <tf.Tensor: shape=(), dtype=float32, numpy=0.1340454>, <tf.Tensor: shape=(), dtype=float32, numpy=0.1351206>, <tf.Tensor: shape=(), dtype=float32, numpy=0.13586219>, <tf.Tensor: shape=(), dtype=float32, numpy=0.13184248>]\n"
          ],
          "name": "stdout"
        }
      ]
    },
    {
      "cell_type": "markdown",
      "metadata": {
        "id": "mjNP9MVnXh70",
        "colab_type": "text"
      },
      "source": [
        "## Supervised Model"
      ]
    },
    {
      "cell_type": "code",
      "metadata": {
        "id": "75sUHqNWhL2w",
        "colab_type": "code",
        "colab": {}
      },
      "source": [
        "def supervised_model():\n",
        "\tinputs = Input((IMG_SHAPE, IMG_SHAPE, 3))\n",
        "\tencoder_r.trainable = False\n",
        "\n",
        "\tr = encoder_r(inputs, training=False)\n",
        "\toutputs = Dense(5, activation='softmax')(r)\n",
        "\n",
        "\tsupervised_model = Model(inputs, outputs)\n",
        "  \n",
        "\treturn supervised_model\n"
      ],
      "execution_count": 0,
      "outputs": []
    },
    {
      "cell_type": "code",
      "metadata": {
        "id": "NUSXKJkF_usq",
        "colab_type": "code",
        "colab": {}
      },
      "source": [
        "from wandb.keras import WandbCallback"
      ],
      "execution_count": 0,
      "outputs": []
    },
    {
      "cell_type": "code",
      "metadata": {
        "id": "LZCh98hILP17",
        "colab_type": "code",
        "colab": {}
      },
      "source": [
        "optimizer2 = tf.keras.optimizers.Adam(learning_rate=0.001)"
      ],
      "execution_count": 0,
      "outputs": []
    },
    {
      "cell_type": "code",
      "metadata": {
        "id": "UykiFth692EM",
        "colab_type": "code",
        "outputId": "0219f27f-d2bc-4613-cb1b-bcc3da0d57c9",
        "colab": {
          "base_uri": "https://localhost:8080/",
          "height": 1000
        }
      },
      "source": [
        "supervised_classifier = supervised_model()\n",
        "\n",
        "supervised_classifier.compile(optimizer=optimizer2,\n",
        "\tloss=tf.keras.losses.SparseCategoricalCrossentropy(),\n",
        "\tmetrics=[tf.keras.metrics.SparseCategoricalAccuracy()])\n",
        "\n",
        "es = tf.keras.callbacks.EarlyStopping(monitor=\"val_loss\", patience=2,\n",
        "\trestore_best_weights=True, verbose=2)\n",
        "\n",
        "#wandb.init(project=\"scl\", entity=\"authors\",id='F')\n",
        "\n",
        "\n",
        "supervised_classifier.fit(train_ds,\n",
        "\tvalidation_data=validation_ds,\n",
        "\tepochs=100,\n",
        "\tcallbacks=[es])"
      ],
      "execution_count": 0,
      "outputs": [
        {
          "output_type": "stream",
          "text": [
            "Epoch 1/100\n",
            "20/20 [==============================] - 2s 122ms/step - loss: 1.5952 - sparse_categorical_accuracy: 0.3024 - val_loss: 1.5828 - val_sparse_categorical_accuracy: 0.3240\n",
            "Epoch 2/100\n",
            "20/20 [==============================] - 2s 116ms/step - loss: 1.5611 - sparse_categorical_accuracy: 0.4248 - val_loss: 1.5569 - val_sparse_categorical_accuracy: 0.4400\n",
            "Epoch 3/100\n",
            "20/20 [==============================] - 2s 118ms/step - loss: 1.5307 - sparse_categorical_accuracy: 0.5016 - val_loss: 1.5333 - val_sparse_categorical_accuracy: 0.4840\n",
            "Epoch 4/100\n",
            "20/20 [==============================] - 2s 114ms/step - loss: 1.5014 - sparse_categorical_accuracy: 0.5504 - val_loss: 1.5113 - val_sparse_categorical_accuracy: 0.5040\n",
            "Epoch 5/100\n",
            "20/20 [==============================] - 2s 118ms/step - loss: 1.4756 - sparse_categorical_accuracy: 0.5608 - val_loss: 1.4905 - val_sparse_categorical_accuracy: 0.5280\n",
            "Epoch 6/100\n",
            "20/20 [==============================] - 2s 114ms/step - loss: 1.4471 - sparse_categorical_accuracy: 0.5848 - val_loss: 1.4706 - val_sparse_categorical_accuracy: 0.5280\n",
            "Epoch 7/100\n",
            "20/20 [==============================] - 2s 116ms/step - loss: 1.4241 - sparse_categorical_accuracy: 0.5824 - val_loss: 1.4519 - val_sparse_categorical_accuracy: 0.5200\n",
            "Epoch 8/100\n",
            "20/20 [==============================] - 2s 116ms/step - loss: 1.4019 - sparse_categorical_accuracy: 0.5976 - val_loss: 1.4348 - val_sparse_categorical_accuracy: 0.5240\n",
            "Epoch 9/100\n",
            "20/20 [==============================] - 2s 114ms/step - loss: 1.3788 - sparse_categorical_accuracy: 0.5936 - val_loss: 1.4187 - val_sparse_categorical_accuracy: 0.5280\n",
            "Epoch 10/100\n",
            "20/20 [==============================] - 2s 115ms/step - loss: 1.3579 - sparse_categorical_accuracy: 0.5992 - val_loss: 1.4036 - val_sparse_categorical_accuracy: 0.5160\n",
            "Epoch 11/100\n",
            "20/20 [==============================] - 2s 118ms/step - loss: 1.3372 - sparse_categorical_accuracy: 0.6016 - val_loss: 1.3893 - val_sparse_categorical_accuracy: 0.5200\n",
            "Epoch 12/100\n",
            "20/20 [==============================] - 2s 118ms/step - loss: 1.3206 - sparse_categorical_accuracy: 0.6032 - val_loss: 1.3761 - val_sparse_categorical_accuracy: 0.5240\n",
            "Epoch 13/100\n",
            "20/20 [==============================] - 2s 114ms/step - loss: 1.3014 - sparse_categorical_accuracy: 0.6024 - val_loss: 1.3635 - val_sparse_categorical_accuracy: 0.5280\n",
            "Epoch 14/100\n",
            "20/20 [==============================] - 2s 114ms/step - loss: 1.2859 - sparse_categorical_accuracy: 0.6104 - val_loss: 1.3518 - val_sparse_categorical_accuracy: 0.5320\n",
            "Epoch 15/100\n",
            "20/20 [==============================] - 2s 115ms/step - loss: 1.2681 - sparse_categorical_accuracy: 0.6112 - val_loss: 1.3408 - val_sparse_categorical_accuracy: 0.5320\n",
            "Epoch 16/100\n",
            "20/20 [==============================] - 2s 117ms/step - loss: 1.2572 - sparse_categorical_accuracy: 0.6144 - val_loss: 1.3305 - val_sparse_categorical_accuracy: 0.5320\n",
            "Epoch 17/100\n",
            "20/20 [==============================] - 2s 114ms/step - loss: 1.2402 - sparse_categorical_accuracy: 0.6160 - val_loss: 1.3210 - val_sparse_categorical_accuracy: 0.5360\n",
            "Epoch 18/100\n",
            "20/20 [==============================] - 2s 112ms/step - loss: 1.2242 - sparse_categorical_accuracy: 0.6256 - val_loss: 1.3119 - val_sparse_categorical_accuracy: 0.5320\n",
            "Epoch 19/100\n",
            "20/20 [==============================] - 2s 115ms/step - loss: 1.2156 - sparse_categorical_accuracy: 0.6160 - val_loss: 1.3032 - val_sparse_categorical_accuracy: 0.5320\n",
            "Epoch 20/100\n",
            "20/20 [==============================] - 2s 115ms/step - loss: 1.1993 - sparse_categorical_accuracy: 0.6240 - val_loss: 1.2952 - val_sparse_categorical_accuracy: 0.5360\n",
            "Epoch 21/100\n",
            "20/20 [==============================] - 2s 115ms/step - loss: 1.1899 - sparse_categorical_accuracy: 0.6160 - val_loss: 1.2876 - val_sparse_categorical_accuracy: 0.5360\n",
            "Epoch 22/100\n",
            "20/20 [==============================] - 2s 117ms/step - loss: 1.1788 - sparse_categorical_accuracy: 0.6248 - val_loss: 1.2805 - val_sparse_categorical_accuracy: 0.5400\n",
            "Epoch 23/100\n",
            "20/20 [==============================] - 2s 115ms/step - loss: 1.1715 - sparse_categorical_accuracy: 0.6232 - val_loss: 1.2739 - val_sparse_categorical_accuracy: 0.5440\n",
            "Epoch 24/100\n",
            "20/20 [==============================] - 2s 114ms/step - loss: 1.1548 - sparse_categorical_accuracy: 0.6320 - val_loss: 1.2675 - val_sparse_categorical_accuracy: 0.5400\n",
            "Epoch 25/100\n",
            "20/20 [==============================] - 2s 116ms/step - loss: 1.1499 - sparse_categorical_accuracy: 0.6208 - val_loss: 1.2617 - val_sparse_categorical_accuracy: 0.5480\n",
            "Epoch 26/100\n",
            "20/20 [==============================] - 2s 115ms/step - loss: 1.1475 - sparse_categorical_accuracy: 0.6240 - val_loss: 1.2564 - val_sparse_categorical_accuracy: 0.5440\n",
            "Epoch 27/100\n",
            "20/20 [==============================] - 2s 116ms/step - loss: 1.1296 - sparse_categorical_accuracy: 0.6304 - val_loss: 1.2513 - val_sparse_categorical_accuracy: 0.5360\n",
            "Epoch 28/100\n",
            "20/20 [==============================] - 2s 117ms/step - loss: 1.1225 - sparse_categorical_accuracy: 0.6264 - val_loss: 1.2465 - val_sparse_categorical_accuracy: 0.5360\n",
            "Epoch 29/100\n",
            "20/20 [==============================] - 2s 113ms/step - loss: 1.1210 - sparse_categorical_accuracy: 0.6232 - val_loss: 1.2418 - val_sparse_categorical_accuracy: 0.5280\n",
            "Epoch 30/100\n",
            "20/20 [==============================] - 2s 115ms/step - loss: 1.1093 - sparse_categorical_accuracy: 0.6312 - val_loss: 1.2374 - val_sparse_categorical_accuracy: 0.5280\n",
            "Epoch 31/100\n",
            "20/20 [==============================] - 2s 115ms/step - loss: 1.0972 - sparse_categorical_accuracy: 0.6352 - val_loss: 1.2333 - val_sparse_categorical_accuracy: 0.5280\n",
            "Epoch 32/100\n",
            "20/20 [==============================] - 2s 115ms/step - loss: 1.0954 - sparse_categorical_accuracy: 0.6264 - val_loss: 1.2295 - val_sparse_categorical_accuracy: 0.5320\n",
            "Epoch 33/100\n",
            "20/20 [==============================] - 2s 115ms/step - loss: 1.0876 - sparse_categorical_accuracy: 0.6376 - val_loss: 1.2260 - val_sparse_categorical_accuracy: 0.5320\n",
            "Epoch 34/100\n",
            "20/20 [==============================] - 2s 117ms/step - loss: 1.0822 - sparse_categorical_accuracy: 0.6312 - val_loss: 1.2225 - val_sparse_categorical_accuracy: 0.5320\n",
            "Epoch 35/100\n",
            "20/20 [==============================] - 2s 115ms/step - loss: 1.0723 - sparse_categorical_accuracy: 0.6448 - val_loss: 1.2192 - val_sparse_categorical_accuracy: 0.5360\n",
            "Epoch 36/100\n",
            "20/20 [==============================] - 2s 116ms/step - loss: 1.0668 - sparse_categorical_accuracy: 0.6408 - val_loss: 1.2163 - val_sparse_categorical_accuracy: 0.5360\n",
            "Epoch 37/100\n",
            "20/20 [==============================] - 2s 117ms/step - loss: 1.0580 - sparse_categorical_accuracy: 0.6344 - val_loss: 1.2135 - val_sparse_categorical_accuracy: 0.5360\n",
            "Epoch 38/100\n",
            "20/20 [==============================] - 2s 117ms/step - loss: 1.0479 - sparse_categorical_accuracy: 0.6456 - val_loss: 1.2108 - val_sparse_categorical_accuracy: 0.5440\n",
            "Epoch 39/100\n",
            "20/20 [==============================] - 2s 116ms/step - loss: 1.0550 - sparse_categorical_accuracy: 0.6392 - val_loss: 1.2083 - val_sparse_categorical_accuracy: 0.5440\n",
            "Epoch 40/100\n",
            "20/20 [==============================] - 2s 115ms/step - loss: 1.0452 - sparse_categorical_accuracy: 0.6376 - val_loss: 1.2057 - val_sparse_categorical_accuracy: 0.5480\n",
            "Epoch 41/100\n",
            "20/20 [==============================] - 2s 114ms/step - loss: 1.0376 - sparse_categorical_accuracy: 0.6384 - val_loss: 1.2033 - val_sparse_categorical_accuracy: 0.5520\n",
            "Epoch 42/100\n",
            "20/20 [==============================] - 2s 117ms/step - loss: 1.0375 - sparse_categorical_accuracy: 0.6448 - val_loss: 1.2012 - val_sparse_categorical_accuracy: 0.5520\n",
            "Epoch 43/100\n",
            "20/20 [==============================] - 2s 116ms/step - loss: 1.0288 - sparse_categorical_accuracy: 0.6464 - val_loss: 1.1992 - val_sparse_categorical_accuracy: 0.5520\n",
            "Epoch 44/100\n",
            "20/20 [==============================] - 2s 116ms/step - loss: 1.0227 - sparse_categorical_accuracy: 0.6512 - val_loss: 1.1972 - val_sparse_categorical_accuracy: 0.5520\n",
            "Epoch 45/100\n",
            "20/20 [==============================] - 2s 114ms/step - loss: 1.0199 - sparse_categorical_accuracy: 0.6464 - val_loss: 1.1954 - val_sparse_categorical_accuracy: 0.5520\n",
            "Epoch 46/100\n",
            "20/20 [==============================] - 2s 115ms/step - loss: 1.0198 - sparse_categorical_accuracy: 0.6488 - val_loss: 1.1936 - val_sparse_categorical_accuracy: 0.5520\n",
            "Epoch 47/100\n",
            "20/20 [==============================] - 2s 114ms/step - loss: 1.0111 - sparse_categorical_accuracy: 0.6448 - val_loss: 1.1920 - val_sparse_categorical_accuracy: 0.5400\n",
            "Epoch 48/100\n",
            "20/20 [==============================] - 2s 115ms/step - loss: 1.0047 - sparse_categorical_accuracy: 0.6528 - val_loss: 1.1903 - val_sparse_categorical_accuracy: 0.5440\n",
            "Epoch 49/100\n",
            "20/20 [==============================] - 2s 120ms/step - loss: 1.0075 - sparse_categorical_accuracy: 0.6464 - val_loss: 1.1888 - val_sparse_categorical_accuracy: 0.5400\n",
            "Epoch 50/100\n",
            "20/20 [==============================] - 2s 118ms/step - loss: 1.0026 - sparse_categorical_accuracy: 0.6536 - val_loss: 1.1875 - val_sparse_categorical_accuracy: 0.5440\n",
            "Epoch 51/100\n",
            "20/20 [==============================] - 2s 117ms/step - loss: 0.9928 - sparse_categorical_accuracy: 0.6544 - val_loss: 1.1863 - val_sparse_categorical_accuracy: 0.5440\n",
            "Epoch 52/100\n",
            "20/20 [==============================] - 2s 117ms/step - loss: 0.9912 - sparse_categorical_accuracy: 0.6576 - val_loss: 1.1851 - val_sparse_categorical_accuracy: 0.5440\n",
            "Epoch 53/100\n",
            "20/20 [==============================] - 2s 114ms/step - loss: 0.9975 - sparse_categorical_accuracy: 0.6576 - val_loss: 1.1839 - val_sparse_categorical_accuracy: 0.5440\n",
            "Epoch 54/100\n",
            "20/20 [==============================] - 2s 115ms/step - loss: 0.9758 - sparse_categorical_accuracy: 0.6632 - val_loss: 1.1828 - val_sparse_categorical_accuracy: 0.5440\n",
            "Epoch 55/100\n",
            "20/20 [==============================] - 2s 114ms/step - loss: 0.9846 - sparse_categorical_accuracy: 0.6616 - val_loss: 1.1816 - val_sparse_categorical_accuracy: 0.5480\n",
            "Epoch 56/100\n",
            "20/20 [==============================] - 2s 114ms/step - loss: 0.9812 - sparse_categorical_accuracy: 0.6504 - val_loss: 1.1809 - val_sparse_categorical_accuracy: 0.5480\n",
            "Epoch 57/100\n",
            "20/20 [==============================] - 2s 117ms/step - loss: 0.9733 - sparse_categorical_accuracy: 0.6568 - val_loss: 1.1802 - val_sparse_categorical_accuracy: 0.5480\n",
            "Epoch 58/100\n",
            "20/20 [==============================] - 2s 116ms/step - loss: 0.9694 - sparse_categorical_accuracy: 0.6616 - val_loss: 1.1793 - val_sparse_categorical_accuracy: 0.5480\n",
            "Epoch 59/100\n",
            "20/20 [==============================] - 2s 115ms/step - loss: 0.9687 - sparse_categorical_accuracy: 0.6568 - val_loss: 1.1786 - val_sparse_categorical_accuracy: 0.5480\n",
            "Epoch 60/100\n",
            "20/20 [==============================] - 2s 115ms/step - loss: 0.9623 - sparse_categorical_accuracy: 0.6608 - val_loss: 1.1780 - val_sparse_categorical_accuracy: 0.5480\n",
            "Epoch 61/100\n",
            "20/20 [==============================] - 2s 114ms/step - loss: 0.9677 - sparse_categorical_accuracy: 0.6632 - val_loss: 1.1774 - val_sparse_categorical_accuracy: 0.5480\n",
            "Epoch 62/100\n",
            "20/20 [==============================] - 2s 111ms/step - loss: 0.9573 - sparse_categorical_accuracy: 0.6624 - val_loss: 1.1768 - val_sparse_categorical_accuracy: 0.5480\n",
            "Epoch 63/100\n",
            "20/20 [==============================] - 2s 115ms/step - loss: 0.9572 - sparse_categorical_accuracy: 0.6664 - val_loss: 1.1761 - val_sparse_categorical_accuracy: 0.5480\n",
            "Epoch 64/100\n",
            "20/20 [==============================] - 2s 116ms/step - loss: 0.9586 - sparse_categorical_accuracy: 0.6584 - val_loss: 1.1756 - val_sparse_categorical_accuracy: 0.5480\n",
            "Epoch 65/100\n",
            "20/20 [==============================] - 2s 114ms/step - loss: 0.9507 - sparse_categorical_accuracy: 0.6608 - val_loss: 1.1752 - val_sparse_categorical_accuracy: 0.5480\n",
            "Epoch 66/100\n",
            "20/20 [==============================] - 2s 118ms/step - loss: 0.9392 - sparse_categorical_accuracy: 0.6712 - val_loss: 1.1746 - val_sparse_categorical_accuracy: 0.5440\n",
            "Epoch 67/100\n",
            "20/20 [==============================] - 2s 115ms/step - loss: 0.9391 - sparse_categorical_accuracy: 0.6720 - val_loss: 1.1742 - val_sparse_categorical_accuracy: 0.5440\n",
            "Epoch 68/100\n",
            "20/20 [==============================] - 2s 115ms/step - loss: 0.9476 - sparse_categorical_accuracy: 0.6664 - val_loss: 1.1738 - val_sparse_categorical_accuracy: 0.5440\n",
            "Epoch 69/100\n",
            "20/20 [==============================] - 2s 114ms/step - loss: 0.9433 - sparse_categorical_accuracy: 0.6624 - val_loss: 1.1735 - val_sparse_categorical_accuracy: 0.5440\n",
            "Epoch 70/100\n",
            "20/20 [==============================] - 2s 116ms/step - loss: 0.9425 - sparse_categorical_accuracy: 0.6640 - val_loss: 1.1732 - val_sparse_categorical_accuracy: 0.5440\n",
            "Epoch 71/100\n",
            "20/20 [==============================] - 2s 115ms/step - loss: 0.9395 - sparse_categorical_accuracy: 0.6592 - val_loss: 1.1729 - val_sparse_categorical_accuracy: 0.5440\n",
            "Epoch 72/100\n",
            "20/20 [==============================] - 3s 142ms/step - loss: 0.9302 - sparse_categorical_accuracy: 0.6800 - val_loss: 1.1726 - val_sparse_categorical_accuracy: 0.5480\n",
            "Epoch 73/100\n",
            "20/20 [==============================] - 2s 120ms/step - loss: 0.9331 - sparse_categorical_accuracy: 0.6688 - val_loss: 1.1723 - val_sparse_categorical_accuracy: 0.5480\n",
            "Epoch 74/100\n",
            "20/20 [==============================] - 2s 118ms/step - loss: 0.9359 - sparse_categorical_accuracy: 0.6656 - val_loss: 1.1720 - val_sparse_categorical_accuracy: 0.5480\n",
            "Epoch 75/100\n",
            "20/20 [==============================] - 2s 114ms/step - loss: 0.9247 - sparse_categorical_accuracy: 0.6720 - val_loss: 1.1716 - val_sparse_categorical_accuracy: 0.5480\n",
            "Epoch 76/100\n",
            "20/20 [==============================] - 2s 116ms/step - loss: 0.9284 - sparse_categorical_accuracy: 0.6600 - val_loss: 1.1714 - val_sparse_categorical_accuracy: 0.5480\n",
            "Epoch 77/100\n",
            "20/20 [==============================] - 2s 116ms/step - loss: 0.9188 - sparse_categorical_accuracy: 0.6712 - val_loss: 1.1711 - val_sparse_categorical_accuracy: 0.5480\n",
            "Epoch 78/100\n",
            "20/20 [==============================] - 2s 118ms/step - loss: 0.9295 - sparse_categorical_accuracy: 0.6752 - val_loss: 1.1711 - val_sparse_categorical_accuracy: 0.5480\n",
            "Epoch 79/100\n",
            "20/20 [==============================] - 2s 115ms/step - loss: 0.9227 - sparse_categorical_accuracy: 0.6680 - val_loss: 1.1712 - val_sparse_categorical_accuracy: 0.5480\n",
            "Epoch 80/100\n",
            "19/20 [===========================>..] - ETA: 0s - loss: 0.9161 - sparse_categorical_accuracy: 0.6768Restoring model weights from the end of the best epoch.\n",
            "20/20 [==============================] - 2s 116ms/step - loss: 0.9107 - sparse_categorical_accuracy: 0.6800 - val_loss: 1.1713 - val_sparse_categorical_accuracy: 0.5440\n",
            "Epoch 00080: early stopping\n"
          ],
          "name": "stdout"
        },
        {
          "output_type": "execute_result",
          "data": {
            "text/plain": [
              "<tensorflow.python.keras.callbacks.History at 0x7fbdac3c57f0>"
            ]
          },
          "metadata": {
            "tags": []
          },
          "execution_count": 64
        }
      ]
    },
    {
      "cell_type": "code",
      "metadata": {
        "id": "h0H9luodE9gu",
        "colab_type": "code",
        "colab": {}
      },
      "source": [
        ""
      ],
      "execution_count": 0,
      "outputs": []
    }
  ]
}