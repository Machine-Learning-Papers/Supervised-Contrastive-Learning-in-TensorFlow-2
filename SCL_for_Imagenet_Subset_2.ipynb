{
  "nbformat": 4,
  "nbformat_minor": 0,
  "metadata": {
    "colab": {
      "name": "SCL_for_Imagenet_Subset_2.ipynb",
      "provenance": [],
      "toc_visible": true
    },
    "kernelspec": {
      "display_name": "Python 3",
      "name": "python3"
    },
    "accelerator": "GPU",
    "widgets": {
      "application/vnd.jupyter.widget-state+json": {
        "7c3cea78d7f64803941e97f7cbeb5253": {
          "model_module": "@jupyter-widgets/controls",
          "model_name": "HBoxModel",
          "state": {
            "_view_name": "HBoxView",
            "_dom_classes": [],
            "_model_name": "HBoxModel",
            "_view_module": "@jupyter-widgets/controls",
            "_model_module_version": "1.5.0",
            "_view_count": null,
            "_view_module_version": "1.5.0",
            "box_style": "",
            "layout": "IPY_MODEL_f9d89319b619412aa23110fea077c4a9",
            "_model_module": "@jupyter-widgets/controls",
            "children": [
              "IPY_MODEL_29f84b371c5a48eda8500f0a0e654547",
              "IPY_MODEL_af1e34707e1d47d7a91e06c2104d195f"
            ]
          }
        },
        "f9d89319b619412aa23110fea077c4a9": {
          "model_module": "@jupyter-widgets/base",
          "model_name": "LayoutModel",
          "state": {
            "_view_name": "LayoutView",
            "grid_template_rows": null,
            "right": null,
            "justify_content": null,
            "_view_module": "@jupyter-widgets/base",
            "overflow": null,
            "_model_module_version": "1.2.0",
            "_view_count": null,
            "flex_flow": null,
            "width": null,
            "min_width": null,
            "border": null,
            "align_items": null,
            "bottom": null,
            "_model_module": "@jupyter-widgets/base",
            "top": null,
            "grid_column": null,
            "overflow_y": null,
            "overflow_x": null,
            "grid_auto_flow": null,
            "grid_area": null,
            "grid_template_columns": null,
            "flex": null,
            "_model_name": "LayoutModel",
            "justify_items": null,
            "grid_row": null,
            "max_height": null,
            "align_content": null,
            "visibility": null,
            "align_self": null,
            "height": null,
            "min_height": null,
            "padding": null,
            "grid_auto_rows": null,
            "grid_gap": null,
            "max_width": null,
            "order": null,
            "_view_module_version": "1.2.0",
            "grid_template_areas": null,
            "object_position": null,
            "object_fit": null,
            "grid_auto_columns": null,
            "margin": null,
            "display": null,
            "left": null
          }
        },
        "29f84b371c5a48eda8500f0a0e654547": {
          "model_module": "@jupyter-widgets/controls",
          "model_name": "FloatProgressModel",
          "state": {
            "_view_name": "ProgressView",
            "style": "IPY_MODEL_d51604ae6fc24f61a204410c5853d506",
            "_dom_classes": [],
            "description": "100%",
            "_model_name": "FloatProgressModel",
            "bar_style": "success",
            "max": 80,
            "_view_module": "@jupyter-widgets/controls",
            "_model_module_version": "1.5.0",
            "value": 80,
            "_view_count": null,
            "_view_module_version": "1.5.0",
            "orientation": "horizontal",
            "min": 0,
            "description_tooltip": null,
            "_model_module": "@jupyter-widgets/controls",
            "layout": "IPY_MODEL_93ea9652ef984af89fa580a1ebada7a2"
          }
        },
        "af1e34707e1d47d7a91e06c2104d195f": {
          "model_module": "@jupyter-widgets/controls",
          "model_name": "HTMLModel",
          "state": {
            "_view_name": "HTMLView",
            "style": "IPY_MODEL_067c51422d8444588e68a746681057fa",
            "_dom_classes": [],
            "description": "",
            "_model_name": "HTMLModel",
            "placeholder": "​",
            "_view_module": "@jupyter-widgets/controls",
            "_model_module_version": "1.5.0",
            "value": " 80/80 [04:02&lt;00:00,  3.03s/it]",
            "_view_count": null,
            "_view_module_version": "1.5.0",
            "description_tooltip": null,
            "_model_module": "@jupyter-widgets/controls",
            "layout": "IPY_MODEL_0e2a919f638c449f81a0ddd18eb54208"
          }
        },
        "d51604ae6fc24f61a204410c5853d506": {
          "model_module": "@jupyter-widgets/controls",
          "model_name": "ProgressStyleModel",
          "state": {
            "_view_name": "StyleView",
            "_model_name": "ProgressStyleModel",
            "description_width": "initial",
            "_view_module": "@jupyter-widgets/base",
            "_model_module_version": "1.5.0",
            "_view_count": null,
            "_view_module_version": "1.2.0",
            "bar_color": null,
            "_model_module": "@jupyter-widgets/controls"
          }
        },
        "93ea9652ef984af89fa580a1ebada7a2": {
          "model_module": "@jupyter-widgets/base",
          "model_name": "LayoutModel",
          "state": {
            "_view_name": "LayoutView",
            "grid_template_rows": null,
            "right": null,
            "justify_content": null,
            "_view_module": "@jupyter-widgets/base",
            "overflow": null,
            "_model_module_version": "1.2.0",
            "_view_count": null,
            "flex_flow": null,
            "width": null,
            "min_width": null,
            "border": null,
            "align_items": null,
            "bottom": null,
            "_model_module": "@jupyter-widgets/base",
            "top": null,
            "grid_column": null,
            "overflow_y": null,
            "overflow_x": null,
            "grid_auto_flow": null,
            "grid_area": null,
            "grid_template_columns": null,
            "flex": null,
            "_model_name": "LayoutModel",
            "justify_items": null,
            "grid_row": null,
            "max_height": null,
            "align_content": null,
            "visibility": null,
            "align_self": null,
            "height": null,
            "min_height": null,
            "padding": null,
            "grid_auto_rows": null,
            "grid_gap": null,
            "max_width": null,
            "order": null,
            "_view_module_version": "1.2.0",
            "grid_template_areas": null,
            "object_position": null,
            "object_fit": null,
            "grid_auto_columns": null,
            "margin": null,
            "display": null,
            "left": null
          }
        },
        "067c51422d8444588e68a746681057fa": {
          "model_module": "@jupyter-widgets/controls",
          "model_name": "DescriptionStyleModel",
          "state": {
            "_view_name": "StyleView",
            "_model_name": "DescriptionStyleModel",
            "description_width": "",
            "_view_module": "@jupyter-widgets/base",
            "_model_module_version": "1.5.0",
            "_view_count": null,
            "_view_module_version": "1.2.0",
            "_model_module": "@jupyter-widgets/controls"
          }
        },
        "0e2a919f638c449f81a0ddd18eb54208": {
          "model_module": "@jupyter-widgets/base",
          "model_name": "LayoutModel",
          "state": {
            "_view_name": "LayoutView",
            "grid_template_rows": null,
            "right": null,
            "justify_content": null,
            "_view_module": "@jupyter-widgets/base",
            "overflow": null,
            "_model_module_version": "1.2.0",
            "_view_count": null,
            "flex_flow": null,
            "width": null,
            "min_width": null,
            "border": null,
            "align_items": null,
            "bottom": null,
            "_model_module": "@jupyter-widgets/base",
            "top": null,
            "grid_column": null,
            "overflow_y": null,
            "overflow_x": null,
            "grid_auto_flow": null,
            "grid_area": null,
            "grid_template_columns": null,
            "flex": null,
            "_model_name": "LayoutModel",
            "justify_items": null,
            "grid_row": null,
            "max_height": null,
            "align_content": null,
            "visibility": null,
            "align_self": null,
            "height": null,
            "min_height": null,
            "padding": null,
            "grid_auto_rows": null,
            "grid_gap": null,
            "max_width": null,
            "order": null,
            "_view_module_version": "1.2.0",
            "grid_template_areas": null,
            "object_position": null,
            "object_fit": null,
            "grid_auto_columns": null,
            "margin": null,
            "display": null,
            "left": null
          }
        }
      }
    }
  },
  "cells": [
    {
      "cell_type": "markdown",
      "metadata": {
        "id": "0j-TQLq1_84S",
        "colab_type": "text"
      },
      "source": [
        "## References:\n",
        "- https://arxiv.org/pdf/2004.11362.pdf\n",
        "- https://towardsdatascience.com/contrastive-loss-for-supervised-classification-224ae35692e7"
      ]
    },
    {
      "cell_type": "markdown",
      "metadata": {
        "id": "5Bk9fkKLBmTO",
        "colab_type": "text"
      },
      "source": [
        "## Initial setup"
      ]
    },
    {
      "cell_type": "code",
      "metadata": {
        "colab_type": "code",
        "id": "lIYdn1woOS1n",
        "colab": {}
      },
      "source": [
        "import tensorflow as tf\n",
        "print(tf.__version__)"
      ],
      "execution_count": 0,
      "outputs": []
    },
    {
      "cell_type": "code",
      "metadata": {
        "id": "3_eMx9da2wrn",
        "colab_type": "code",
        "colab": {}
      },
      "source": [
        "!pip install wandb\n",
        "import wandb\n",
        "wandb.login()"
      ],
      "execution_count": 0,
      "outputs": []
    },
    {
      "cell_type": "code",
      "metadata": {
        "id": "mQm3mkRV4Kdb",
        "colab_type": "code",
        "colab": {}
      },
      "source": [
        "!wget https://raw.githubusercontent.com/wangz10/contrastive_loss/master/losses.py"
      ],
      "execution_count": 0,
      "outputs": []
    },
    {
      "cell_type": "code",
      "metadata": {
        "id": "MEEKBji523SY",
        "colab_type": "code",
        "colab": {}
      },
      "source": [
        "from tensorflow.keras.layers import *\n",
        "from tensorflow.keras.models import *\n",
        "from tqdm.notebook import tqdm\n",
        "import tensorflow_datasets as tfds\n",
        "import matplotlib.pyplot as plt\n",
        "import numpy as np\n",
        "import losses\n",
        "import cv2\n",
        "from imutils import paths\n",
        "tf.random.set_seed(666)\n",
        "np.random.seed(666)\n",
        "\n"
      ],
      "execution_count": 0,
      "outputs": []
    },
    {
      "cell_type": "markdown",
      "metadata": {
        "id": "BaNA_SqCBpjt",
        "colab_type": "text"
      },
      "source": [
        "## Getting the dataset"
      ]
    },
    {
      "cell_type": "code",
      "metadata": {
        "id": "ykf_1aic78hU",
        "colab_type": "code",
        "colab": {}
      },
      "source": [
        "!git clone https://github.com/thunderInfy/imagenet-5-categories\n"
      ],
      "execution_count": 0,
      "outputs": []
    },
    {
      "cell_type": "code",
      "metadata": {
        "id": "Voo-9VIdcQGI",
        "colab_type": "code",
        "colab": {}
      },
      "source": [
        "# Train and test image paths\n",
        "train_images = list(paths.list_images(\"imagenet-5-categories/train\"))\n",
        "test_images = list(paths.list_images(\"imagenet-5-categories/test\"))\n"
      ],
      "execution_count": 0,
      "outputs": []
    },
    {
      "cell_type": "code",
      "metadata": {
        "id": "v4JrTsZ1cSQU",
        "colab_type": "code",
        "colab": {}
      },
      "source": [
        "def prepare_images(image_paths):\n",
        "    images = []\n",
        "    labels = []\n",
        "\n",
        "    for image in tqdm(image_paths):\n",
        "        image_pixels = plt.imread(image)\n",
        "        image_pixels = cv2.resize(image_pixels, (128,128))\n",
        "        image_pixels = image_pixels/255.\n",
        "\n",
        "        label = image.split(\"/\")[2].split(\"_\")[0]\n",
        "\n",
        "        images.append(image_pixels)\n",
        "        labels.append(label)\n",
        "\n",
        "    images = np.array(images)\n",
        "    labels = np.array(labels)\n",
        "\n",
        "    print(images.shape, labels.shape)\n",
        "\n",
        "    return images, labels"
      ],
      "execution_count": 0,
      "outputs": []
    },
    {
      "cell_type": "code",
      "metadata": {
        "id": "pxSwdL_sctjP",
        "colab_type": "code",
        "colab": {}
      },
      "source": [
        "\n",
        "X_train, y_train = prepare_images(train_images)\n",
        "X_test, y_test = prepare_images(test_images)"
      ],
      "execution_count": 0,
      "outputs": []
    },
    {
      "cell_type": "code",
      "metadata": {
        "id": "CJpdEJtDeD9N",
        "colab_type": "code",
        "colab": {}
      },
      "source": [
        "from sklearn import preprocessing\n",
        "le = preprocessing.LabelEncoder()\n",
        "y_train_enc = le.fit_transform(y_train)\n",
        "y_test_enc = le.transform(y_test)\n"
      ],
      "execution_count": 0,
      "outputs": []
    },
    {
      "cell_type": "code",
      "metadata": {
        "id": "aVIaQw7_F-_y",
        "colab_type": "code",
        "colab": {}
      },
      "source": [
        "train_ds=tf.data.Dataset.from_tensor_slices((X_train,y_train_enc))\n",
        "validation_ds=tf.data.Dataset.from_tensor_slices((X_test,y_test_enc))"
      ],
      "execution_count": 0,
      "outputs": []
    },
    {
      "cell_type": "code",
      "metadata": {
        "id": "e4JEqGdKWAoq",
        "colab_type": "code",
        "colab": {}
      },
      "source": [
        "def aug(image, label):\n",
        "  x = tf.image.random_hue(x, max_delta=0.4)\n",
        "  x=tf.image.random_brightness(image,max_delta=0)\n",
        "  x=tf.image.random_contrast(x,lower=0.2, upper=1.8)\n",
        "  x = tf.image.random_saturation(x, lower=0.2, upper=1.5)\n",
        "  x = tf.clip_by_value(x, 0, 1)\n",
        "\n",
        "  return x, label"
      ],
      "execution_count": 0,
      "outputs": []
    },
    {
      "cell_type": "code",
      "metadata": {
        "id": "8BCb2eiURQm6",
        "colab_type": "code",
        "colab": {}
      },
      "source": [
        "IMG_SHAPE = 128\n",
        "BS = 64\n",
        "AUTO = tf.data.experimental.AUTOTUNE\n",
        "train_ds = (\n",
        "    train_ds\n",
        "    .shuffle(100)\n",
        "    .batch(BS)\n",
        "    .map(aug, num_parallel_calls=AUTO)\n",
        "    .prefetch(AUTO)\n",
        ")\n",
        "validation_ds = (\n",
        "    validation_ds\n",
        "    .shuffle(100)\n",
        "    .batch(BS)\n",
        "    .prefetch(AUTO)\n",
        ")"
      ],
      "execution_count": 0,
      "outputs": []
    },
    {
      "cell_type": "markdown",
      "metadata": {
        "id": "ECAnGraOBvD9",
        "colab_type": "text"
      },
      "source": [
        "## Model building"
      ]
    },
    {
      "cell_type": "code",
      "metadata": {
        "id": "plwzuhfa5PVA",
        "colab_type": "code",
        "colab": {}
      },
      "source": [
        "# Reference: https://github.com/wangz10/contrastive_loss/blob/master/model.py\n",
        "class UnitNormLayer(tf.keras.layers.Layer):\n",
        "    '''Normalize vectors (euclidean norm) in batch to unit hypersphere.\n",
        "    '''\n",
        "    def __init__(self):\n",
        "        super(UnitNormLayer, self).__init__()\n",
        "\n",
        "    def call(self, input_tensor):\n",
        "        norm = tf.norm(input_tensor, axis=1)\n",
        "        return input_tensor / tf.reshape(norm, [-1, 1])"
      ],
      "execution_count": 0,
      "outputs": []
    },
    {
      "cell_type": "code",
      "metadata": {
        "id": "hlFFQwIS5SDB",
        "colab_type": "code",
        "colab": {}
      },
      "source": [
        "# Encoder Network\n",
        "def encoder_net():\n",
        "\tinputs = Input((IMG_SHAPE, IMG_SHAPE, 3))\n",
        "\tnormalization_layer = UnitNormLayer()\n",
        "\n",
        "\tencoder = tf.keras.applications.ResNet50(weights=None, include_top=False)\n",
        "\tencoder.trainable = True\n",
        "\n",
        "\tembeddings = encoder(inputs, training=True)\n",
        "\tembeddings = GlobalAveragePooling2D()(embeddings)\n",
        "\tnorm_embeddings = normalization_layer(embeddings)\n",
        "\n",
        "\tencoder_network = Model(inputs, norm_embeddings)\n",
        "\n",
        "\treturn encoder_network\n",
        "\n",
        "# Projector Network\n",
        "def projector_net():\n",
        "\tprojector = tf.keras.models.Sequential([\n",
        "\t\tDense(256, activation=\"relu\"),\n",
        "\t\tUnitNormLayer()\n",
        "\t])\n",
        "\n",
        "\treturn projector"
      ],
      "execution_count": 0,
      "outputs": []
    },
    {
      "cell_type": "markdown",
      "metadata": {
        "id": "3lRji6rrB141",
        "colab_type": "text"
      },
      "source": [
        "## Training the encoder and the projector"
      ]
    },
    {
      "cell_type": "code",
      "metadata": {
        "id": "f7e7r0xW8zlM",
        "colab_type": "code",
        "colab": {}
      },
      "source": [
        "#decay_steps = 1000\n",
        "#lr_decayed_fn = tf.keras.experimental.CosineDecay(initial_learning_rate=0.001, decay_steps=decay_steps)\n",
        "optimizer = tf.keras.optimizers.Adam(1e-3)"
      ],
      "execution_count": 0,
      "outputs": []
    },
    {
      "cell_type": "code",
      "metadata": {
        "id": "pEtX8gQY7OIE",
        "colab_type": "code",
        "colab": {}
      },
      "source": [
        "encoder_r = encoder_net()\n",
        "projector_z = projector_net()\n",
        "\n",
        "@tf.function\n",
        "def train_step(images, labels):\n",
        "\twith tf.GradientTape() as tape:\n",
        "\t\tr = encoder_r(images, training=True)\n",
        "\t\tz = projector_z(r, training=True)\n",
        "\t\tloss = losses.max_margin_contrastive_loss(z, labels)\n",
        "\n",
        "\tgradients = tape.gradient(loss, \n",
        "\t\tencoder_r.trainable_variables + projector_z.trainable_variables)\n",
        "\toptimizer.apply_gradients(zip(gradients, \n",
        "\t\tencoder_r.trainable_variables + projector_z.trainable_variables))\n",
        "\n",
        "\treturn loss"
      ],
      "execution_count": 0,
      "outputs": []
    },
    {
      "cell_type": "code",
      "metadata": {
        "id": "-tU4IovhE0Is",
        "colab_type": "code",
        "colab": {}
      },
      "source": [
        "import os\n",
        "os.environ['WANDB_DISABLE_CODE'] = 'True'\n"
      ],
      "execution_count": 0,
      "outputs": []
    },
    {
      "cell_type": "code",
      "metadata": {
        "id": "jiV_oi3D8mbw",
        "colab_type": "code",
        "outputId": "905f6b05-c30f-4177-8ac2-d9fd1da19941",
        "colab": {
          "base_uri": "https://localhost:8080/",
          "height": 508,
          "referenced_widgets": [
            "7c3cea78d7f64803941e97f7cbeb5253",
            "f9d89319b619412aa23110fea077c4a9",
            "29f84b371c5a48eda8500f0a0e654547",
            "af1e34707e1d47d7a91e06c2104d195f",
            "d51604ae6fc24f61a204410c5853d506",
            "93ea9652ef984af89fa580a1ebada7a2",
            "067c51422d8444588e68a746681057fa",
            "0e2a919f638c449f81a0ddd18eb54208"
          ]
        }
      },
      "source": [
        "import time\n",
        "\n",
        "#wandb.init(project=\"scl\", entity=\"authors\", id=\"supervised-contrastive-crctd\")\n",
        "EPOCHS = 80\n",
        "LOG_EVERY = 10\n",
        "train_loss_results = []\n",
        "\n",
        "start = time.time()\n",
        "for epoch in tqdm(range(EPOCHS)):\t\n",
        "\tepoch_loss_avg = tf.keras.metrics.Mean()\n",
        "\t\n",
        "\tfor (images, labels) in train_ds:\n",
        "\t\tloss = train_step(images, labels)\n",
        "\t\tepoch_loss_avg.update_state(loss) \n",
        "\n",
        "\ttrain_loss_results.append(epoch_loss_avg.result())\n",
        "\t#wandb.log({\"supervised_contrastive_loss\": epoch_loss_avg.result()})\n",
        "\n",
        "\tif epoch % LOG_EVERY == 0:\n",
        "\t\tprint(\"Epoch: {} Loss: {:.3f}\".format(epoch, epoch_loss_avg.result()))\n",
        "\n",
        "end = time.time()\n",
        "#wandb.log({\"training_time\": end - start})\n",
        "\n",
        "with plt.xkcd():\n",
        "    plt.plot(train_loss_results)\n",
        "    plt.title(\"Supervised Contrastive Loss\")\n",
        "    plt.show()\n",
        "print(train_loss_results)"
      ],
      "execution_count": 0,
      "outputs": [
        {
          "output_type": "display_data",
          "data": {
            "application/vnd.jupyter.widget-view+json": {
              "model_id": "7c3cea78d7f64803941e97f7cbeb5253",
              "version_minor": 0,
              "version_major": 2
            },
            "text/plain": [
              "HBox(children=(FloatProgress(value=0.0, max=80.0), HTML(value='')))"
            ]
          },
          "metadata": {
            "tags": []
          }
        },
        {
          "output_type": "stream",
          "text": [
            "Epoch: 0 Loss: 0.233\n",
            "Epoch: 10 Loss: 0.131\n",
            "Epoch: 20 Loss: 0.100\n",
            "Epoch: 30 Loss: 0.062\n",
            "Epoch: 40 Loss: 0.036\n",
            "Epoch: 50 Loss: 0.015\n",
            "Epoch: 60 Loss: 0.010\n",
            "Epoch: 70 Loss: 0.006\n",
            "\n"
          ],
          "name": "stdout"
        },
        {
          "output_type": "display_data",
          "data": {
            "image/png": "[encoded data removed]",
            "text/plain": [
              "<Figure size 432x288 with 1 Axes>"
            ]
          },
          "metadata": {
            "tags": []
          }
        },
        {
          "output_type": "stream",
          "text": [
            "[<tf.Tensor: shape=(), dtype=float32, numpy=0.23261973>, <tf.Tensor: shape=(), dtype=float32, numpy=0.16593285>, <tf.Tensor: shape=(), dtype=float32, numpy=0.15660587>, <tf.Tensor: shape=(), dtype=float32, numpy=0.14650743>, <tf.Tensor: shape=(), dtype=float32, numpy=0.1404732>, <tf.Tensor: shape=(), dtype=float32, numpy=0.14658228>, <tf.Tensor: shape=(), dtype=float32, numpy=0.13885906>, <tf.Tensor: shape=(), dtype=float32, numpy=0.13699158>, <tf.Tensor: shape=(), dtype=float32, numpy=0.13529493>, <tf.Tensor: shape=(), dtype=float32, numpy=0.12808898>, <tf.Tensor: shape=(), dtype=float32, numpy=0.13148823>, <tf.Tensor: shape=(), dtype=float32, numpy=0.122465655>, <tf.Tensor: shape=(), dtype=float32, numpy=0.1165006>, <tf.Tensor: shape=(), dtype=float32, numpy=0.12700757>, <tf.Tensor: shape=(), dtype=float32, numpy=0.12368865>, <tf.Tensor: shape=(), dtype=float32, numpy=0.1112345>, <tf.Tensor: shape=(), dtype=float32, numpy=0.11203681>, <tf.Tensor: shape=(), dtype=float32, numpy=0.10312549>, <tf.Tensor: shape=(), dtype=float32, numpy=0.101853415>, <tf.Tensor: shape=(), dtype=float32, numpy=0.108748235>, <tf.Tensor: shape=(), dtype=float32, numpy=0.100051805>, <tf.Tensor: shape=(), dtype=float32, numpy=0.09466587>, <tf.Tensor: shape=(), dtype=float32, numpy=0.098048925>, <tf.Tensor: shape=(), dtype=float32, numpy=0.08995564>, <tf.Tensor: shape=(), dtype=float32, numpy=0.086650744>, <tf.Tensor: shape=(), dtype=float32, numpy=0.08143859>, <tf.Tensor: shape=(), dtype=float32, numpy=0.08158432>, <tf.Tensor: shape=(), dtype=float32, numpy=0.07160969>, <tf.Tensor: shape=(), dtype=float32, numpy=0.08316105>, <tf.Tensor: shape=(), dtype=float32, numpy=0.07821783>, <tf.Tensor: shape=(), dtype=float32, numpy=0.062385768>, <tf.Tensor: shape=(), dtype=float32, numpy=0.05512648>, <tf.Tensor: shape=(), dtype=float32, numpy=0.05457873>, <tf.Tensor: shape=(), dtype=float32, numpy=0.059583467>, <tf.Tensor: shape=(), dtype=float32, numpy=0.048988678>, <tf.Tensor: shape=(), dtype=float32, numpy=0.05222224>, <tf.Tensor: shape=(), dtype=float32, numpy=0.048219513>, <tf.Tensor: shape=(), dtype=float32, numpy=0.033562113>, <tf.Tensor: shape=(), dtype=float32, numpy=0.033759646>, <tf.Tensor: shape=(), dtype=float32, numpy=0.029538978>, <tf.Tensor: shape=(), dtype=float32, numpy=0.036220085>, <tf.Tensor: shape=(), dtype=float32, numpy=0.029872686>, <tf.Tensor: shape=(), dtype=float32, numpy=0.03463798>, <tf.Tensor: shape=(), dtype=float32, numpy=0.028495172>, <tf.Tensor: shape=(), dtype=float32, numpy=0.034053102>, <tf.Tensor: shape=(), dtype=float32, numpy=0.035478644>, <tf.Tensor: shape=(), dtype=float32, numpy=0.028708015>, <tf.Tensor: shape=(), dtype=float32, numpy=0.02358552>, <tf.Tensor: shape=(), dtype=float32, numpy=0.018861262>, <tf.Tensor: shape=(), dtype=float32, numpy=0.016124105>, <tf.Tensor: shape=(), dtype=float32, numpy=0.015043588>, <tf.Tensor: shape=(), dtype=float32, numpy=0.012077476>, <tf.Tensor: shape=(), dtype=float32, numpy=0.014439528>, <tf.Tensor: shape=(), dtype=float32, numpy=0.016373664>, <tf.Tensor: shape=(), dtype=float32, numpy=0.020421855>, <tf.Tensor: shape=(), dtype=float32, numpy=0.01411025>, <tf.Tensor: shape=(), dtype=float32, numpy=0.017308353>, <tf.Tensor: shape=(), dtype=float32, numpy=0.02634422>, <tf.Tensor: shape=(), dtype=float32, numpy=0.022660462>, <tf.Tensor: shape=(), dtype=float32, numpy=0.0147335725>, <tf.Tensor: shape=(), dtype=float32, numpy=0.010489849>, <tf.Tensor: shape=(), dtype=float32, numpy=0.008895081>, <tf.Tensor: shape=(), dtype=float32, numpy=0.012104801>, <tf.Tensor: shape=(), dtype=float32, numpy=0.014219547>, <tf.Tensor: shape=(), dtype=float32, numpy=0.009175251>, <tf.Tensor: shape=(), dtype=float32, numpy=0.006162675>, <tf.Tensor: shape=(), dtype=float32, numpy=0.0079702735>, <tf.Tensor: shape=(), dtype=float32, numpy=0.0061054714>, <tf.Tensor: shape=(), dtype=float32, numpy=0.0050222403>, <tf.Tensor: shape=(), dtype=float32, numpy=0.008858803>, <tf.Tensor: shape=(), dtype=float32, numpy=0.005545378>, <tf.Tensor: shape=(), dtype=float32, numpy=0.0058400873>, <tf.Tensor: shape=(), dtype=float32, numpy=0.007882165>, <tf.Tensor: shape=(), dtype=float32, numpy=0.007848581>, <tf.Tensor: shape=(), dtype=float32, numpy=0.010366157>, <tf.Tensor: shape=(), dtype=float32, numpy=0.012369554>, <tf.Tensor: shape=(), dtype=float32, numpy=0.017105928>, <tf.Tensor: shape=(), dtype=float32, numpy=0.0119454255>, <tf.Tensor: shape=(), dtype=float32, numpy=0.01263837>, <tf.Tensor: shape=(), dtype=float32, numpy=0.008470115>]\n"
          ],
          "name": "stdout"
        }
      ]
    },
    {
      "cell_type": "markdown",
      "metadata": {
        "id": "mjNP9MVnXh70",
        "colab_type": "text"
      },
      "source": [
        "## Supervised Model"
      ]
    },
    {
      "cell_type": "code",
      "metadata": {
        "id": "75sUHqNWhL2w",
        "colab_type": "code",
        "colab": {}
      },
      "source": [
        "def supervised_model():\n",
        "\tinputs = Input((IMG_SHAPE, IMG_SHAPE, 3))\n",
        "\tencoder_r.trainable = False\n",
        "\n",
        "\tr = encoder_r(inputs, training=False)\n",
        "\toutputs = Dense(5, activation='softmax')(r)\n",
        "\n",
        "\tsupervised_model = Model(inputs, outputs)\n",
        "  \n",
        "\treturn supervised_model\n"
      ],
      "execution_count": 0,
      "outputs": []
    },
    {
      "cell_type": "code",
      "metadata": {
        "id": "NUSXKJkF_usq",
        "colab_type": "code",
        "colab": {}
      },
      "source": [
        "from wandb.keras import WandbCallback"
      ],
      "execution_count": 0,
      "outputs": []
    },
    {
      "cell_type": "code",
      "metadata": {
        "id": "LZCh98hILP17",
        "colab_type": "code",
        "colab": {}
      },
      "source": [
        "optimizer2 = tf.keras.optimizers.Adam(learning_rate=1e-3)"
      ],
      "execution_count": 0,
      "outputs": []
    },
    {
      "cell_type": "code",
      "metadata": {
        "id": "UykiFth692EM",
        "colab_type": "code",
        "outputId": "f204a2ec-13a8-4ad2-ec41-aa5a2438b588",
        "colab": {
          "base_uri": "https://localhost:8080/",
          "height": 423
        }
      },
      "source": [
        "supervised_classifier = supervised_model()\n",
        "\n",
        "supervised_classifier.compile(optimizer=optimizer2,\n",
        "\tloss=tf.keras.losses.SparseCategoricalCrossentropy(),\n",
        "\tmetrics=[tf.keras.metrics.SparseCategoricalAccuracy()])\n",
        "\n",
        "es = tf.keras.callbacks.EarlyStopping(monitor=\"val_loss\", patience=2,\n",
        "\trestore_best_weights=True, verbose=2)\n",
        "\n",
        "#wandb.init(project=\"scl\", entity=\"authors\",id='F')\n",
        "\n",
        "\n",
        "supervised_classifier.fit(train_ds,\n",
        "\tvalidation_data=validation_ds,\n",
        "\tepochs=100,\n",
        "\tcallbacks=[es])"
      ],
      "execution_count": 0,
      "outputs": [
        {
          "output_type": "stream",
          "text": [
            "Epoch 1/100\n",
            "20/20 [==============================] - 3s 136ms/step - loss: 1.4897 - sparse_categorical_accuracy: 0.6584 - val_loss: 1.4129 - val_sparse_categorical_accuracy: 0.6040\n",
            "Epoch 2/100\n",
            "20/20 [==============================] - 2s 97ms/step - loss: 1.2565 - sparse_categorical_accuracy: 0.7480 - val_loss: 1.2723 - val_sparse_categorical_accuracy: 0.6000\n",
            "Epoch 3/100\n",
            "20/20 [==============================] - 2s 96ms/step - loss: 1.0906 - sparse_categorical_accuracy: 0.7400 - val_loss: 1.1831 - val_sparse_categorical_accuracy: 0.5920\n",
            "Epoch 4/100\n",
            "20/20 [==============================] - 2s 94ms/step - loss: 0.9825 - sparse_categorical_accuracy: 0.7384 - val_loss: 1.1328 - val_sparse_categorical_accuracy: 0.5960\n",
            "Epoch 5/100\n",
            "20/20 [==============================] - 2s 93ms/step - loss: 0.9026 - sparse_categorical_accuracy: 0.7488 - val_loss: 1.1068 - val_sparse_categorical_accuracy: 0.5920\n",
            "Epoch 6/100\n",
            "20/20 [==============================] - 2s 94ms/step - loss: 0.8475 - sparse_categorical_accuracy: 0.7464 - val_loss: 1.0948 - val_sparse_categorical_accuracy: 0.5920\n",
            "Epoch 7/100\n",
            "20/20 [==============================] - 2s 96ms/step - loss: 0.8168 - sparse_categorical_accuracy: 0.7416 - val_loss: 1.0903 - val_sparse_categorical_accuracy: 0.5960\n",
            "Epoch 8/100\n",
            "20/20 [==============================] - 2s 95ms/step - loss: 0.8042 - sparse_categorical_accuracy: 0.7456 - val_loss: 1.0902 - val_sparse_categorical_accuracy: 0.5960\n",
            "Epoch 9/100\n",
            "20/20 [==============================] - 2s 89ms/step - loss: 0.7644 - sparse_categorical_accuracy: 0.7600 - val_loss: 1.0927 - val_sparse_categorical_accuracy: 0.6000\n",
            "Epoch 10/100\n",
            "20/20 [==============================] - ETA: 0s - loss: 0.7969 - sparse_categorical_accuracy: 0.7272Restoring model weights from the end of the best epoch.\n",
            "20/20 [==============================] - 2s 92ms/step - loss: 0.7969 - sparse_categorical_accuracy: 0.7272 - val_loss: 1.0959 - val_sparse_categorical_accuracy: 0.6000\n",
            "Epoch 00010: early stopping\n"
          ],
          "name": "stdout"
        },
        {
          "output_type": "execute_result",
          "data": {
            "text/plain": [
              "<tensorflow.python.keras.callbacks.History at 0x7faa5b08c978>"
            ]
          },
          "metadata": {
            "tags": []
          },
          "execution_count": 71
        }
      ]
    },
    {
      "cell_type": "code",
      "metadata": {
        "id": "h0H9luodE9gu",
        "colab_type": "code",
        "colab": {}
      },
      "source": [
        ""
      ],
      "execution_count": 0,
      "outputs": []
    }
  ]
}